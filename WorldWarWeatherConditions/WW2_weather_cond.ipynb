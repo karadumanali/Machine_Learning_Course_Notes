{
 "cells": [
  {
   "cell_type": "code",
   "execution_count": 1,
   "id": "affb9527-28a4-4d6c-bc81-86983ef23503",
   "metadata": {},
   "outputs": [],
   "source": [
    "import numpy as np\n",
    "import pandas as pd\n",
    "import matplotlib.pyplot as plt\n",
    "import seaborn as sns\n",
    "%matplotlib inline"
   ]
  },
  {
   "cell_type": "code",
   "execution_count": 2,
   "id": "3d5c53fa-06a0-4113-a572-3890f99ac48f",
   "metadata": {},
   "outputs": [
    {
     "name": "stderr",
     "output_type": "stream",
     "text": [
      "C:\\Users\\karaduman\\AppData\\Local\\Temp\\ipykernel_300\\3321082993.py:1: DtypeWarning: Columns (7,8,18,25) have mixed types. Specify dtype option on import or set low_memory=False.\n",
      "  data_frame = pd.read_csv(\"Summary_of_Weather.csv\")\n"
     ]
    }
   ],
   "source": [
    "data_frame = pd.read_csv(\"Summary_of_Weather.csv\")"
   ]
  },
  {
   "cell_type": "code",
   "execution_count": 3,
   "id": "a7f63b49-7aa1-4a8d-b57f-adebea3d05ea",
   "metadata": {},
   "outputs": [
    {
     "data": {
      "text/html": [
       "<div>\n",
       "<style scoped>\n",
       "    .dataframe tbody tr th:only-of-type {\n",
       "        vertical-align: middle;\n",
       "    }\n",
       "\n",
       "    .dataframe tbody tr th {\n",
       "        vertical-align: top;\n",
       "    }\n",
       "\n",
       "    .dataframe thead th {\n",
       "        text-align: right;\n",
       "    }\n",
       "</style>\n",
       "<table border=\"1\" class=\"dataframe\">\n",
       "  <thead>\n",
       "    <tr style=\"text-align: right;\">\n",
       "      <th></th>\n",
       "      <th>STA</th>\n",
       "      <th>Date</th>\n",
       "      <th>Precip</th>\n",
       "      <th>WindGustSpd</th>\n",
       "      <th>MaxTemp</th>\n",
       "      <th>MinTemp</th>\n",
       "      <th>MeanTemp</th>\n",
       "      <th>Snowfall</th>\n",
       "      <th>PoorWeather</th>\n",
       "      <th>YR</th>\n",
       "      <th>...</th>\n",
       "      <th>FB</th>\n",
       "      <th>FTI</th>\n",
       "      <th>ITH</th>\n",
       "      <th>PGT</th>\n",
       "      <th>TSHDSBRSGF</th>\n",
       "      <th>SD3</th>\n",
       "      <th>RHX</th>\n",
       "      <th>RHN</th>\n",
       "      <th>RVG</th>\n",
       "      <th>WTE</th>\n",
       "    </tr>\n",
       "  </thead>\n",
       "  <tbody>\n",
       "    <tr>\n",
       "      <th>0</th>\n",
       "      <td>10001</td>\n",
       "      <td>1942-7-1</td>\n",
       "      <td>1.016</td>\n",
       "      <td>NaN</td>\n",
       "      <td>25.555556</td>\n",
       "      <td>22.222222</td>\n",
       "      <td>23.888889</td>\n",
       "      <td>0.0</td>\n",
       "      <td>NaN</td>\n",
       "      <td>42</td>\n",
       "      <td>...</td>\n",
       "      <td>NaN</td>\n",
       "      <td>NaN</td>\n",
       "      <td>NaN</td>\n",
       "      <td>NaN</td>\n",
       "      <td>NaN</td>\n",
       "      <td>NaN</td>\n",
       "      <td>NaN</td>\n",
       "      <td>NaN</td>\n",
       "      <td>NaN</td>\n",
       "      <td>NaN</td>\n",
       "    </tr>\n",
       "    <tr>\n",
       "      <th>1</th>\n",
       "      <td>10001</td>\n",
       "      <td>1942-7-2</td>\n",
       "      <td>0</td>\n",
       "      <td>NaN</td>\n",
       "      <td>28.888889</td>\n",
       "      <td>21.666667</td>\n",
       "      <td>25.555556</td>\n",
       "      <td>0.0</td>\n",
       "      <td>NaN</td>\n",
       "      <td>42</td>\n",
       "      <td>...</td>\n",
       "      <td>NaN</td>\n",
       "      <td>NaN</td>\n",
       "      <td>NaN</td>\n",
       "      <td>NaN</td>\n",
       "      <td>NaN</td>\n",
       "      <td>NaN</td>\n",
       "      <td>NaN</td>\n",
       "      <td>NaN</td>\n",
       "      <td>NaN</td>\n",
       "      <td>NaN</td>\n",
       "    </tr>\n",
       "    <tr>\n",
       "      <th>2</th>\n",
       "      <td>10001</td>\n",
       "      <td>1942-7-3</td>\n",
       "      <td>2.54</td>\n",
       "      <td>NaN</td>\n",
       "      <td>26.111111</td>\n",
       "      <td>22.222222</td>\n",
       "      <td>24.444444</td>\n",
       "      <td>0.0</td>\n",
       "      <td>NaN</td>\n",
       "      <td>42</td>\n",
       "      <td>...</td>\n",
       "      <td>NaN</td>\n",
       "      <td>NaN</td>\n",
       "      <td>NaN</td>\n",
       "      <td>NaN</td>\n",
       "      <td>NaN</td>\n",
       "      <td>NaN</td>\n",
       "      <td>NaN</td>\n",
       "      <td>NaN</td>\n",
       "      <td>NaN</td>\n",
       "      <td>NaN</td>\n",
       "    </tr>\n",
       "    <tr>\n",
       "      <th>3</th>\n",
       "      <td>10001</td>\n",
       "      <td>1942-7-4</td>\n",
       "      <td>2.54</td>\n",
       "      <td>NaN</td>\n",
       "      <td>26.666667</td>\n",
       "      <td>22.222222</td>\n",
       "      <td>24.444444</td>\n",
       "      <td>0.0</td>\n",
       "      <td>NaN</td>\n",
       "      <td>42</td>\n",
       "      <td>...</td>\n",
       "      <td>NaN</td>\n",
       "      <td>NaN</td>\n",
       "      <td>NaN</td>\n",
       "      <td>NaN</td>\n",
       "      <td>NaN</td>\n",
       "      <td>NaN</td>\n",
       "      <td>NaN</td>\n",
       "      <td>NaN</td>\n",
       "      <td>NaN</td>\n",
       "      <td>NaN</td>\n",
       "    </tr>\n",
       "    <tr>\n",
       "      <th>4</th>\n",
       "      <td>10001</td>\n",
       "      <td>1942-7-5</td>\n",
       "      <td>0</td>\n",
       "      <td>NaN</td>\n",
       "      <td>26.666667</td>\n",
       "      <td>21.666667</td>\n",
       "      <td>24.444444</td>\n",
       "      <td>0.0</td>\n",
       "      <td>NaN</td>\n",
       "      <td>42</td>\n",
       "      <td>...</td>\n",
       "      <td>NaN</td>\n",
       "      <td>NaN</td>\n",
       "      <td>NaN</td>\n",
       "      <td>NaN</td>\n",
       "      <td>NaN</td>\n",
       "      <td>NaN</td>\n",
       "      <td>NaN</td>\n",
       "      <td>NaN</td>\n",
       "      <td>NaN</td>\n",
       "      <td>NaN</td>\n",
       "    </tr>\n",
       "  </tbody>\n",
       "</table>\n",
       "<p>5 rows × 31 columns</p>\n",
       "</div>"
      ],
      "text/plain": [
       "     STA      Date Precip  WindGustSpd    MaxTemp    MinTemp   MeanTemp  \\\n",
       "0  10001  1942-7-1  1.016          NaN  25.555556  22.222222  23.888889   \n",
       "1  10001  1942-7-2      0          NaN  28.888889  21.666667  25.555556   \n",
       "2  10001  1942-7-3   2.54          NaN  26.111111  22.222222  24.444444   \n",
       "3  10001  1942-7-4   2.54          NaN  26.666667  22.222222  24.444444   \n",
       "4  10001  1942-7-5      0          NaN  26.666667  21.666667  24.444444   \n",
       "\n",
       "  Snowfall PoorWeather  YR  ...  FB  FTI ITH  PGT  TSHDSBRSGF  SD3  RHX  RHN  \\\n",
       "0      0.0         NaN  42  ... NaN  NaN NaN  NaN         NaN  NaN  NaN  NaN   \n",
       "1      0.0         NaN  42  ... NaN  NaN NaN  NaN         NaN  NaN  NaN  NaN   \n",
       "2      0.0         NaN  42  ... NaN  NaN NaN  NaN         NaN  NaN  NaN  NaN   \n",
       "3      0.0         NaN  42  ... NaN  NaN NaN  NaN         NaN  NaN  NaN  NaN   \n",
       "4      0.0         NaN  42  ... NaN  NaN NaN  NaN         NaN  NaN  NaN  NaN   \n",
       "\n",
       "  RVG  WTE  \n",
       "0 NaN  NaN  \n",
       "1 NaN  NaN  \n",
       "2 NaN  NaN  \n",
       "3 NaN  NaN  \n",
       "4 NaN  NaN  \n",
       "\n",
       "[5 rows x 31 columns]"
      ]
     },
     "execution_count": 3,
     "metadata": {},
     "output_type": "execute_result"
    }
   ],
   "source": [
    "data_frame.head()"
   ]
  },
  {
   "cell_type": "code",
   "execution_count": 4,
   "id": "b5ca0369-6140-49a1-be28-911fe5baf69a",
   "metadata": {},
   "outputs": [
    {
     "name": "stdout",
     "output_type": "stream",
     "text": [
      "<class 'pandas.core.frame.DataFrame'>\n",
      "RangeIndex: 119040 entries, 0 to 119039\n",
      "Data columns (total 31 columns):\n",
      " #   Column       Non-Null Count   Dtype  \n",
      "---  ------       --------------   -----  \n",
      " 0   STA          119040 non-null  int64  \n",
      " 1   Date         119040 non-null  object \n",
      " 2   Precip       119040 non-null  object \n",
      " 3   WindGustSpd  532 non-null     float64\n",
      " 4   MaxTemp      119040 non-null  float64\n",
      " 5   MinTemp      119040 non-null  float64\n",
      " 6   MeanTemp     119040 non-null  float64\n",
      " 7   Snowfall     117877 non-null  object \n",
      " 8   PoorWeather  34237 non-null   object \n",
      " 9   YR           119040 non-null  int64  \n",
      " 10  MO           119040 non-null  int64  \n",
      " 11  DA           119040 non-null  int64  \n",
      " 12  PRCP         117108 non-null  object \n",
      " 13  DR           533 non-null     float64\n",
      " 14  SPD          532 non-null     float64\n",
      " 15  MAX          118566 non-null  float64\n",
      " 16  MIN          118572 non-null  float64\n",
      " 17  MEA          118542 non-null  float64\n",
      " 18  SNF          117877 non-null  object \n",
      " 19  SND          5563 non-null    float64\n",
      " 20  FT           0 non-null       float64\n",
      " 21  FB           0 non-null       float64\n",
      " 22  FTI          0 non-null       float64\n",
      " 23  ITH          0 non-null       float64\n",
      " 24  PGT          525 non-null     float64\n",
      " 25  TSHDSBRSGF   34237 non-null   object \n",
      " 26  SD3          0 non-null       float64\n",
      " 27  RHX          0 non-null       float64\n",
      " 28  RHN          0 non-null       float64\n",
      " 29  RVG          0 non-null       float64\n",
      " 30  WTE          0 non-null       float64\n",
      "dtypes: float64(20), int64(4), object(7)\n",
      "memory usage: 28.2+ MB\n"
     ]
    }
   ],
   "source": [
    "data_frame.info()"
   ]
  },
  {
   "cell_type": "markdown",
   "id": "27c0d07c-37ae-4663-a649-3d8f1d490da0",
   "metadata": {},
   "source": [
    "### We can delete the nan values because they won't do anything."
   ]
  },
  {
   "cell_type": "code",
   "execution_count": 5,
   "id": "0bbf6fe6-3b98-48ed-9dfc-f463a0913ad6",
   "metadata": {},
   "outputs": [],
   "source": [
    "data_frame.drop([\"FT\",\"FB\",\"FTI\",\"ITH\",\"SD3\",\"RHX\",\"RHN\",\"RVG\",\"WTE\"], axis=1, inplace=True)"
   ]
  },
  {
   "cell_type": "code",
   "execution_count": 6,
   "id": "c98620c6-c0f9-49e8-b2c8-3149ac38b3a9",
   "metadata": {},
   "outputs": [
    {
     "name": "stdout",
     "output_type": "stream",
     "text": [
      "<class 'pandas.core.frame.DataFrame'>\n",
      "RangeIndex: 119040 entries, 0 to 119039\n",
      "Data columns (total 22 columns):\n",
      " #   Column       Non-Null Count   Dtype  \n",
      "---  ------       --------------   -----  \n",
      " 0   STA          119040 non-null  int64  \n",
      " 1   Date         119040 non-null  object \n",
      " 2   Precip       119040 non-null  object \n",
      " 3   WindGustSpd  532 non-null     float64\n",
      " 4   MaxTemp      119040 non-null  float64\n",
      " 5   MinTemp      119040 non-null  float64\n",
      " 6   MeanTemp     119040 non-null  float64\n",
      " 7   Snowfall     117877 non-null  object \n",
      " 8   PoorWeather  34237 non-null   object \n",
      " 9   YR           119040 non-null  int64  \n",
      " 10  MO           119040 non-null  int64  \n",
      " 11  DA           119040 non-null  int64  \n",
      " 12  PRCP         117108 non-null  object \n",
      " 13  DR           533 non-null     float64\n",
      " 14  SPD          532 non-null     float64\n",
      " 15  MAX          118566 non-null  float64\n",
      " 16  MIN          118572 non-null  float64\n",
      " 17  MEA          118542 non-null  float64\n",
      " 18  SNF          117877 non-null  object \n",
      " 19  SND          5563 non-null    float64\n",
      " 20  PGT          525 non-null     float64\n",
      " 21  TSHDSBRSGF   34237 non-null   object \n",
      "dtypes: float64(11), int64(4), object(7)\n",
      "memory usage: 20.0+ MB\n"
     ]
    }
   ],
   "source": [
    "data_frame.info()"
   ]
  },
  {
   "cell_type": "code",
   "execution_count": 7,
   "id": "b6dd7240-05e9-4d51-b7ee-5ac793ba7578",
   "metadata": {},
   "outputs": [
    {
     "data": {
      "text/plain": [
       "STA                 0\n",
       "Date                0\n",
       "Precip              0\n",
       "WindGustSpd    118508\n",
       "MaxTemp             0\n",
       "MinTemp             0\n",
       "MeanTemp            0\n",
       "Snowfall         1163\n",
       "PoorWeather     84803\n",
       "YR                  0\n",
       "MO                  0\n",
       "DA                  0\n",
       "PRCP             1932\n",
       "DR             118507\n",
       "SPD            118508\n",
       "MAX               474\n",
       "MIN               468\n",
       "MEA               498\n",
       "SNF              1163\n",
       "SND            113477\n",
       "PGT            118515\n",
       "TSHDSBRSGF      84803\n",
       "dtype: int64"
      ]
     },
     "execution_count": 7,
     "metadata": {},
     "output_type": "execute_result"
    }
   ],
   "source": [
    "data_frame.isnull().sum()"
   ]
  },
  {
   "cell_type": "markdown",
   "id": "b0e4a739-3c6c-45bc-bfc2-4a43e78aa758",
   "metadata": {},
   "source": [
    "### We already have 119040 entries in each column, but there are 118k, 113k, 84k nan values in them. We can delete a lot of them.(\"DR\", \"SPD\", \"SND\", \"PGT\",\"TSHDSBRSGF\", \"WindGustSpd\", \"PoorWeather\")"
   ]
  },
  {
   "cell_type": "code",
   "execution_count": 8,
   "id": "17c5c90d-0286-4f4e-b524-9ef04b0a4306",
   "metadata": {},
   "outputs": [],
   "source": [
    "data_frame.drop([\"DR\",\"SPD\",\"SND\",\"PGT\",\"TSHDSBRSGF\",\"WindGustSpd\", \"PoorWeather\"], axis=1, inplace=True)"
   ]
  },
  {
   "cell_type": "code",
   "execution_count": 9,
   "id": "901633c7-bc2b-4181-b5d5-b36a4df6f626",
   "metadata": {},
   "outputs": [
    {
     "name": "stdout",
     "output_type": "stream",
     "text": [
      "<class 'pandas.core.frame.DataFrame'>\n",
      "RangeIndex: 119040 entries, 0 to 119039\n",
      "Data columns (total 15 columns):\n",
      " #   Column    Non-Null Count   Dtype  \n",
      "---  ------    --------------   -----  \n",
      " 0   STA       119040 non-null  int64  \n",
      " 1   Date      119040 non-null  object \n",
      " 2   Precip    119040 non-null  object \n",
      " 3   MaxTemp   119040 non-null  float64\n",
      " 4   MinTemp   119040 non-null  float64\n",
      " 5   MeanTemp  119040 non-null  float64\n",
      " 6   Snowfall  117877 non-null  object \n",
      " 7   YR        119040 non-null  int64  \n",
      " 8   MO        119040 non-null  int64  \n",
      " 9   DA        119040 non-null  int64  \n",
      " 10  PRCP      117108 non-null  object \n",
      " 11  MAX       118566 non-null  float64\n",
      " 12  MIN       118572 non-null  float64\n",
      " 13  MEA       118542 non-null  float64\n",
      " 14  SNF       117877 non-null  object \n",
      "dtypes: float64(6), int64(4), object(5)\n",
      "memory usage: 13.6+ MB\n",
      "None \n",
      "\n",
      " STA            0\n",
      "Date           0\n",
      "Precip         0\n",
      "MaxTemp        0\n",
      "MinTemp        0\n",
      "MeanTemp       0\n",
      "Snowfall    1163\n",
      "YR             0\n",
      "MO             0\n",
      "DA             0\n",
      "PRCP        1932\n",
      "MAX          474\n",
      "MIN          468\n",
      "MEA          498\n",
      "SNF         1163\n",
      "dtype: int64\n"
     ]
    }
   ],
   "source": [
    "print(data_frame.info(),\"\\n\\n\", data_frame.isnull().sum())"
   ]
  },
  {
   "cell_type": "code",
   "execution_count": 10,
   "id": "57858808-758e-46c6-ac18-be359fb07861",
   "metadata": {},
   "outputs": [
    {
     "data": {
      "text/html": [
       "<div>\n",
       "<style scoped>\n",
       "    .dataframe tbody tr th:only-of-type {\n",
       "        vertical-align: middle;\n",
       "    }\n",
       "\n",
       "    .dataframe tbody tr th {\n",
       "        vertical-align: top;\n",
       "    }\n",
       "\n",
       "    .dataframe thead th {\n",
       "        text-align: right;\n",
       "    }\n",
       "</style>\n",
       "<table border=\"1\" class=\"dataframe\">\n",
       "  <thead>\n",
       "    <tr style=\"text-align: right;\">\n",
       "      <th></th>\n",
       "      <th>STA</th>\n",
       "      <th>Date</th>\n",
       "      <th>Precip</th>\n",
       "      <th>MaxTemp</th>\n",
       "      <th>MinTemp</th>\n",
       "      <th>MeanTemp</th>\n",
       "      <th>Snowfall</th>\n",
       "      <th>YR</th>\n",
       "      <th>MO</th>\n",
       "      <th>DA</th>\n",
       "      <th>PRCP</th>\n",
       "      <th>MAX</th>\n",
       "      <th>MIN</th>\n",
       "      <th>MEA</th>\n",
       "      <th>SNF</th>\n",
       "    </tr>\n",
       "  </thead>\n",
       "  <tbody>\n",
       "    <tr>\n",
       "      <th>0</th>\n",
       "      <td>10001</td>\n",
       "      <td>1942-7-1</td>\n",
       "      <td>1.016</td>\n",
       "      <td>25.555556</td>\n",
       "      <td>22.222222</td>\n",
       "      <td>23.888889</td>\n",
       "      <td>0.0</td>\n",
       "      <td>42</td>\n",
       "      <td>7</td>\n",
       "      <td>1</td>\n",
       "      <td>0.04</td>\n",
       "      <td>78.0</td>\n",
       "      <td>72.0</td>\n",
       "      <td>75.0</td>\n",
       "      <td>0.0</td>\n",
       "    </tr>\n",
       "    <tr>\n",
       "      <th>1</th>\n",
       "      <td>10001</td>\n",
       "      <td>1942-7-2</td>\n",
       "      <td>0</td>\n",
       "      <td>28.888889</td>\n",
       "      <td>21.666667</td>\n",
       "      <td>25.555556</td>\n",
       "      <td>0.0</td>\n",
       "      <td>42</td>\n",
       "      <td>7</td>\n",
       "      <td>2</td>\n",
       "      <td>0</td>\n",
       "      <td>84.0</td>\n",
       "      <td>71.0</td>\n",
       "      <td>78.0</td>\n",
       "      <td>0.0</td>\n",
       "    </tr>\n",
       "    <tr>\n",
       "      <th>2</th>\n",
       "      <td>10001</td>\n",
       "      <td>1942-7-3</td>\n",
       "      <td>2.54</td>\n",
       "      <td>26.111111</td>\n",
       "      <td>22.222222</td>\n",
       "      <td>24.444444</td>\n",
       "      <td>0.0</td>\n",
       "      <td>42</td>\n",
       "      <td>7</td>\n",
       "      <td>3</td>\n",
       "      <td>0.1</td>\n",
       "      <td>79.0</td>\n",
       "      <td>72.0</td>\n",
       "      <td>76.0</td>\n",
       "      <td>0.0</td>\n",
       "    </tr>\n",
       "    <tr>\n",
       "      <th>3</th>\n",
       "      <td>10001</td>\n",
       "      <td>1942-7-4</td>\n",
       "      <td>2.54</td>\n",
       "      <td>26.666667</td>\n",
       "      <td>22.222222</td>\n",
       "      <td>24.444444</td>\n",
       "      <td>0.0</td>\n",
       "      <td>42</td>\n",
       "      <td>7</td>\n",
       "      <td>4</td>\n",
       "      <td>0.1</td>\n",
       "      <td>80.0</td>\n",
       "      <td>72.0</td>\n",
       "      <td>76.0</td>\n",
       "      <td>0.0</td>\n",
       "    </tr>\n",
       "    <tr>\n",
       "      <th>4</th>\n",
       "      <td>10001</td>\n",
       "      <td>1942-7-5</td>\n",
       "      <td>0</td>\n",
       "      <td>26.666667</td>\n",
       "      <td>21.666667</td>\n",
       "      <td>24.444444</td>\n",
       "      <td>0.0</td>\n",
       "      <td>42</td>\n",
       "      <td>7</td>\n",
       "      <td>5</td>\n",
       "      <td>0</td>\n",
       "      <td>80.0</td>\n",
       "      <td>71.0</td>\n",
       "      <td>76.0</td>\n",
       "      <td>0.0</td>\n",
       "    </tr>\n",
       "  </tbody>\n",
       "</table>\n",
       "</div>"
      ],
      "text/plain": [
       "     STA      Date Precip    MaxTemp    MinTemp   MeanTemp Snowfall  YR  MO  \\\n",
       "0  10001  1942-7-1  1.016  25.555556  22.222222  23.888889      0.0  42   7   \n",
       "1  10001  1942-7-2      0  28.888889  21.666667  25.555556      0.0  42   7   \n",
       "2  10001  1942-7-3   2.54  26.111111  22.222222  24.444444      0.0  42   7   \n",
       "3  10001  1942-7-4   2.54  26.666667  22.222222  24.444444      0.0  42   7   \n",
       "4  10001  1942-7-5      0  26.666667  21.666667  24.444444      0.0  42   7   \n",
       "\n",
       "   DA  PRCP   MAX   MIN   MEA  SNF  \n",
       "0   1  0.04  78.0  72.0  75.0  0.0  \n",
       "1   2     0  84.0  71.0  78.0  0.0  \n",
       "2   3   0.1  79.0  72.0  76.0  0.0  \n",
       "3   4   0.1  80.0  72.0  76.0  0.0  \n",
       "4   5     0  80.0  71.0  76.0  0.0  "
      ]
     },
     "execution_count": 10,
     "metadata": {},
     "output_type": "execute_result"
    }
   ],
   "source": [
    "data_frame.head()"
   ]
  },
  {
   "cell_type": "markdown",
   "id": "2bf9649b-9c10-48ce-b43b-11cdbec0d15c",
   "metadata": {},
   "source": [
    "### The data types of columns \"Precip\", \"Snowfall\", \"\"PRCP and \"SNF\" are object, but if we examine them, they can be converted to float. Let's examine them."
   ]
  },
  {
   "cell_type": "code",
   "execution_count": 11,
   "id": "68fe6eac-443f-4797-a72d-41cdbee696c5",
   "metadata": {},
   "outputs": [
    {
     "name": "stdout",
     "output_type": "stream",
     "text": [
      "[0.0 nan '0' '22.86' '33.02' '30.48' '2.54' '5.08' '10.16' '7.62' '20.32'\n",
      " '15.24' '17.78' '12.7' '25.4' '27.94' '43.18' '38.1' '45.72' '53.34'\n",
      " '58.42' '66.04' '76.2' '81.28' '73.66' '63.5' '50.8' '48.26' '60.96'\n",
      " '55.88' '35.56' '78.74' '40.64' '86.36' '83.82' '68.58' '#VALUE!' 10.16\n",
      " 7.62 15.24 2.54 5.08 12.7]\n"
     ]
    }
   ],
   "source": [
    "print( data_frame[\"Snowfall\"].unique())"
   ]
  },
  {
   "cell_type": "markdown",
   "id": "a86e520a-b315-4b23-99d2-da266d3bbc81",
   "metadata": {},
   "source": [
    "### we can delete \"#VALUE!\" because it doesn't mean anything at all"
   ]
  },
  {
   "cell_type": "code",
   "execution_count": 12,
   "id": "9c449b9a-5093-46ce-96e6-b94ff53c229a",
   "metadata": {},
   "outputs": [],
   "source": [
    "data_frame[\"Snowfall\"]=data_frame[\"Snowfall\"].replace(\"#VALUE!\", np.nan)"
   ]
  },
  {
   "cell_type": "code",
   "execution_count": 13,
   "id": "a8cc99eb-1f67-4e4d-9a8d-b26cb2122c9d",
   "metadata": {},
   "outputs": [
    {
     "name": "stdout",
     "output_type": "stream",
     "text": [
      "[0.0 nan '0' '22.86' '33.02' '30.48' '2.54' '5.08' '10.16' '7.62' '20.32'\n",
      " '15.24' '17.78' '12.7' '25.4' '27.94' '43.18' '38.1' '45.72' '53.34'\n",
      " '58.42' '66.04' '76.2' '81.28' '73.66' '63.5' '50.8' '48.26' '60.96'\n",
      " '55.88' '35.56' '78.74' '40.64' '86.36' '83.82' '68.58' 10.16 7.62 15.24\n",
      " 2.54 5.08 12.7] \n",
      " 1207\n"
     ]
    }
   ],
   "source": [
    "print( data_frame[\"Snowfall\"].unique(), \"\\n\", data_frame[\"Snowfall\"].isnull().sum())"
   ]
  },
  {
   "cell_type": "code",
   "execution_count": 14,
   "id": "0d3ffe1b-631d-4588-adea-af1ea3db6755",
   "metadata": {},
   "outputs": [],
   "source": [
    "data_frame[\"Snowfall\"]=data_frame[\"Snowfall\"].astype(float) #we can turn it into a float\n",
    "data_frame[\"Snowfall\"] = data_frame[\"Snowfall\"].fillna(data_frame[\"Snowfall\"].mean())"
   ]
  },
  {
   "cell_type": "code",
   "execution_count": 15,
   "id": "d0faec6e-44b7-4926-b5d6-85848e2722af",
   "metadata": {},
   "outputs": [
    {
     "name": "stdout",
     "output_type": "stream",
     "text": [
      "['0.04' '0' '0.1' 'T' '0.14' '0.02' '0.01' '0.07' '0.13' '0.03' '0.22'\n",
      " '0.2' '0.08' '1.01' '1.58' '0.75' '0.94' '0.16' '0.48' '0.11' '1.31'\n",
      " '0.76' '1.88' '0.25' '0.12' '0.33' '0.4' '1.07' '1.2' '1.78' '0.42'\n",
      " '0.61' '2.27' '2.29' '0.45' '1.23' '0.7' '1.06' '1.05' '0.26' '0.21'\n",
      " '0.19' '0.3' '0.34' '0.31' '0.49' '3.58' '0.53' '0.47' '0.23' '0.17'\n",
      " '0.24' '0.36' '0.18' '0.39' '0.38' '0.06' '0.55' '0.68' '1.32' '0.05'\n",
      " '0.54' '0.32' '0.88' '1.54' '1.42' '3.86' '0.15' '0.59' '3.08' '5.76'\n",
      " '0.58' '0.86' '4.76' '1.66' '0.92' '0.83' '1.77' '0.09' nan '1.97' '0.69'\n",
      " '2.01' '0.28' '1' '0.29' '0.64' '1.84' '0.35' '0.97' '0.46' '0.67' '5.7'\n",
      " '0.71' '2' '4.19' '1.44' '2.1' '1.37' '0.51' '1.04' '3.37' '1.87' '0.5'\n",
      " '0.44' '2.33' '1.33' '1.61' '1.11' '0.98' '0.57' '2.82' '4.02' '1.24'\n",
      " '1.43' '1.49' '1.4' '1.25' '1.93' '2.75' '1.45' '0.77' '5.02' '2.55'\n",
      " '4.14' '0.63' '2.96' '5.65' '2.4' '2.7' '2.2' '0.93' '4.97' '2.77' '0.27'\n",
      " '0.66' '0.95' '2.08' '0.99' '2.94' '0.65' '2.56' '2.04' '0.52' '1.19'\n",
      " '1.18' '8.5' '0.84' '3.03' '1.16' '0.37' '0.62' '1.81' '1.62' '1.91'\n",
      " '1.3' '0.41' '0.74' '0.56' '2.69' '3.16' '2.79' '1.41' '0.9' '1.22'\n",
      " '0.82' '1.34' '0.79' '1.08' '2.45' '1.47' '2.18' '2.9' '0.72' '4.52'\n",
      " '2.22' '10.77' '1.09' '4.39' '3.99' '4.73' '4.59' '2.61' '1.29' '2.17'\n",
      " '1.21' '1.82' '2.68' '2.46' '2.86' '8.02' '0.6' '2.41' '1.92' '0.43'\n",
      " '2.15' '3.22' '1.5' '1.48' '0.73' '1.96' '1.27' '3.72' '2.67' '1.63'\n",
      " '0.89' '1.71' '1.1' '2.42' '1.02' '2.13' '2.07' '1.85' '7' '1.14' '4.7'\n",
      " '1.75' '3.36' '3.77' '3.62' '1.51' '1.56' '3.15' '1.59' '1.39' '3.49'\n",
      " '2.59' '5.37' '3.07' '4.6' '2.97' '2.74' '1.68' '1.55' '0.81' '1.57'\n",
      " '1.69' '1.52' '6.12' '5.54' '5.84' '0.78' '2.39' '3.82' '2.28' '2.87'\n",
      " '2.58' '2.83' '0.85' '0.87' '1.35' '1.38' '1.7' '1.99' '0.8' '2.78'\n",
      " '2.65' '1.12' '1.26' '1.89' '3' '1.46' '1.9' '1.73' '3.02' '2.05' '2.06'\n",
      " '4.74' '3.17' '2.5' '4.96' '4.58' '1.83' '3.01' '1.36' '1.67' '1.15'\n",
      " '3.2' '0.96' '2.31' '4.26' '6.84' '1.95' '8.87' '8.12' '6.38' '3.43'\n",
      " '3.47' '4.08' '3.26' '3.69' '1.13' '3.9' '2.44' '2.02' '4.37' '3.7'\n",
      " '4.23' '0.91' '3.64' '2.25' '3.31' '1.6' '2.47' '1.64' '1.28' '1.98'\n",
      " '1.03' '2.12' '2.91' '2.54' '1.53' '3.34' '4.09' '1.65' '2.24' '3.23'\n",
      " '2.62' '2.37' '2.09' '2.14' '1.8' '1.17' '1.72' '2.64' '2.76' '2.73'\n",
      " '3.42' '3.39' '2.3' '2.92' '2.71' '3.85' '1.76' '2.51' '2.21' '2.6'\n",
      " '3.38' '2.53' '3.35' '4.84' '1.74' '9.12' '3.27' '4.79' '2.23' '2.03'\n",
      " '4.47' '2.99' '4.03' '2.16' '3.11' '2.98' '3.73' '1.86' '2.93' '6' '2.81'\n",
      " '3.12' '5.12' '3.84' '3.91' '9.4' '4.05' '3.24' '3.71' '4.95' '2.34'\n",
      " '4.41' '7.18' '5' '3.48' '8.32' '3.25' '4.24' '2.89' '4.9' '6.45' '4.25'\n",
      " '2.48' '4.67' '5.38' '2.19' '3.98' '3.56' '2.26' '3.88' '3.57' '3.76'\n",
      " '6.28' '4.07' '5.49' '9.25' '5.25' '3.95' '2.49' '2.88' '3.21' '6.2'\n",
      " '2.52' '3.05' '3.04' '2.35' '2.8' '4.89' '2.36' '4.11' '9.97' '3.41'\n",
      " '1.94' '3.06' '4.87' '4.2' '3.83' '1.79' '4.98' '2.11' '4.88' '2.57'\n",
      " '3.65' '3.14' '6.56' '2.95' '3.75' '2.43' '5.85' '9.8' '3.96' '5.82'\n",
      " '10.12' '12.1' '7.25' '3.44' '5.31' '8.14' '4.36' '3.13' '2.66' '3.19'\n",
      " '3.52' '6.47' '4.01' '3.55' '5.3' '2.32' '3.3' '4.8' '2.72' '3.61' '2.38'\n",
      " '4.15' '5.63' '5.43' '3.46' '3.5' '4.44' '3.09' '2.84' '7.66' '4.43'\n",
      " '5.28' '5.07' '3.28' '3.81' '6.64' '3.1' '4.62' '3.18' '4.93' '7.19'\n",
      " '5.22' '8.26' '4.57' '3.51' '5.1' '3.79' '3.4' '4.63' '3.29' '3.66'\n",
      " '4.33' '3.63' '5.88' '2.63' '4.81' '9.18' '7.89' '4.92' '3.54' '5.51'\n",
      " '7.26' '3.6' '3.53' '3.97' '4' '4.71' '3.87' '3.74' '5.23' '3.32' '5.14'\n",
      " '3.93' '4.32' '3.59' '3.8' '4.18' '2.85' '4.12' '9.39' '5.48' '5.21'\n",
      " '4.45' '6.89' '4.91' '5.91' '4.94' '4.72' '5.27' '6.59' '4.51' '4.54'\n",
      " '3.33' '7.29' '4.13' '4.38' '6.49' '4.68' '6.6' '6.43' '4.4' '4.1' '7.65'\n",
      " '5.52' '4.34' '6.03' '6.5' '9.54' '6.09' '4.17' '5.24' '6.34'] \n",
      "           STA        Date Precip    MaxTemp    MinTemp   MeanTemp  Snowfall  \\\n",
      "6       10001    1942-7-7      T  28.333333  22.777778  25.555556       0.0   \n",
      "8       10001    1942-7-9      T  27.222222  22.777778  25.000000       0.0   \n",
      "15      10001   1942-7-16      T  26.111111  21.111111  23.333333       0.0   \n",
      "16      10001   1942-7-17      T  28.333333  22.222222  25.555556       0.0   \n",
      "17      10001   1942-7-18      T  26.666667  21.111111  23.888889       0.0   \n",
      "...       ...         ...    ...        ...        ...        ...       ...   \n",
      "119001  82506  1945-11-23      T  26.666667  18.333333  22.222222       0.0   \n",
      "119006  82506  1945-11-28      T  28.333333  21.111111  24.444444       0.0   \n",
      "119014  82506   1945-12-6      T  27.222222  17.777778  22.222222       0.0   \n",
      "119018  82506  1945-12-10      T  30.000000  19.444444  24.444444       0.0   \n",
      "119031  82506  1945-12-23      T  28.333333  18.333333  23.333333       0.0   \n",
      "\n",
      "        YR  MO  DA PRCP   MAX   MIN   MEA  SNF  \n",
      "6       42   7   7    T  83.0  73.0  78.0  0.0  \n",
      "8       42   7   9    T  81.0  73.0  77.0  0.0  \n",
      "15      42   7  16    T  79.0  70.0  74.0  0.0  \n",
      "16      42   7  17    T  83.0  72.0  78.0  0.0  \n",
      "17      42   7  18    T  80.0  70.0  75.0  0.0  \n",
      "...     ..  ..  ..  ...   ...   ...   ...  ...  \n",
      "119001  45  11  23    T  80.0  65.0  72.0  0.0  \n",
      "119006  45  11  28    T  83.0  70.0  76.0  0.0  \n",
      "119014  45  12   6    T  81.0  64.0  72.0  0.0  \n",
      "119018  45  12  10    T  86.0  67.0  76.0  0.0  \n",
      "119031  45  12  23    T  83.0  65.0  74.0  0.0  \n",
      "\n",
      "[16753 rows x 15 columns]\n"
     ]
    }
   ],
   "source": [
    "print( data_frame[\"PRCP\"].unique(), \"\\n\", data_frame[data_frame[\"PRCP\"]==\"T\"])"
   ]
  },
  {
   "cell_type": "markdown",
   "id": "7626d768-0472-4fdc-9ac2-f64deee95e29",
   "metadata": {},
   "source": [
    "### We can write 0 instead of \"t\" because its value is almost 0."
   ]
  },
  {
   "cell_type": "code",
   "execution_count": 16,
   "id": "60b61102-9786-4c4f-924d-74a9953d863c",
   "metadata": {},
   "outputs": [],
   "source": [
    "data_frame[\"PRCP\"]=data_frame[\"PRCP\"].replace(\"T\", \"0\")"
   ]
  },
  {
   "cell_type": "code",
   "execution_count": 17,
   "id": "59164a38-d932-4324-94ca-8d56287556cf",
   "metadata": {},
   "outputs": [
    {
     "name": "stdout",
     "output_type": "stream",
     "text": [
      "1932\n"
     ]
    }
   ],
   "source": [
    "print( data_frame[\"PRCP\"].isnull().sum())"
   ]
  },
  {
   "cell_type": "code",
   "execution_count": 18,
   "id": "42d50824-0a29-4023-a37c-78c47ac477d2",
   "metadata": {},
   "outputs": [],
   "source": [
    "data_frame[\"PRCP\"]=data_frame[\"PRCP\"].astype(float) #we can turn it into a float"
   ]
  },
  {
   "cell_type": "code",
   "execution_count": 19,
   "id": "1d437582-bb5b-477e-89dc-5f5f8e913b48",
   "metadata": {},
   "outputs": [
    {
     "name": "stdout",
     "output_type": "stream",
     "text": [
      "count    117108.000000\n",
      "mean          0.129088\n",
      "std           0.428416\n",
      "min           0.000000\n",
      "25%           0.000000\n",
      "50%           0.000000\n",
      "75%           0.040000\n",
      "max          12.100000\n",
      "Name: PRCP, dtype: float64\n"
     ]
    }
   ],
   "source": [
    "print(data_frame[\"PRCP\"].describe())"
   ]
  },
  {
   "cell_type": "markdown",
   "id": "98465f9d-73a7-499e-bc21-e26e139d025e",
   "metadata": {},
   "source": [
    "### Now let's look at filling in the null values for \"MAX\", \"MİN\", \"SNf\" and \"MEA\"."
   ]
  },
  {
   "cell_type": "code",
   "execution_count": 20,
   "id": "11a23e71-cd87-49d4-9a29-7a873b28d161",
   "metadata": {},
   "outputs": [],
   "source": [
    "# Her sütun için ayrı ayrı\n",
    "data_frame[\"MAX\"] = data_frame[\"MAX\"].fillna(data_frame[\"MAX\"].mean())\n",
    "data_frame[\"MIN\"] = data_frame[\"MIN\"].fillna(data_frame[\"MIN\"].mean())\n",
    "data_frame[\"MEA\"] = data_frame[\"MEA\"].fillna(data_frame[\"MEA\"].mean())"
   ]
  },
  {
   "cell_type": "code",
   "execution_count": 21,
   "id": "e649c9e3-3cda-4726-aecc-b97c0d0bbf7b",
   "metadata": {},
   "outputs": [
    {
     "name": "stdout",
     "output_type": "stream",
     "text": [
      "[0.0 nan '0' '0.9' '1.3' '1.2' '0.1' '0.2' '0.4' '0.3' '0.8' '0.6' '0.7'\n",
      " '0.5' '1' '1.1' '1.7' '1.5' '1.8' '2.1' '2.3' '2.6' '3' '3.2' '2.9' '2.5'\n",
      " '2' '1.9' '2.4' '2.2' '1.4' '3.1' '1.6' '3.4' '3.3' '2.7' 'T' 0.4 0.3 0.6\n",
      " 0.1 0.2 0.5]\n"
     ]
    }
   ],
   "source": [
    "print( data_frame[\"SNF\"].unique())"
   ]
  },
  {
   "cell_type": "code",
   "execution_count": 22,
   "id": "be26d99a-d19b-43f5-891a-8b53b8919205",
   "metadata": {},
   "outputs": [
    {
     "name": "stdout",
     "output_type": "stream",
     "text": [
      "1163\n",
      "count    117877.000000\n",
      "mean          0.009663\n",
      "std           0.103390\n",
      "min           0.000000\n",
      "25%           0.000000\n",
      "50%           0.000000\n",
      "75%           0.000000\n",
      "max           3.400000\n",
      "Name: SNF, dtype: float64\n"
     ]
    }
   ],
   "source": [
    "data_frame[\"SNF\"]=data_frame[\"SNF\"].replace(\"T\",\"0\")\n",
    "print( data_frame[\"SNF\"].isnull().sum())\n",
    "\n",
    "data_frame[\"SNF\"]=data_frame[\"SNF\"].astype(float)\n",
    "print(data_frame[\"SNF\"].describe())\n",
    "\n"
   ]
  },
  {
   "cell_type": "code",
   "execution_count": 23,
   "id": "d68ce6cf-2507-402b-8030-1aac3a84e0b6",
   "metadata": {},
   "outputs": [
    {
     "name": "stdout",
     "output_type": "stream",
     "text": [
      "          STA        Date Precip    MaxTemp    MinTemp   MeanTemp  Snowfall  \\\n",
      "6       10001    1942-7-7      T  28.333333  22.777778  25.555556       0.0   \n",
      "8       10001    1942-7-9      T  27.222222  22.777778  25.000000       0.0   \n",
      "15      10001   1942-7-16      T  26.111111  21.111111  23.333333       0.0   \n",
      "16      10001   1942-7-17      T  28.333333  22.222222  25.555556       0.0   \n",
      "17      10001   1942-7-18      T  26.666667  21.111111  23.888889       0.0   \n",
      "...       ...         ...    ...        ...        ...        ...       ...   \n",
      "119001  82506  1945-11-23      T  26.666667  18.333333  22.222222       0.0   \n",
      "119006  82506  1945-11-28      T  28.333333  21.111111  24.444444       0.0   \n",
      "119014  82506   1945-12-6      T  27.222222  17.777778  22.222222       0.0   \n",
      "119018  82506  1945-12-10      T  30.000000  19.444444  24.444444       0.0   \n",
      "119031  82506  1945-12-23      T  28.333333  18.333333  23.333333       0.0   \n",
      "\n",
      "        YR  MO  DA  PRCP   MAX   MIN   MEA  SNF  \n",
      "6       42   7   7   0.0  83.0  73.0  78.0  0.0  \n",
      "8       42   7   9   0.0  81.0  73.0  77.0  0.0  \n",
      "15      42   7  16   0.0  79.0  70.0  74.0  0.0  \n",
      "16      42   7  17   0.0  83.0  72.0  78.0  0.0  \n",
      "17      42   7  18   0.0  80.0  70.0  75.0  0.0  \n",
      "...     ..  ..  ..   ...   ...   ...   ...  ...  \n",
      "119001  45  11  23   0.0  80.0  65.0  72.0  0.0  \n",
      "119006  45  11  28   0.0  83.0  70.0  76.0  0.0  \n",
      "119014  45  12   6   0.0  81.0  64.0  72.0  0.0  \n",
      "119018  45  12  10   0.0  86.0  67.0  76.0  0.0  \n",
      "119031  45  12  23   0.0  83.0  65.0  74.0  0.0  \n",
      "\n",
      "[16753 rows x 15 columns] \n",
      "\n"
     ]
    }
   ],
   "source": [
    "print( data_frame[data_frame[\"Precip\"]==\"T\"] , \"\\n\",)"
   ]
  },
  {
   "cell_type": "code",
   "execution_count": 24,
   "id": "e20b1d76-43d7-4551-909f-0455d54174ac",
   "metadata": {},
   "outputs": [
    {
     "name": "stdout",
     "output_type": "stream",
     "text": [
      "1163\n",
      "count    119040.000000\n",
      "mean          3.225612\n",
      "std          10.801044\n",
      "min           0.000000\n",
      "25%           0.000000\n",
      "50%           0.000000\n",
      "75%           0.762000\n",
      "max         307.340000\n",
      "Name: Precip, dtype: float64\n"
     ]
    }
   ],
   "source": [
    "data_frame[\"Precip\"]=data_frame[\"Precip\"].replace(\"T\",\"0\")\n",
    "print( data_frame[\"SNF\"].isnull().sum())\n",
    "\n",
    "data_frame[\"Precip\"]=data_frame[\"Precip\"].astype(float)\n",
    "print(data_frame[\"Precip\"].describe())"
   ]
  },
  {
   "cell_type": "code",
   "execution_count": 25,
   "id": "2a1da1b2-5946-40ed-bd93-f9b50fd94723",
   "metadata": {},
   "outputs": [
    {
     "data": {
      "text/html": [
       "<div>\n",
       "<style scoped>\n",
       "    .dataframe tbody tr th:only-of-type {\n",
       "        vertical-align: middle;\n",
       "    }\n",
       "\n",
       "    .dataframe tbody tr th {\n",
       "        vertical-align: top;\n",
       "    }\n",
       "\n",
       "    .dataframe thead th {\n",
       "        text-align: right;\n",
       "    }\n",
       "</style>\n",
       "<table border=\"1\" class=\"dataframe\">\n",
       "  <thead>\n",
       "    <tr style=\"text-align: right;\">\n",
       "      <th></th>\n",
       "      <th>STA</th>\n",
       "      <th>Date</th>\n",
       "      <th>Precip</th>\n",
       "      <th>MaxTemp</th>\n",
       "      <th>MinTemp</th>\n",
       "      <th>MeanTemp</th>\n",
       "      <th>Snowfall</th>\n",
       "      <th>YR</th>\n",
       "      <th>MO</th>\n",
       "      <th>DA</th>\n",
       "      <th>PRCP</th>\n",
       "      <th>MAX</th>\n",
       "      <th>MIN</th>\n",
       "      <th>MEA</th>\n",
       "      <th>SNF</th>\n",
       "    </tr>\n",
       "  </thead>\n",
       "  <tbody>\n",
       "    <tr>\n",
       "      <th>0</th>\n",
       "      <td>10001</td>\n",
       "      <td>1942-7-1</td>\n",
       "      <td>1.016</td>\n",
       "      <td>25.555556</td>\n",
       "      <td>22.222222</td>\n",
       "      <td>23.888889</td>\n",
       "      <td>0.0</td>\n",
       "      <td>42</td>\n",
       "      <td>7</td>\n",
       "      <td>1</td>\n",
       "      <td>0.04</td>\n",
       "      <td>78.0</td>\n",
       "      <td>72.0</td>\n",
       "      <td>75.0</td>\n",
       "      <td>0.0</td>\n",
       "    </tr>\n",
       "    <tr>\n",
       "      <th>1</th>\n",
       "      <td>10001</td>\n",
       "      <td>1942-7-2</td>\n",
       "      <td>0.000</td>\n",
       "      <td>28.888889</td>\n",
       "      <td>21.666667</td>\n",
       "      <td>25.555556</td>\n",
       "      <td>0.0</td>\n",
       "      <td>42</td>\n",
       "      <td>7</td>\n",
       "      <td>2</td>\n",
       "      <td>0.00</td>\n",
       "      <td>84.0</td>\n",
       "      <td>71.0</td>\n",
       "      <td>78.0</td>\n",
       "      <td>0.0</td>\n",
       "    </tr>\n",
       "    <tr>\n",
       "      <th>2</th>\n",
       "      <td>10001</td>\n",
       "      <td>1942-7-3</td>\n",
       "      <td>2.540</td>\n",
       "      <td>26.111111</td>\n",
       "      <td>22.222222</td>\n",
       "      <td>24.444444</td>\n",
       "      <td>0.0</td>\n",
       "      <td>42</td>\n",
       "      <td>7</td>\n",
       "      <td>3</td>\n",
       "      <td>0.10</td>\n",
       "      <td>79.0</td>\n",
       "      <td>72.0</td>\n",
       "      <td>76.0</td>\n",
       "      <td>0.0</td>\n",
       "    </tr>\n",
       "    <tr>\n",
       "      <th>3</th>\n",
       "      <td>10001</td>\n",
       "      <td>1942-7-4</td>\n",
       "      <td>2.540</td>\n",
       "      <td>26.666667</td>\n",
       "      <td>22.222222</td>\n",
       "      <td>24.444444</td>\n",
       "      <td>0.0</td>\n",
       "      <td>42</td>\n",
       "      <td>7</td>\n",
       "      <td>4</td>\n",
       "      <td>0.10</td>\n",
       "      <td>80.0</td>\n",
       "      <td>72.0</td>\n",
       "      <td>76.0</td>\n",
       "      <td>0.0</td>\n",
       "    </tr>\n",
       "    <tr>\n",
       "      <th>4</th>\n",
       "      <td>10001</td>\n",
       "      <td>1942-7-5</td>\n",
       "      <td>0.000</td>\n",
       "      <td>26.666667</td>\n",
       "      <td>21.666667</td>\n",
       "      <td>24.444444</td>\n",
       "      <td>0.0</td>\n",
       "      <td>42</td>\n",
       "      <td>7</td>\n",
       "      <td>5</td>\n",
       "      <td>0.00</td>\n",
       "      <td>80.0</td>\n",
       "      <td>71.0</td>\n",
       "      <td>76.0</td>\n",
       "      <td>0.0</td>\n",
       "    </tr>\n",
       "  </tbody>\n",
       "</table>\n",
       "</div>"
      ],
      "text/plain": [
       "     STA      Date  Precip    MaxTemp    MinTemp   MeanTemp  Snowfall  YR  MO  \\\n",
       "0  10001  1942-7-1   1.016  25.555556  22.222222  23.888889       0.0  42   7   \n",
       "1  10001  1942-7-2   0.000  28.888889  21.666667  25.555556       0.0  42   7   \n",
       "2  10001  1942-7-3   2.540  26.111111  22.222222  24.444444       0.0  42   7   \n",
       "3  10001  1942-7-4   2.540  26.666667  22.222222  24.444444       0.0  42   7   \n",
       "4  10001  1942-7-5   0.000  26.666667  21.666667  24.444444       0.0  42   7   \n",
       "\n",
       "   DA  PRCP   MAX   MIN   MEA  SNF  \n",
       "0   1  0.04  78.0  72.0  75.0  0.0  \n",
       "1   2  0.00  84.0  71.0  78.0  0.0  \n",
       "2   3  0.10  79.0  72.0  76.0  0.0  \n",
       "3   4  0.10  80.0  72.0  76.0  0.0  \n",
       "4   5  0.00  80.0  71.0  76.0  0.0  "
      ]
     },
     "execution_count": 25,
     "metadata": {},
     "output_type": "execute_result"
    }
   ],
   "source": [
    "data_frame.head()"
   ]
  },
  {
   "cell_type": "code",
   "execution_count": 26,
   "id": "b66fa2a1-5ff4-42eb-87a2-650aaae24ac6",
   "metadata": {},
   "outputs": [
    {
     "name": "stdout",
     "output_type": "stream",
     "text": [
      "<class 'pandas.core.frame.DataFrame'>\n",
      "RangeIndex: 119040 entries, 0 to 119039\n",
      "Data columns (total 15 columns):\n",
      " #   Column    Non-Null Count   Dtype  \n",
      "---  ------    --------------   -----  \n",
      " 0   STA       119040 non-null  int64  \n",
      " 1   Date      119040 non-null  object \n",
      " 2   Precip    119040 non-null  float64\n",
      " 3   MaxTemp   119040 non-null  float64\n",
      " 4   MinTemp   119040 non-null  float64\n",
      " 5   MeanTemp  119040 non-null  float64\n",
      " 6   Snowfall  119040 non-null  float64\n",
      " 7   YR        119040 non-null  int64  \n",
      " 8   MO        119040 non-null  int64  \n",
      " 9   DA        119040 non-null  int64  \n",
      " 10  PRCP      117108 non-null  float64\n",
      " 11  MAX       119040 non-null  float64\n",
      " 12  MIN       119040 non-null  float64\n",
      " 13  MEA       119040 non-null  float64\n",
      " 14  SNF       117877 non-null  float64\n",
      "dtypes: float64(10), int64(4), object(1)\n",
      "memory usage: 13.6+ MB\n"
     ]
    }
   ],
   "source": [
    "data_frame.info()"
   ]
  },
  {
   "cell_type": "markdown",
   "id": "c01238de-4adf-4f09-ac74-0b7fe4d152c2",
   "metadata": {},
   "source": [
    "### Let's look at the columns in our data set:\"Precip\", \"YR\", \"MO\", \"DA\", \"MaxTemp\", \"MinTemp\", \"MeanTemp\", \"Snowfall\".<br><br>The most common prediction model we can make with these data is to predict the average temperature of the next day (MeanTemp)."
   ]
  },
  {
   "cell_type": "code",
   "execution_count": 27,
   "id": "50062264-17e0-4a93-8eb1-cbf4d540731d",
   "metadata": {},
   "outputs": [],
   "source": [
    "data_frame_clean = data_frame[[\"STA\",\"Precip\",\"YR\",\"MO\",\"DA\",\"MaxTemp\",\"MinTemp\",\"Snowfall\",\"MeanTemp\"]]"
   ]
  },
  {
   "cell_type": "code",
   "execution_count": 28,
   "id": "a2fada1e-0cf5-4a46-a040-d2bca0b4653b",
   "metadata": {},
   "outputs": [
    {
     "data": {
      "text/html": [
       "<div>\n",
       "<style scoped>\n",
       "    .dataframe tbody tr th:only-of-type {\n",
       "        vertical-align: middle;\n",
       "    }\n",
       "\n",
       "    .dataframe tbody tr th {\n",
       "        vertical-align: top;\n",
       "    }\n",
       "\n",
       "    .dataframe thead th {\n",
       "        text-align: right;\n",
       "    }\n",
       "</style>\n",
       "<table border=\"1\" class=\"dataframe\">\n",
       "  <thead>\n",
       "    <tr style=\"text-align: right;\">\n",
       "      <th></th>\n",
       "      <th>STA</th>\n",
       "      <th>Precip</th>\n",
       "      <th>YR</th>\n",
       "      <th>MO</th>\n",
       "      <th>DA</th>\n",
       "      <th>MaxTemp</th>\n",
       "      <th>MinTemp</th>\n",
       "      <th>Snowfall</th>\n",
       "      <th>MeanTemp</th>\n",
       "    </tr>\n",
       "  </thead>\n",
       "  <tbody>\n",
       "    <tr>\n",
       "      <th>0</th>\n",
       "      <td>10001</td>\n",
       "      <td>1.016</td>\n",
       "      <td>42</td>\n",
       "      <td>7</td>\n",
       "      <td>1</td>\n",
       "      <td>25.555556</td>\n",
       "      <td>22.222222</td>\n",
       "      <td>0.0</td>\n",
       "      <td>23.888889</td>\n",
       "    </tr>\n",
       "    <tr>\n",
       "      <th>1</th>\n",
       "      <td>10001</td>\n",
       "      <td>0.000</td>\n",
       "      <td>42</td>\n",
       "      <td>7</td>\n",
       "      <td>2</td>\n",
       "      <td>28.888889</td>\n",
       "      <td>21.666667</td>\n",
       "      <td>0.0</td>\n",
       "      <td>25.555556</td>\n",
       "    </tr>\n",
       "    <tr>\n",
       "      <th>2</th>\n",
       "      <td>10001</td>\n",
       "      <td>2.540</td>\n",
       "      <td>42</td>\n",
       "      <td>7</td>\n",
       "      <td>3</td>\n",
       "      <td>26.111111</td>\n",
       "      <td>22.222222</td>\n",
       "      <td>0.0</td>\n",
       "      <td>24.444444</td>\n",
       "    </tr>\n",
       "    <tr>\n",
       "      <th>3</th>\n",
       "      <td>10001</td>\n",
       "      <td>2.540</td>\n",
       "      <td>42</td>\n",
       "      <td>7</td>\n",
       "      <td>4</td>\n",
       "      <td>26.666667</td>\n",
       "      <td>22.222222</td>\n",
       "      <td>0.0</td>\n",
       "      <td>24.444444</td>\n",
       "    </tr>\n",
       "    <tr>\n",
       "      <th>4</th>\n",
       "      <td>10001</td>\n",
       "      <td>0.000</td>\n",
       "      <td>42</td>\n",
       "      <td>7</td>\n",
       "      <td>5</td>\n",
       "      <td>26.666667</td>\n",
       "      <td>21.666667</td>\n",
       "      <td>0.0</td>\n",
       "      <td>24.444444</td>\n",
       "    </tr>\n",
       "  </tbody>\n",
       "</table>\n",
       "</div>"
      ],
      "text/plain": [
       "     STA  Precip  YR  MO  DA    MaxTemp    MinTemp  Snowfall   MeanTemp\n",
       "0  10001   1.016  42   7   1  25.555556  22.222222       0.0  23.888889\n",
       "1  10001   0.000  42   7   2  28.888889  21.666667       0.0  25.555556\n",
       "2  10001   2.540  42   7   3  26.111111  22.222222       0.0  24.444444\n",
       "3  10001   2.540  42   7   4  26.666667  22.222222       0.0  24.444444\n",
       "4  10001   0.000  42   7   5  26.666667  21.666667       0.0  24.444444"
      ]
     },
     "execution_count": 28,
     "metadata": {},
     "output_type": "execute_result"
    }
   ],
   "source": [
    "data_frame_clean.head()"
   ]
  },
  {
   "cell_type": "code",
   "execution_count": 29,
   "id": "4fe2c463-abac-4219-b6db-83a71751de56",
   "metadata": {},
   "outputs": [],
   "source": [
    "liste=data_frame_clean.columns"
   ]
  },
  {
   "cell_type": "code",
   "execution_count": 30,
   "id": "1e7e176e-c6f5-420d-b295-aa5860f1f683",
   "metadata": {},
   "outputs": [
    {
     "data": {
      "image/png": "[encoded data removed]",
      "text/plain": [
       "<Figure size 1500x1100 with 9 Axes>"
      ]
     },
     "metadata": {},
     "output_type": "display_data"
    }
   ],
   "source": [
    "plt.figure(figsize=(15,11))\n",
    "\n",
    "for i in range(0, len(liste)):\n",
    "    plt.subplot(5,4,i+1)\n",
    "    sns.kdeplot(x=data_frame_clean[liste[i]] , color=\"black\", fill=True)\n",
    "    plt.xlabel(liste[i])\n",
    "    plt.tight_layout()\n",
    "\n",
    "plt.show()"
   ]
  },
  {
   "cell_type": "code",
   "execution_count": 31,
   "id": "5dd40f02-bae9-46fe-aa5a-356dddb85c74",
   "metadata": {},
   "outputs": [
    {
     "data": {
      "image/png": "[encoded data removed]",
      "text/plain": [
       "<Figure size 1000x700 with 2 Axes>"
      ]
     },
     "metadata": {},
     "output_type": "display_data"
    }
   ],
   "source": [
    "plt.figure(figsize=(10,7))\n",
    "sns.heatmap(data_frame_clean.corr(), annot=True)\n",
    "plt.title(\"Correlations between the features\")\n",
    "plt.show()"
   ]
  },
  {
   "cell_type": "markdown",
   "id": "8e6fbeeb-ce44-4631-8d4d-9f7eae09b74c",
   "metadata": {},
   "source": [
    "# We can start training the model"
   ]
  },
  {
   "cell_type": "code",
   "execution_count": 32,
   "id": "9d9587a3-4e30-4474-98af-41b0ac0007c6",
   "metadata": {},
   "outputs": [],
   "source": [
    "X=data_frame_clean.drop([\"MeanTemp\",\"YR\",\"MinTemp\"], axis=1)\n",
    "y=data_frame_clean[\"MeanTemp\"]"
   ]
  },
  {
   "cell_type": "code",
   "execution_count": 33,
   "id": "04e24e5d-f059-40a9-8dc1-860ef94c959d",
   "metadata": {},
   "outputs": [],
   "source": [
    "from sklearn.model_selection import train_test_split"
   ]
  },
  {
   "cell_type": "code",
   "execution_count": 34,
   "id": "b34d5677-8bd4-4f2e-a4d4-501b02827be2",
   "metadata": {},
   "outputs": [],
   "source": [
    "X_train, X_test, y_train, y_test = train_test_split(X, y, test_size=0.25, random_state=21)"
   ]
  },
  {
   "cell_type": "code",
   "execution_count": 35,
   "id": "98779359-dc68-44ab-90df-31956632e909",
   "metadata": {},
   "outputs": [],
   "source": [
    "from sklearn.preprocessing import StandardScaler "
   ]
  },
  {
   "cell_type": "code",
   "execution_count": 36,
   "id": "9b8cc9d0-8d84-4e47-a505-2a4c72815150",
   "metadata": {},
   "outputs": [],
   "source": [
    "scaler=StandardScaler()"
   ]
  },
  {
   "cell_type": "code",
   "execution_count": 37,
   "id": "f72565c2-0023-4a8d-a20a-cf7d30243acc",
   "metadata": {},
   "outputs": [],
   "source": [
    "X_train_scaled = scaler.fit_transform(X_train)\n",
    "X_test_scaled = scaler.transform(X_test)"
   ]
  },
  {
   "cell_type": "code",
   "execution_count": 38,
   "id": "9a35f219-2523-4702-afd8-74a0d9be24fd",
   "metadata": {},
   "outputs": [
    {
     "data": {
      "image/png": "[encoded data removed]",
      "text/plain": [
       "<Figure size 1000x800 with 1 Axes>"
      ]
     },
     "metadata": {},
     "output_type": "display_data"
    }
   ],
   "source": [
    "plt.subplots(figsize=(10,8))\n",
    "sns.boxplot(X_train)\n",
    "plt.title(\"x_train\")\n",
    "\n",
    "plt.show()"
   ]
  },
  {
   "cell_type": "code",
   "execution_count": 39,
   "id": "ed7c1029-07f5-4db8-8308-40c972e1bcfc",
   "metadata": {},
   "outputs": [
    {
     "data": {
      "image/png": "[encoded data removed]",
      "text/plain": [
       "<Figure size 1000x800 with 1 Axes>"
      ]
     },
     "metadata": {},
     "output_type": "display_data"
    }
   ],
   "source": [
    "plt.subplots(figsize=(10,8))\n",
    "sns.boxplot(X_train_scaled)\n",
    "plt.title(\"x_train scaled\")\n",
    "plt.show()"
   ]
  },
  {
   "cell_type": "code",
   "execution_count": 40,
   "id": "273a7584-1b1c-4137-8021-f6a91bc68c47",
   "metadata": {},
   "outputs": [],
   "source": [
    "from sklearn.linear_model import LinearRegression\n",
    "from sklearn.metrics import mean_absolute_error, mean_squared_error, r2_score"
   ]
  },
  {
   "cell_type": "code",
   "execution_count": 41,
   "id": "49ae392e-f8d3-4f19-9ee3-5a7d4a1cf696",
   "metadata": {},
   "outputs": [
    {
     "name": "stdout",
     "output_type": "stream",
     "text": [
      "mean abs error:  1.5389708632498431\n",
      "mean sqr error:  3.9244204906681524\n",
      "r2score : 0.9414272854908776\n"
     ]
    }
   ],
   "source": [
    "regresyon =LinearRegression()\n",
    "regresyon.fit(X_train_scaled, y_train)\n",
    "y_pred=regresyon.predict(X_test_scaled)\n",
    "\n",
    "mae = mean_absolute_error(y_test, y_pred)\n",
    "mse = mean_squared_error(y_test, y_pred)\n",
    "r2score = r2_score(y_test, y_pred)\n",
    "\n",
    "print(\"mean abs error: \", mae)\n",
    "print(\"mean sqr error: \", mse)\n",
    "print(\"r2score :\", r2score)"
   ]
  },
  {
   "cell_type": "markdown",
   "id": "647f8f80-23e2-4dd7-9d93-e5a17c9f11dd",
   "metadata": {},
   "source": [
    "## Lasso and LassoCV"
   ]
  },
  {
   "cell_type": "code",
   "execution_count": 42,
   "id": "1208d0dc-df92-4c11-85ec-b5617f34a6f9",
   "metadata": {},
   "outputs": [
    {
     "name": "stdout",
     "output_type": "stream",
     "text": [
      "mean abs error:  1.7789660422103102\n",
      "mean sqr error:  5.05761644340223\n",
      "r2score : 0.9245141225970906\n"
     ]
    }
   ],
   "source": [
    "from sklearn.linear_model import Lasso\n",
    "lasso = Lasso()\n",
    "lasso.fit(X_train_scaled, y_train)\n",
    "y_pred = lasso.predict(X_test_scaled)\n",
    "mae = mean_absolute_error(y_test, y_pred)\n",
    "mse = mean_squared_error(y_test, y_pred)\n",
    "r2score = r2_score(y_test, y_pred)\n",
    "\n",
    "print(\"mean abs error: \", mae)\n",
    "print(\"mean sqr error: \", mse)\n",
    "print(\"r2score :\", r2score)"
   ]
  },
  {
   "cell_type": "code",
   "execution_count": 43,
   "id": "2751766a-c3ad-471d-9b47-05759bb90aca",
   "metadata": {},
   "outputs": [
    {
     "name": "stdout",
     "output_type": "stream",
     "text": [
      "mean abs error:  1.538874468588803\n",
      "mean sqr error:  3.9243846955932797\n",
      "r2score : 0.9414278197391077\n",
      "lambda:  0.008077348743313192 \n",
      "\n",
      " lambda values:  [8.07734874 7.53296247 7.02526601 6.5517866  6.11021811 5.69840986\n",
      " 5.31435611 4.95618629 4.62215592 4.31063808 4.0201155  3.74917317\n",
      " 3.49649145 3.26083963 3.04106995 2.83611201 2.64496756 2.4667056\n",
      " 2.30045789 2.14541473 2.00082096 1.86597232 1.74021203 1.62292757\n",
      " 1.51354768 1.41153963 1.31640659 1.22768519 1.14494331 1.06777797\n",
      " 0.99581331 0.92869882 0.86610763 0.80773487 0.75329625 0.7025266\n",
      " 0.65517866 0.61102181 0.56984099 0.53143561 0.49561863 0.46221559\n",
      " 0.43106381 0.40201155 0.37491732 0.34964914 0.32608396 0.304107\n",
      " 0.2836112  0.26449676 0.24667056 0.23004579 0.21454147 0.2000821\n",
      " 0.18659723 0.1740212  0.16229276 0.15135477 0.14115396 0.13164066\n",
      " 0.12276852 0.11449433 0.1067778  0.09958133 0.09286988 0.08661076\n",
      " 0.08077349 0.07532962 0.07025266 0.06551787 0.06110218 0.0569841\n",
      " 0.05314356 0.04956186 0.04622156 0.04310638 0.04020116 0.03749173\n",
      " 0.03496491 0.0326084  0.0304107  0.02836112 0.02644968 0.02466706\n",
      " 0.02300458 0.02145415 0.02000821 0.01865972 0.01740212 0.01622928\n",
      " 0.01513548 0.0141154  0.01316407 0.01227685 0.01144943 0.01067778\n",
      " 0.00995813 0.00928699 0.00866108 0.00807735]\n"
     ]
    }
   ],
   "source": [
    "from sklearn.linear_model import LassoCV\n",
    "lassoCV = LassoCV(cv=5)\n",
    "lassoCV.fit(X_train_scaled, y_train)\n",
    "y_pred = lassoCV.predict(X_test_scaled)\n",
    "mae = mean_absolute_error(y_test, y_pred)\n",
    "mse = mean_squared_error(y_test, y_pred)\n",
    "r2score = r2_score(y_test, y_pred)\n",
    "\n",
    "print(\"mean abs error: \", mae)\n",
    "print(\"mean sqr error: \", mse)\n",
    "print(\"r2score :\", r2score)\n",
    "\n",
    "print(\"lambda: \", lassoCV.alpha_, \"\\n\\n\", \"lambda values: \",lassoCV.alphas_)"
   ]
  },
  {
   "cell_type": "markdown",
   "id": "7787ad9c-601b-4fbf-9ab7-3534d5ae5438",
   "metadata": {},
   "source": [
    "## Ridge and RidgeCV"
   ]
  },
  {
   "cell_type": "code",
   "execution_count": 44,
   "id": "672f7fd8-6aab-460f-8662-07b1b1f7bc42",
   "metadata": {},
   "outputs": [
    {
     "name": "stdout",
     "output_type": "stream",
     "text": [
      "mean abs error:  1.5389713833692298\n",
      "mean sqr error:  3.924420439735353\n",
      "r2score : 0.9414272862510593\n"
     ]
    }
   ],
   "source": [
    "from sklearn.linear_model import Ridge\n",
    "ridge = Ridge()\n",
    "ridge.fit(X_train_scaled, y_train)\n",
    "y_pred = ridge.predict(X_test_scaled)\n",
    "mae = mean_absolute_error(y_test, y_pred)\n",
    "mse = mean_squared_error(y_test, y_pred)\n",
    "r2score = r2_score(y_test, y_pred)\n",
    "\n",
    "print(\"mean abs error: \", mae)\n",
    "print(\"mean sqr error: \", mse)\n",
    "print(\"r2score :\", r2score)"
   ]
  },
  {
   "cell_type": "code",
   "execution_count": 45,
   "id": "297f831b-b5c1-45c0-af59-b50951fe1ff5",
   "metadata": {},
   "outputs": [
    {
     "name": "stdout",
     "output_type": "stream",
     "text": [
      "mean abs error:  1.5389709152622442\n",
      "mean sqr error:  3.924420484791072\n",
      "r2score : 0.9414272855785941\n",
      "lambda:  0.1 \n",
      "\n",
      "\n"
     ]
    }
   ],
   "source": [
    "from sklearn.linear_model import RidgeCV\n",
    "ridgeCV = RidgeCV(cv=5)\n",
    "ridgeCV.fit(X_train_scaled, y_train)\n",
    "y_pred = ridgeCV.predict(X_test_scaled)\n",
    "mae = mean_absolute_error(y_test, y_pred)\n",
    "mse = mean_squared_error(y_test, y_pred)\n",
    "r2score = r2_score(y_test, y_pred)\n",
    "\n",
    "print(\"mean abs error: \", mae)\n",
    "print(\"mean sqr error: \", mse)\n",
    "print(\"r2score :\", r2score)\n",
    "\n",
    "print(\"lambda: \", ridgeCV.alpha_, \"\\n\\n\")"
   ]
  },
  {
   "cell_type": "markdown",
   "id": "a8279930-5a65-405e-a6b2-19c89d983d99",
   "metadata": {},
   "source": [
    "## ElacticNet and ElasticNetCV"
   ]
  },
  {
   "cell_type": "code",
   "execution_count": 46,
   "id": "2c5e39f3-c05b-43d3-9aea-e1d352048f1d",
   "metadata": {},
   "outputs": [
    {
     "name": "stdout",
     "output_type": "stream",
     "text": [
      "mean abs error:  2.7036149851129267\n",
      "mean sqr error:  12.73410823355131\n",
      "r2score : 0.8099410376982623\n"
     ]
    }
   ],
   "source": [
    "from sklearn.linear_model import ElasticNet\n",
    "el = ElasticNet()\n",
    "el.fit(X_train_scaled, y_train)\n",
    "y_pred = el.predict(X_test_scaled)\n",
    "mae = mean_absolute_error(y_test, y_pred)\n",
    "mse = mean_squared_error(y_test, y_pred)\n",
    "r2score = r2_score(y_test, y_pred)\n",
    "\n",
    "print(\"mean abs error: \", mae)\n",
    "print(\"mean sqr error: \", mse)\n",
    "print(\"r2score :\", r2score)"
   ]
  },
  {
   "cell_type": "code",
   "execution_count": 47,
   "id": "28f34dcf-e536-4175-86f2-4ad18d953b49",
   "metadata": {},
   "outputs": [
    {
     "name": "stdout",
     "output_type": "stream",
     "text": [
      "mean abs error:  1.5404806413587329\n",
      "mean sqr error:  3.9297109609351453\n",
      "r2score : 0.9413483242263281\n"
     ]
    }
   ],
   "source": [
    "from sklearn.linear_model import ElasticNetCV\n",
    "elCV = ElasticNetCV(cv=5)\n",
    "elCV.fit(X_train_scaled, y_train)\n",
    "y_pred = elCV.predict(X_test_scaled)\n",
    "mae = mean_absolute_error(y_test, y_pred)\n",
    "mse = mean_squared_error(y_test, y_pred)\n",
    "r2score = r2_score(y_test, y_pred)\n",
    "\n",
    "print(\"mean abs error: \", mae)\n",
    "print(\"mean sqr error: \", mse)\n",
    "print(\"r2score :\", r2score)"
   ]
  },
  {
   "cell_type": "code",
   "execution_count": 48,
   "id": "f166ed88-289e-4736-aa52-ed79b2734292",
   "metadata": {},
   "outputs": [
    {
     "data": {
      "text/plain": [
       "array([10001, 10002, 10101, 10102, 10502, 10505, 10701, 10703, 10704,\n",
       "       10705, 10718, 10802, 10803, 10804, 10806, 10807, 11101, 11103,\n",
       "       11501, 11601, 11604, 11606, 11610, 11615, 11701, 11704, 11801,\n",
       "       11901, 11902, 12001, 12101, 12701, 12702, 12706, 12801, 13002,\n",
       "       13005, 13007, 13013, 13201, 13601, 15027, 16101, 16201, 16202,\n",
       "       16405, 16407, 16504, 20501, 20602, 21501, 22502, 22504, 22507,\n",
       "       22508, 22509, 30001, 31001, 31101, 31302, 31401, 31501, 31701,\n",
       "       32301, 32501, 32503, 32504, 32601, 32602, 32603, 32701, 32702,\n",
       "       32801, 32803, 32805, 32812, 32815, 32904, 32906, 32907, 33003,\n",
       "       33013, 33014, 33019, 33023, 33031, 33044, 33109, 33111, 33117,\n",
       "       33121, 33123, 33205, 33206, 33303, 33305, 33307, 33401, 33405,\n",
       "       33406, 33501, 34002, 34003, 34005, 34012, 34013, 34017, 34018,\n",
       "       34022, 34101, 34104, 34105, 34109, 34111, 34113, 34123, 34139,\n",
       "       34147, 34150, 40601, 41204, 41207, 42204, 42206, 42401, 43201,\n",
       "       43302, 43305, 43307, 44401, 50301, 50302, 50303, 50304, 50401,\n",
       "       50403, 50801, 50802, 60701, 61501, 61502, 62701, 80411, 80412,\n",
       "       80425, 80504, 80509, 80510, 81404, 81601, 81702, 82402, 82403,\n",
       "       82404, 82405, 82501, 82502, 82503, 82506])"
      ]
     },
     "execution_count": 48,
     "metadata": {},
     "output_type": "execute_result"
    }
   ],
   "source": [
    "data_frame[\"STA\"].unique()"
   ]
  },
  {
   "cell_type": "markdown",
   "id": "737b74c1-7524-40ba-9350-343cebda4a88",
   "metadata": {},
   "source": [
    "# Weather Station Locations"
   ]
  },
  {
   "cell_type": "code",
   "execution_count": 49,
   "id": "2e9fd504-23de-4fb8-b57a-3760aecc70a8",
   "metadata": {},
   "outputs": [],
   "source": [
    "df=pd.read_csv(\"Weather_Station_Locations.csv\")"
   ]
  },
  {
   "cell_type": "code",
   "execution_count": 50,
   "id": "711418d3-4ad3-440f-9854-8ac777252121",
   "metadata": {},
   "outputs": [
    {
     "data": {
      "text/html": [
       "<div>\n",
       "<style scoped>\n",
       "    .dataframe tbody tr th:only-of-type {\n",
       "        vertical-align: middle;\n",
       "    }\n",
       "\n",
       "    .dataframe tbody tr th {\n",
       "        vertical-align: top;\n",
       "    }\n",
       "\n",
       "    .dataframe thead th {\n",
       "        text-align: right;\n",
       "    }\n",
       "</style>\n",
       "<table border=\"1\" class=\"dataframe\">\n",
       "  <thead>\n",
       "    <tr style=\"text-align: right;\">\n",
       "      <th></th>\n",
       "      <th>WBAN</th>\n",
       "      <th>NAME</th>\n",
       "      <th>STATE/COUNTRY ID</th>\n",
       "      <th>LAT</th>\n",
       "      <th>LON</th>\n",
       "      <th>ELEV</th>\n",
       "      <th>Latitude</th>\n",
       "      <th>Longitude</th>\n",
       "    </tr>\n",
       "  </thead>\n",
       "  <tbody>\n",
       "    <tr>\n",
       "      <th>0</th>\n",
       "      <td>33013</td>\n",
       "      <td>AIN EL</td>\n",
       "      <td>AL</td>\n",
       "      <td>3623N</td>\n",
       "      <td>00637E</td>\n",
       "      <td>611</td>\n",
       "      <td>36.383333</td>\n",
       "      <td>6.650000</td>\n",
       "    </tr>\n",
       "    <tr>\n",
       "      <th>1</th>\n",
       "      <td>33031</td>\n",
       "      <td>LA SENIA</td>\n",
       "      <td>AL</td>\n",
       "      <td>3537N</td>\n",
       "      <td>00037E</td>\n",
       "      <td>88</td>\n",
       "      <td>35.616667</td>\n",
       "      <td>0.583333</td>\n",
       "    </tr>\n",
       "    <tr>\n",
       "      <th>2</th>\n",
       "      <td>33023</td>\n",
       "      <td>MAISON BLANCHE</td>\n",
       "      <td>AL</td>\n",
       "      <td>3643N</td>\n",
       "      <td>00314E</td>\n",
       "      <td>23</td>\n",
       "      <td>36.716667</td>\n",
       "      <td>3.216667</td>\n",
       "    </tr>\n",
       "    <tr>\n",
       "      <th>3</th>\n",
       "      <td>33044</td>\n",
       "      <td>TELERGMA</td>\n",
       "      <td>AL</td>\n",
       "      <td>3607N</td>\n",
       "      <td>00621E</td>\n",
       "      <td>754</td>\n",
       "      <td>36.116667</td>\n",
       "      <td>6.416667</td>\n",
       "    </tr>\n",
       "    <tr>\n",
       "      <th>4</th>\n",
       "      <td>12001</td>\n",
       "      <td>TINDOUF</td>\n",
       "      <td>AL</td>\n",
       "      <td>2741N</td>\n",
       "      <td>00809W</td>\n",
       "      <td>443</td>\n",
       "      <td>27.683333</td>\n",
       "      <td>-8.083333</td>\n",
       "    </tr>\n",
       "  </tbody>\n",
       "</table>\n",
       "</div>"
      ],
      "text/plain": [
       "    WBAN            NAME STATE/COUNTRY ID    LAT     LON  ELEV   Latitude  \\\n",
       "0  33013          AIN EL               AL  3623N  00637E   611  36.383333   \n",
       "1  33031        LA SENIA               AL  3537N  00037E    88  35.616667   \n",
       "2  33023  MAISON BLANCHE               AL  3643N  00314E    23  36.716667   \n",
       "3  33044        TELERGMA               AL  3607N  00621E   754  36.116667   \n",
       "4  12001         TINDOUF               AL  2741N  00809W   443  27.683333   \n",
       "\n",
       "   Longitude  \n",
       "0   6.650000  \n",
       "1   0.583333  \n",
       "2   3.216667  \n",
       "3   6.416667  \n",
       "4  -8.083333  "
      ]
     },
     "execution_count": 50,
     "metadata": {},
     "output_type": "execute_result"
    }
   ],
   "source": [
    "df.head()"
   ]
  },
  {
   "cell_type": "code",
   "execution_count": 51,
   "id": "36b2bc0d-6258-4608-bfc0-d9fc0f4bd0b4",
   "metadata": {},
   "outputs": [
    {
     "name": "stdout",
     "output_type": "stream",
     "text": [
      "<class 'pandas.core.frame.DataFrame'>\n",
      "RangeIndex: 161 entries, 0 to 160\n",
      "Data columns (total 8 columns):\n",
      " #   Column            Non-Null Count  Dtype  \n",
      "---  ------            --------------  -----  \n",
      " 0   WBAN              161 non-null    int64  \n",
      " 1   NAME              161 non-null    object \n",
      " 2   STATE/COUNTRY ID  161 non-null    object \n",
      " 3   LAT               161 non-null    object \n",
      " 4   LON               161 non-null    object \n",
      " 5   ELEV              161 non-null    int64  \n",
      " 6   Latitude          161 non-null    float64\n",
      " 7   Longitude         161 non-null    float64\n",
      "dtypes: float64(2), int64(2), object(4)\n",
      "memory usage: 10.2+ KB\n"
     ]
    }
   ],
   "source": [
    "df.info()"
   ]
  },
  {
   "cell_type": "code",
   "execution_count": 52,
   "id": "42cce96f-63d5-4525-bbea-08a4e1d93c4c",
   "metadata": {},
   "outputs": [
    {
     "data": {
      "text/html": [
       "<div>\n",
       "<style scoped>\n",
       "    .dataframe tbody tr th:only-of-type {\n",
       "        vertical-align: middle;\n",
       "    }\n",
       "\n",
       "    .dataframe tbody tr th {\n",
       "        vertical-align: top;\n",
       "    }\n",
       "\n",
       "    .dataframe thead th {\n",
       "        text-align: right;\n",
       "    }\n",
       "</style>\n",
       "<table border=\"1\" class=\"dataframe\">\n",
       "  <thead>\n",
       "    <tr style=\"text-align: right;\">\n",
       "      <th></th>\n",
       "      <th>WBAN</th>\n",
       "      <th>NAME</th>\n",
       "      <th>STATE/COUNTRY ID</th>\n",
       "      <th>LAT</th>\n",
       "      <th>LON</th>\n",
       "      <th>ELEV</th>\n",
       "      <th>Latitude</th>\n",
       "      <th>Longitude</th>\n",
       "    </tr>\n",
       "  </thead>\n",
       "  <tbody>\n",
       "    <tr>\n",
       "      <th>25</th>\n",
       "      <td>50403</td>\n",
       "      <td>SAO LUIZ</td>\n",
       "      <td>BZ</td>\n",
       "      <td>0235S</td>\n",
       "      <td>04414W</td>\n",
       "      <td>47</td>\n",
       "      <td>-2.583333</td>\n",
       "      <td>-44.233333</td>\n",
       "    </tr>\n",
       "  </tbody>\n",
       "</table>\n",
       "</div>"
      ],
      "text/plain": [
       "     WBAN      NAME STATE/COUNTRY ID    LAT     LON  ELEV  Latitude  Longitude\n",
       "25  50403  SAO LUIZ               BZ  0235S  04414W    47 -2.583333 -44.233333"
      ]
     },
     "execution_count": 52,
     "metadata": {},
     "output_type": "execute_result"
    }
   ],
   "source": [
    "df[df[\"LAT\"]==\"0235S\"]"
   ]
  },
  {
   "cell_type": "markdown",
   "id": "74e84f10-a307-47ae-8d58-89e77134a93e",
   "metadata": {},
   "source": [
    "### For those in the southern latitude, \"Latitude\" and \"Longitude\" value is -,  for the northern latitude it is +.<br><br> As a result, we may not use the \"LAT\" and \"LON\" columns."
   ]
  },
  {
   "cell_type": "code",
   "execution_count": 53,
   "id": "f4c40c38-227b-47aa-b7ef-8ede9dd3255e",
   "metadata": {},
   "outputs": [],
   "source": [
    "df_clean=df.drop([\"LAT\",\"LON\"],axis=1)"
   ]
  },
  {
   "cell_type": "code",
   "execution_count": 54,
   "id": "562e32d2-50aa-48ce-b526-8e43eaff2345",
   "metadata": {},
   "outputs": [
    {
     "name": "stdout",
     "output_type": "stream",
     "text": [
      "<class 'pandas.core.frame.DataFrame'>\n",
      "RangeIndex: 161 entries, 0 to 160\n",
      "Data columns (total 6 columns):\n",
      " #   Column            Non-Null Count  Dtype  \n",
      "---  ------            --------------  -----  \n",
      " 0   WBAN              161 non-null    int64  \n",
      " 1   NAME              161 non-null    object \n",
      " 2   STATE/COUNTRY ID  161 non-null    object \n",
      " 3   ELEV              161 non-null    int64  \n",
      " 4   Latitude          161 non-null    float64\n",
      " 5   Longitude         161 non-null    float64\n",
      "dtypes: float64(2), int64(2), object(2)\n",
      "memory usage: 7.7+ KB\n"
     ]
    }
   ],
   "source": [
    "df_clean.info()"
   ]
  },
  {
   "cell_type": "code",
   "execution_count": 56,
   "id": "b49532ce-c009-4f41-a022-f4ab0740c7a2",
   "metadata": {},
   "outputs": [
    {
     "name": "stdout",
     "output_type": "stream",
     "text": [
      "     STA  Precip  YR  MO  DA    MaxTemp    MinTemp  Snowfall   MeanTemp  \\\n",
      "0  10001   1.016  42   7   1  25.555556  22.222222       0.0  23.888889   \n",
      "1  10001   0.000  42   7   2  28.888889  21.666667       0.0  25.555556   \n",
      "2  10001   2.540  42   7   3  26.111111  22.222222       0.0  24.444444   \n",
      "3  10001   2.540  42   7   4  26.666667  22.222222       0.0  24.444444   \n",
      "4  10001   0.000  42   7   5  26.666667  21.666667       0.0  24.444444   \n",
      "\n",
      "    NAME STATE/COUNTRY ID  ELEV  Latitude  Longitude  \n",
      "0  ACCRA               GH    62       5.6       -0.3  \n",
      "1  ACCRA               GH    62       5.6       -0.3  \n",
      "2  ACCRA               GH    62       5.6       -0.3  \n",
      "3  ACCRA               GH    62       5.6       -0.3  \n",
      "4  ACCRA               GH    62       5.6       -0.3  \n",
      "(119040, 14)\n"
     ]
    }
   ],
   "source": [
    "# 'WBAN' ve 'STA' sütunlarının aynı veriyi temsil ettiğini varsayalım.\n",
    "# `df_clean`'de bu sütunun adı 'WBAN', `data_frame_clean`'de ise 'STA' \n",
    "# Eğer isimler farklıysa, birini diğerine uydurmak gerekir.\n",
    "\n",
    "# 'WBAN' sütununu 'STA' olarak yeniden adlandır\n",
    "df_clean.rename(columns={'WBAN': 'STA'}, inplace=True)\n",
    "\n",
    "# İki DataFrame'i 'STA' sütununa göre birleştir\n",
    "# `how='left'` diyerek, tüm hava durumu gözlemlerini (`data_frame_clean`) korursun\n",
    "# ve her birine ilgili istasyon bilgilerini (`df_clean`) eklersin.\n",
    "merged_data = pd.merge(data_frame_clean, df_clean, on=\"STA\", how='left')\n",
    "\n",
    "# Sonuçları kontrol etmek için ilk 5 satırı ve yeni DataFrame'in boyutunu yazdır\n",
    "print(merged_data.head())\n",
    "print(merged_data.shape)"
   ]
  },
  {
   "cell_type": "code",
   "execution_count": null,
   "id": "be25d7bb-46af-4caf-91b9-41027570b082",
   "metadata": {},
   "outputs": [],
   "source": []
  },
  {
   "cell_type": "code",
   "execution_count": null,
   "id": "6264e8aa-9b17-43c9-b41e-b10085023667",
   "metadata": {},
   "outputs": [],
   "source": []
  },
  {
   "cell_type": "code",
   "execution_count": null,
   "id": "8cc8a991-fcae-4393-a252-cb1955844f51",
   "metadata": {},
   "outputs": [],
   "source": []
  }
 ],
 "metadata": {
  "kernelspec": {
   "display_name": "Python [conda env:base] *",
   "language": "python",
   "name": "conda-base-py"
  },
  "language_info": {
   "codemirror_mode": {
    "name": "ipython",
    "version": 3
   },
   "file_extension": ".py",
   "mimetype": "text/x-python",
   "name": "python",
   "nbconvert_exporter": "python",
   "pygments_lexer": "ipython3",
   "version": "3.13.5"
  }
 },
 "nbformat": 4,
 "nbformat_minor": 5
}
