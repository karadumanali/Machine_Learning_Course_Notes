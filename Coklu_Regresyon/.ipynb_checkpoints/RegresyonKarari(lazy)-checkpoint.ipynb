{
 "cells": [
  {
   "cell_type": "markdown",
   "id": "5747a561-2935-46ac-8717-f3b8be62ec2b",
   "metadata": {},
   "source": [
    "### Lazy Predict'in ana amacı, veri bilimcilerin ve analistlerin bir veri setindeki en iyi performansı gösteren modeli hızlıca bulmalarını sağlamaktır.<br> Normalde, bir problemi çözmek için hangi modelin (Lineer Regresyon, Karar Ağaçları, Destek Vektör Makineleri vb.) daha iyi olacağını anlamak için her birini ayrı ayrı kurup eğitmeniz ve test etmeniz gerekir"
   ]
  },
  {
   "cell_type": "markdown",
   "id": "22d60464-2401-4b4f-839f-e3b464b6f11f",
   "metadata": {},
   "source": [
    "### Lazy Predict, bu süreci otomatikleştirir: <br>Veri setini (X ve y) ona verirsiniz. <br>Arkasında çalışan yaklaşık 40 farklı modeli otomatik olarak eğitir ve test eder. <br>Tüm modellerin performans skorlarını (R2, MSE gibi) bir tablo halinde sunar."
   ]
  },
  {
   "cell_type": "code",
   "execution_count": 1,
   "id": "e9e9b16b-27c6-463a-a31a-754a920a52cc",
   "metadata": {},
   "outputs": [],
   "source": [
    "# https://github.com/shankarpandala/lazypredict uzerinden araş-stirma yapabilirsin"
   ]
  },
  {
   "cell_type": "code",
   "execution_count": 7,
   "id": "0e274049-4ff7-469e-9ef2-08ead4865803",
   "metadata": {},
   "outputs": [],
   "source": [
    " #!pip install lazypredict--> seklinde yukleyebilirz"
   ]
  },
  {
   "cell_type": "code",
   "execution_count": 8,
   "id": "a28ffea4-5bd5-450b-980c-c09df3d504f0",
   "metadata": {},
   "outputs": [],
   "source": [
    "import lazypredict\n"
   ]
  },
  {
   "cell_type": "code",
   "execution_count": 11,
   "id": "84df6dbc-70f6-4d5a-8629-076dac7f70ae",
   "metadata": {},
   "outputs": [],
   "source": [
    "from lazypredict.Supervised import LazyRegressor\n",
    "from sklearn import datasets\n",
    "from sklearn.utils import shuffle\n",
    "import numpy as np  #seklinnde gereken importlari yapalim"
   ]
  },
  {
   "cell_type": "code",
   "execution_count": 12,
   "id": "0fd7a55b-4eda-4240-a926-80d01f67019f",
   "metadata": {},
   "outputs": [],
   "source": [
    "diabetes  = datasets.load_diabetes()  #sklearn'de bulunan hazir bazi datalari kullanabiliriz bu da bir tanesi"
   ]
  },
  {
   "cell_type": "code",
   "execution_count": 13,
   "id": "a6b58021-a3b0-4845-aa6b-203198803df5",
   "metadata": {},
   "outputs": [],
   "source": [
    "X, y = shuffle(diabetes.data, diabetes.target, random_state=13)\n",
    "X = X.astype(np.float32)"
   ]
  },
  {
   "cell_type": "code",
   "execution_count": 15,
   "id": "81aa87a7-ecb8-40d1-affa-8d76cf5c656f",
   "metadata": {},
   "outputs": [],
   "source": [
    "offset = int(X.shape[0] * 0.9)\n",
    "\n",
    "X_train, y_train = X[:offset], y[:offset]\n",
    "X_test, y_test = X[offset:], y[offset:]\n",
    "# 0.9 'unu train'e atmis kalanini test'e atmis test-train kullanmamis"
   ]
  },
  {
   "cell_type": "code",
   "execution_count": 16,
   "id": "db884cb9-762c-41d8-9429-08e816c69c5d",
   "metadata": {},
   "outputs": [
    {
     "data": {
      "application/vnd.jupyter.widget-view+json": {
       "model_id": "0f787005d33949aeb8efbfbbe22a8339",
       "version_major": 2,
       "version_minor": 0
      },
      "text/plain": [
       "  0%|          | 0/42 [00:00<?, ?it/s]"
      ]
     },
     "metadata": {},
     "output_type": "display_data"
    },
    {
     "name": "stderr",
     "output_type": "stream",
     "text": [
      "  File \"C:\\for code\\anaconda3\\Lib\\site-packages\\joblib\\externals\\loky\\backend\\context.py\", line 257, in _count_physical_cores\n",
      "    cpu_info = subprocess.run(\n",
      "        \"wmic CPU Get NumberOfCores /Format:csv\".split(),\n",
      "        capture_output=True,\n",
      "        text=True,\n",
      "    )\n",
      "  File \"C:\\for code\\anaconda3\\Lib\\subprocess.py\", line 554, in run\n",
      "    with Popen(*popenargs, **kwargs) as process:\n",
      "         ~~~~~^^^^^^^^^^^^^^^^^^^^^^\n",
      "  File \"C:\\for code\\anaconda3\\Lib\\subprocess.py\", line 1039, in __init__\n",
      "    self._execute_child(args, executable, preexec_fn, close_fds,\n",
      "    ~~~~~~~~~~~~~~~~~~~^^^^^^^^^^^^^^^^^^^^^^^^^^^^^^^^^^^^^^^^^\n",
      "                        pass_fds, cwd, env,\n",
      "                        ^^^^^^^^^^^^^^^^^^^\n",
      "    ...<5 lines>...\n",
      "                        gid, gids, uid, umask,\n",
      "                        ^^^^^^^^^^^^^^^^^^^^^^\n",
      "                        start_new_session, process_group)\n",
      "                        ^^^^^^^^^^^^^^^^^^^^^^^^^^^^^^^^^\n",
      "  File \"C:\\for code\\anaconda3\\Lib\\subprocess.py\", line 1554, in _execute_child\n",
      "    hp, ht, pid, tid = _winapi.CreateProcess(executable, args,\n",
      "                       ~~~~~~~~~~~~~~~~~~~~~^^^^^^^^^^^^^^^^^^\n",
      "                             # no special security\n",
      "                             ^^^^^^^^^^^^^^^^^^^^^\n",
      "    ...<4 lines>...\n",
      "                             cwd,\n",
      "                             ^^^^\n",
      "                             startupinfo)\n",
      "                             ^^^^^^^^^^^^\n"
     ]
    },
    {
     "name": "stdout",
     "output_type": "stream",
     "text": [
      "[LightGBM] [Info] Auto-choosing col-wise multi-threading, the overhead of testing was 0.000206 seconds.\n",
      "You can set `force_col_wise=true` to remove the overhead.\n",
      "[LightGBM] [Info] Total Bins 640\n",
      "[LightGBM] [Info] Number of data points in the train set: 397, number of used features: 10\n",
      "[LightGBM] [Info] Start training from score 151.722922\n",
      "[LightGBM] [Warning] No further splits with positive gain, best gain: -inf\n",
      "[LightGBM] [Warning] No further splits with positive gain, best gain: -inf\n",
      "[LightGBM] [Warning] No further splits with positive gain, best gain: -inf\n",
      "[LightGBM] [Warning] No further splits with positive gain, best gain: -inf\n",
      "[LightGBM] [Warning] No further splits with positive gain, best gain: -inf\n",
      "[LightGBM] [Warning] No further splits with positive gain, best gain: -inf\n",
      "[LightGBM] [Warning] No further splits with positive gain, best gain: -inf\n",
      "[LightGBM] [Warning] No further splits with positive gain, best gain: -inf\n",
      "[LightGBM] [Warning] No further splits with positive gain, best gain: -inf\n",
      "[LightGBM] [Warning] No further splits with positive gain, best gain: -inf\n",
      "[LightGBM] [Warning] No further splits with positive gain, best gain: -inf\n",
      "[LightGBM] [Warning] No further splits with positive gain, best gain: -inf\n",
      "[LightGBM] [Warning] No further splits with positive gain, best gain: -inf\n",
      "[LightGBM] [Warning] No further splits with positive gain, best gain: -inf\n",
      "[LightGBM] [Warning] No further splits with positive gain, best gain: -inf\n",
      "[LightGBM] [Warning] No further splits with positive gain, best gain: -inf\n",
      "[LightGBM] [Warning] No further splits with positive gain, best gain: -inf\n",
      "[LightGBM] [Warning] No further splits with positive gain, best gain: -inf\n",
      "[LightGBM] [Warning] No further splits with positive gain, best gain: -inf\n",
      "[LightGBM] [Warning] No further splits with positive gain, best gain: -inf\n",
      "[LightGBM] [Warning] No further splits with positive gain, best gain: -inf\n",
      "[LightGBM] [Warning] No further splits with positive gain, best gain: -inf\n",
      "[LightGBM] [Warning] No further splits with positive gain, best gain: -inf\n",
      "[LightGBM] [Warning] No further splits with positive gain, best gain: -inf\n",
      "[LightGBM] [Warning] No further splits with positive gain, best gain: -inf\n",
      "[LightGBM] [Warning] No further splits with positive gain, best gain: -inf\n",
      "[LightGBM] [Warning] No further splits with positive gain, best gain: -inf\n",
      "[LightGBM] [Warning] No further splits with positive gain, best gain: -inf\n",
      "[LightGBM] [Warning] No further splits with positive gain, best gain: -inf\n",
      "[LightGBM] [Warning] No further splits with positive gain, best gain: -inf\n",
      "[LightGBM] [Warning] No further splits with positive gain, best gain: -inf\n",
      "[LightGBM] [Warning] No further splits with positive gain, best gain: -inf\n",
      "[LightGBM] [Warning] No further splits with positive gain, best gain: -inf\n",
      "[LightGBM] [Warning] No further splits with positive gain, best gain: -inf\n",
      "[LightGBM] [Warning] No further splits with positive gain, best gain: -inf\n",
      "[LightGBM] [Warning] No further splits with positive gain, best gain: -inf\n",
      "[LightGBM] [Warning] No further splits with positive gain, best gain: -inf\n",
      "[LightGBM] [Warning] No further splits with positive gain, best gain: -inf\n",
      "[LightGBM] [Warning] No further splits with positive gain, best gain: -inf\n",
      "[LightGBM] [Warning] No further splits with positive gain, best gain: -inf\n",
      "[LightGBM] [Warning] No further splits with positive gain, best gain: -inf\n",
      "[LightGBM] [Warning] No further splits with positive gain, best gain: -inf\n",
      "[LightGBM] [Warning] No further splits with positive gain, best gain: -inf\n",
      "[LightGBM] [Warning] No further splits with positive gain, best gain: -inf\n",
      "[LightGBM] [Warning] No further splits with positive gain, best gain: -inf\n",
      "[LightGBM] [Warning] No further splits with positive gain, best gain: -inf\n",
      "[LightGBM] [Warning] No further splits with positive gain, best gain: -inf\n",
      "[LightGBM] [Warning] No further splits with positive gain, best gain: -inf\n",
      "[LightGBM] [Warning] No further splits with positive gain, best gain: -inf\n",
      "[LightGBM] [Warning] No further splits with positive gain, best gain: -inf\n",
      "[LightGBM] [Warning] No further splits with positive gain, best gain: -inf\n",
      "[LightGBM] [Warning] No further splits with positive gain, best gain: -inf\n",
      "[LightGBM] [Warning] No further splits with positive gain, best gain: -inf\n",
      "[LightGBM] [Warning] No further splits with positive gain, best gain: -inf\n",
      "[LightGBM] [Warning] No further splits with positive gain, best gain: -inf\n",
      "[LightGBM] [Warning] No further splits with positive gain, best gain: -inf\n",
      "[LightGBM] [Warning] No further splits with positive gain, best gain: -inf\n",
      "[LightGBM] [Warning] No further splits with positive gain, best gain: -inf\n",
      "[LightGBM] [Warning] No further splits with positive gain, best gain: -inf\n",
      "[LightGBM] [Warning] No further splits with positive gain, best gain: -inf\n",
      "[LightGBM] [Warning] No further splits with positive gain, best gain: -inf\n",
      "[LightGBM] [Warning] No further splits with positive gain, best gain: -inf\n",
      "[LightGBM] [Warning] No further splits with positive gain, best gain: -inf\n",
      "[LightGBM] [Warning] No further splits with positive gain, best gain: -inf\n",
      "[LightGBM] [Warning] No further splits with positive gain, best gain: -inf\n",
      "[LightGBM] [Warning] No further splits with positive gain, best gain: -inf\n",
      "[LightGBM] [Warning] No further splits with positive gain, best gain: -inf\n",
      "[LightGBM] [Warning] No further splits with positive gain, best gain: -inf\n",
      "[LightGBM] [Warning] No further splits with positive gain, best gain: -inf\n",
      "[LightGBM] [Warning] No further splits with positive gain, best gain: -inf\n",
      "[LightGBM] [Warning] No further splits with positive gain, best gain: -inf\n",
      "[LightGBM] [Warning] No further splits with positive gain, best gain: -inf\n",
      "[LightGBM] [Warning] No further splits with positive gain, best gain: -inf\n",
      "[LightGBM] [Warning] No further splits with positive gain, best gain: -inf\n",
      "[LightGBM] [Warning] No further splits with positive gain, best gain: -inf\n",
      "[LightGBM] [Warning] No further splits with positive gain, best gain: -inf\n",
      "[LightGBM] [Warning] No further splits with positive gain, best gain: -inf\n",
      "[LightGBM] [Warning] No further splits with positive gain, best gain: -inf\n",
      "[LightGBM] [Warning] No further splits with positive gain, best gain: -inf\n",
      "[LightGBM] [Warning] No further splits with positive gain, best gain: -inf\n",
      "[LightGBM] [Warning] No further splits with positive gain, best gain: -inf\n",
      "[LightGBM] [Warning] No further splits with positive gain, best gain: -inf\n",
      "[LightGBM] [Warning] No further splits with positive gain, best gain: -inf\n",
      "[LightGBM] [Warning] No further splits with positive gain, best gain: -inf\n",
      "[LightGBM] [Warning] No further splits with positive gain, best gain: -inf\n",
      "[LightGBM] [Warning] No further splits with positive gain, best gain: -inf\n",
      "[LightGBM] [Warning] No further splits with positive gain, best gain: -inf\n",
      "[LightGBM] [Warning] No further splits with positive gain, best gain: -inf\n",
      "[LightGBM] [Warning] No further splits with positive gain, best gain: -inf\n",
      "[LightGBM] [Warning] No further splits with positive gain, best gain: -inf\n",
      "[LightGBM] [Warning] No further splits with positive gain, best gain: -inf\n",
      "[LightGBM] [Warning] No further splits with positive gain, best gain: -inf\n",
      "[LightGBM] [Warning] No further splits with positive gain, best gain: -inf\n",
      "[LightGBM] [Warning] No further splits with positive gain, best gain: -inf\n",
      "[LightGBM] [Warning] No further splits with positive gain, best gain: -inf\n",
      "[LightGBM] [Warning] No further splits with positive gain, best gain: -inf\n",
      "[LightGBM] [Warning] No further splits with positive gain, best gain: -inf\n",
      "[LightGBM] [Warning] No further splits with positive gain, best gain: -inf\n",
      "[LightGBM] [Warning] No further splits with positive gain, best gain: -inf\n",
      "[LightGBM] [Warning] No further splits with positive gain, best gain: -inf\n"
     ]
    }
   ],
   "source": [
    "reg = LazyRegressor(verbose=0, ignore_warnings=False, custom_metric=None)\n",
    "models, predictions = reg.fit(X_train, X_test, y_train, y_test)\n",
    "\n",
    "#verbose=0--> verbose=1'e gore daha az bilgi verir ne yaptigi ile ilgili\n",
    "#ignore_warnings-->eger True olursa olusan hatalari bize gosterir\n",
    "#custom_metric-->kendimize ozel metric varsa yazabilirz"
   ]
  },
  {
   "cell_type": "code",
   "execution_count": 17,
   "id": "3f671900-d694-4da3-ab45-fb9953dff08d",
   "metadata": {},
   "outputs": [
    {
     "name": "stdout",
     "output_type": "stream",
     "text": [
      "                               Adjusted R-Squared  R-Squared   RMSE  \\\n",
      "Model                                                                 \n",
      "ExtraTreesRegressor                          0.38       0.52  54.22   \n",
      "OrthogonalMatchingPursuitCV                  0.37       0.52  54.39   \n",
      "Lasso                                        0.37       0.52  54.46   \n",
      "LassoLars                                    0.37       0.52  54.46   \n",
      "LarsCV                                       0.37       0.51  54.54   \n",
      "LassoCV                                      0.37       0.51  54.59   \n",
      "PassiveAggressiveRegressor                   0.37       0.51  54.74   \n",
      "LassoLarsIC                                  0.36       0.51  54.83   \n",
      "SGDRegressor                                 0.36       0.51  54.85   \n",
      "Ridge                                        0.36       0.51  54.91   \n",
      "RidgeCV                                      0.36       0.51  54.91   \n",
      "BayesianRidge                                0.36       0.51  54.94   \n",
      "LassoLarsCV                                  0.36       0.51  54.96   \n",
      "TransformedTargetRegressor                   0.36       0.51  54.96   \n",
      "LinearRegression                             0.36       0.51  54.96   \n",
      "Lars                                         0.36       0.50  55.09   \n",
      "ElasticNetCV                                 0.36       0.50  55.20   \n",
      "HuberRegressor                               0.36       0.50  55.24   \n",
      "RandomForestRegressor                        0.35       0.50  55.48   \n",
      "AdaBoostRegressor                            0.34       0.49  55.88   \n",
      "LGBMRegressor                                0.34       0.49  55.93   \n",
      "HistGradientBoostingRegressor                0.34       0.49  56.08   \n",
      "PoissonRegressor                             0.32       0.48  56.61   \n",
      "ElasticNet                                   0.30       0.46  57.49   \n",
      "KNeighborsRegressor                          0.30       0.46  57.57   \n",
      "OrthogonalMatchingPursuit                    0.29       0.45  57.87   \n",
      "BaggingRegressor                             0.29       0.45  57.92   \n",
      "GradientBoostingRegressor                    0.25       0.42  59.70   \n",
      "TweedieRegressor                             0.24       0.42  59.81   \n",
      "XGBRegressor                                 0.22       0.40  60.60   \n",
      "GammaRegressor                               0.22       0.40  60.61   \n",
      "RANSACRegressor                              0.20       0.38  61.40   \n",
      "LinearSVR                                    0.12       0.32  64.66   \n",
      "ExtraTreeRegressor                           0.00       0.23  68.73   \n",
      "NuSVR                                       -0.07       0.18  71.06   \n",
      "SVR                                         -0.10       0.15  72.04   \n",
      "DummyRegressor                              -0.30      -0.00  78.37   \n",
      "QuantileRegressor                           -0.35      -0.04  79.84   \n",
      "DecisionTreeRegressor                       -0.47      -0.14  83.42   \n",
      "GaussianProcessRegressor                    -0.77      -0.37  91.51   \n",
      "MLPRegressor                                -1.87      -1.22 116.51   \n",
      "KernelRidge                                 -5.04      -3.67 169.06   \n",
      "\n",
      "                               Time Taken  \n",
      "Model                                      \n",
      "ExtraTreesRegressor                  0.14  \n",
      "OrthogonalMatchingPursuitCV          0.01  \n",
      "Lasso                                0.01  \n",
      "LassoLars                            0.01  \n",
      "LarsCV                               0.02  \n",
      "LassoCV                              0.04  \n",
      "PassiveAggressiveRegressor           0.01  \n",
      "LassoLarsIC                          0.01  \n",
      "SGDRegressor                         0.01  \n",
      "Ridge                                0.04  \n",
      "RidgeCV                              0.01  \n",
      "BayesianRidge                        0.06  \n",
      "LassoLarsCV                          0.01  \n",
      "TransformedTargetRegressor           0.01  \n",
      "LinearRegression                     0.01  \n",
      "Lars                                 0.01  \n",
      "ElasticNetCV                         0.04  \n",
      "HuberRegressor                       0.02  \n",
      "RandomForestRegressor                0.25  \n",
      "AdaBoostRegressor                    0.07  \n",
      "LGBMRegressor                        0.13  \n",
      "HistGradientBoostingRegressor        0.31  \n",
      "PoissonRegressor                     0.01  \n",
      "ElasticNet                           0.01  \n",
      "KNeighborsRegressor                  0.01  \n",
      "OrthogonalMatchingPursuit            0.01  \n",
      "BaggingRegressor                     0.04  \n",
      "GradientBoostingRegressor            0.10  \n",
      "TweedieRegressor                     0.01  \n",
      "XGBRegressor                         0.10  \n",
      "GammaRegressor                       0.11  \n",
      "RANSACRegressor                      0.08  \n",
      "LinearSVR                            0.01  \n",
      "ExtraTreeRegressor                   0.01  \n",
      "NuSVR                                0.05  \n",
      "SVR                                  0.01  \n",
      "DummyRegressor                       0.00  \n",
      "QuantileRegressor                    0.03  \n",
      "DecisionTreeRegressor                0.01  \n",
      "GaussianProcessRegressor             0.02  \n",
      "MLPRegressor                         0.22  \n",
      "KernelRidge                          0.02  \n"
     ]
    }
   ],
   "source": [
    "print(models)"
   ]
  },
  {
   "cell_type": "markdown",
   "id": "be6f9930-4514-4f10-b462-a27624f49c91",
   "metadata": {},
   "source": [
    "## bu sekile hangi modeli kullanabilecegimze karar verebiliriz filan gayet iyi"
   ]
  },
  {
   "cell_type": "code",
   "execution_count": null,
   "id": "9ef8e166-8b2f-4310-b347-e4dd2bcccbf3",
   "metadata": {},
   "outputs": [],
   "source": []
  }
 ],
 "metadata": {
  "kernelspec": {
   "display_name": "Python [conda env:base] *",
   "language": "python",
   "name": "conda-base-py"
  },
  "language_info": {
   "codemirror_mode": {
    "name": "ipython",
    "version": 3
   },
   "file_extension": ".py",
   "mimetype": "text/x-python",
   "name": "python",
   "nbconvert_exporter": "python",
   "pygments_lexer": "ipython3",
   "version": "3.13.5"
  }
 },
 "nbformat": 4,
 "nbformat_minor": 5
}
