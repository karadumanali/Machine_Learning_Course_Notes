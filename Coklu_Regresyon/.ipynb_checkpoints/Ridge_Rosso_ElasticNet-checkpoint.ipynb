{
 "cells": [
  {
   "cell_type": "code",
   "execution_count": 51,
   "id": "f9fd940f-b5d6-4c91-856d-daa47f2120ae",
   "metadata": {},
   "outputs": [],
   "source": [
    "import pandas as pd\n",
    "import numpy as np\n",
    "import matplotlib.pyplot as plt\n",
    "import seaborn as sns\n",
    "%matplotlib inline"
   ]
  },
  {
   "cell_type": "code",
   "execution_count": 52,
   "id": "f5bda40a-929f-4f06-a10d-481c216997e4",
   "metadata": {},
   "outputs": [],
   "source": [
    "data_frame= pd.read_csv(\"Algerian_forest_fires_dataset.csv\")"
   ]
  },
  {
   "cell_type": "code",
   "execution_count": 53,
   "id": "ef3a1976-3c8c-40a4-a7af-0e620b9604d5",
   "metadata": {},
   "outputs": [
    {
     "data": {
      "text/html": [
       "<div>\n",
       "<style scoped>\n",
       "    .dataframe tbody tr th:only-of-type {\n",
       "        vertical-align: middle;\n",
       "    }\n",
       "\n",
       "    .dataframe tbody tr th {\n",
       "        vertical-align: top;\n",
       "    }\n",
       "\n",
       "    .dataframe thead th {\n",
       "        text-align: right;\n",
       "    }\n",
       "</style>\n",
       "<table border=\"1\" class=\"dataframe\">\n",
       "  <thead>\n",
       "    <tr style=\"text-align: right;\">\n",
       "      <th></th>\n",
       "      <th>day</th>\n",
       "      <th>month</th>\n",
       "      <th>year</th>\n",
       "      <th>Temperature</th>\n",
       "      <th>RH</th>\n",
       "      <th>Ws</th>\n",
       "      <th>Rain</th>\n",
       "      <th>FFMC</th>\n",
       "      <th>DMC</th>\n",
       "      <th>DC</th>\n",
       "      <th>ISI</th>\n",
       "      <th>BUI</th>\n",
       "      <th>FWI</th>\n",
       "      <th>Classes</th>\n",
       "    </tr>\n",
       "  </thead>\n",
       "  <tbody>\n",
       "    <tr>\n",
       "      <th>0</th>\n",
       "      <td>1</td>\n",
       "      <td>6</td>\n",
       "      <td>2012</td>\n",
       "      <td>29</td>\n",
       "      <td>57</td>\n",
       "      <td>18</td>\n",
       "      <td>0</td>\n",
       "      <td>65.7</td>\n",
       "      <td>3.4</td>\n",
       "      <td>7.6</td>\n",
       "      <td>1.3</td>\n",
       "      <td>3.4</td>\n",
       "      <td>0.5</td>\n",
       "      <td>not fire</td>\n",
       "    </tr>\n",
       "    <tr>\n",
       "      <th>1</th>\n",
       "      <td>2</td>\n",
       "      <td>6</td>\n",
       "      <td>2012</td>\n",
       "      <td>29</td>\n",
       "      <td>61</td>\n",
       "      <td>13</td>\n",
       "      <td>1.3</td>\n",
       "      <td>64.4</td>\n",
       "      <td>4.1</td>\n",
       "      <td>7.6</td>\n",
       "      <td>1</td>\n",
       "      <td>3.9</td>\n",
       "      <td>0.4</td>\n",
       "      <td>not fire</td>\n",
       "    </tr>\n",
       "    <tr>\n",
       "      <th>2</th>\n",
       "      <td>3</td>\n",
       "      <td>6</td>\n",
       "      <td>2012</td>\n",
       "      <td>26</td>\n",
       "      <td>82</td>\n",
       "      <td>22</td>\n",
       "      <td>13.1</td>\n",
       "      <td>47.1</td>\n",
       "      <td>2.5</td>\n",
       "      <td>7.1</td>\n",
       "      <td>0.3</td>\n",
       "      <td>2.7</td>\n",
       "      <td>0.1</td>\n",
       "      <td>not fire</td>\n",
       "    </tr>\n",
       "    <tr>\n",
       "      <th>3</th>\n",
       "      <td>4</td>\n",
       "      <td>6</td>\n",
       "      <td>2012</td>\n",
       "      <td>25</td>\n",
       "      <td>89</td>\n",
       "      <td>13</td>\n",
       "      <td>2.5</td>\n",
       "      <td>28.6</td>\n",
       "      <td>1.3</td>\n",
       "      <td>6.9</td>\n",
       "      <td>0</td>\n",
       "      <td>1.7</td>\n",
       "      <td>0</td>\n",
       "      <td>not fire</td>\n",
       "    </tr>\n",
       "    <tr>\n",
       "      <th>4</th>\n",
       "      <td>5</td>\n",
       "      <td>6</td>\n",
       "      <td>2012</td>\n",
       "      <td>27</td>\n",
       "      <td>77</td>\n",
       "      <td>16</td>\n",
       "      <td>0</td>\n",
       "      <td>64.8</td>\n",
       "      <td>3</td>\n",
       "      <td>14.2</td>\n",
       "      <td>1.2</td>\n",
       "      <td>3.9</td>\n",
       "      <td>0.5</td>\n",
       "      <td>not fire</td>\n",
       "    </tr>\n",
       "  </tbody>\n",
       "</table>\n",
       "</div>"
      ],
      "text/plain": [
       "  day month  year Temperature  RH  Ws Rain   FFMC  DMC    DC  ISI  BUI  FWI  \\\n",
       "0   1     6  2012          29  57  18     0  65.7  3.4   7.6  1.3  3.4  0.5   \n",
       "1   2     6  2012          29  61  13   1.3  64.4  4.1   7.6    1  3.9  0.4   \n",
       "2   3     6  2012          26  82  22  13.1  47.1  2.5   7.1  0.3  2.7  0.1   \n",
       "3   4     6  2012          25  89  13   2.5  28.6  1.3   6.9    0  1.7    0   \n",
       "4   5     6  2012          27  77  16     0  64.8    3  14.2  1.2  3.9  0.5   \n",
       "\n",
       "     Classes    \n",
       "0  not fire     \n",
       "1  not fire     \n",
       "2  not fire     \n",
       "3  not fire     \n",
       "4  not fire     "
      ]
     },
     "execution_count": 53,
     "metadata": {},
     "output_type": "execute_result"
    }
   ],
   "source": [
    "data_frame.head()"
   ]
  },
  {
   "cell_type": "code",
   "execution_count": 54,
   "id": "e94cf8de-58c6-43cf-8586-24d868f0d337",
   "metadata": {},
   "outputs": [
    {
     "name": "stdout",
     "output_type": "stream",
     "text": [
      "<class 'pandas.core.frame.DataFrame'>\n",
      "RangeIndex: 247 entries, 0 to 246\n",
      "Data columns (total 14 columns):\n",
      " #   Column       Non-Null Count  Dtype \n",
      "---  ------       --------------  ----- \n",
      " 0   day          246 non-null    object\n",
      " 1   month        245 non-null    object\n",
      " 2   year         245 non-null    object\n",
      " 3   Temperature  245 non-null    object\n",
      " 4    RH          245 non-null    object\n",
      " 5    Ws          245 non-null    object\n",
      " 6   Rain         245 non-null    object\n",
      " 7   FFMC         245 non-null    object\n",
      " 8   DMC          245 non-null    object\n",
      " 9   DC           245 non-null    object\n",
      " 10  ISI          245 non-null    object\n",
      " 11  BUI          245 non-null    object\n",
      " 12  FWI          245 non-null    object\n",
      " 13  Classes      244 non-null    object\n",
      "dtypes: object(14)\n",
      "memory usage: 27.1+ KB\n"
     ]
    }
   ],
   "source": [
    "data_frame.info()"
   ]
  },
  {
   "cell_type": "code",
   "execution_count": 55,
   "id": "5cded02b-7b09-42db-a6ec-84040bf0b7ef",
   "metadata": {},
   "outputs": [
    {
     "data": {
      "text/plain": [
       "day            1\n",
       "month          2\n",
       "year           2\n",
       "Temperature    2\n",
       " RH            2\n",
       " Ws            2\n",
       "Rain           2\n",
       "FFMC           2\n",
       "DMC            2\n",
       "DC             2\n",
       "ISI            2\n",
       "BUI            2\n",
       "FWI            2\n",
       "Classes        3\n",
       "dtype: int64"
      ]
     },
     "execution_count": 55,
     "metadata": {},
     "output_type": "execute_result"
    }
   ],
   "source": [
    "data_frame.isnull().sum()"
   ]
  },
  {
   "cell_type": "code",
   "execution_count": 56,
   "id": "cbad1282-a359-4afa-b18f-82622e316b92",
   "metadata": {},
   "outputs": [
    {
     "data": {
      "text/html": [
       "<div>\n",
       "<style scoped>\n",
       "    .dataframe tbody tr th:only-of-type {\n",
       "        vertical-align: middle;\n",
       "    }\n",
       "\n",
       "    .dataframe tbody tr th {\n",
       "        vertical-align: top;\n",
       "    }\n",
       "\n",
       "    .dataframe thead th {\n",
       "        text-align: right;\n",
       "    }\n",
       "</style>\n",
       "<table border=\"1\" class=\"dataframe\">\n",
       "  <thead>\n",
       "    <tr style=\"text-align: right;\">\n",
       "      <th></th>\n",
       "      <th>day</th>\n",
       "      <th>month</th>\n",
       "      <th>year</th>\n",
       "      <th>Temperature</th>\n",
       "      <th>RH</th>\n",
       "      <th>Ws</th>\n",
       "      <th>Rain</th>\n",
       "      <th>FFMC</th>\n",
       "      <th>DMC</th>\n",
       "      <th>DC</th>\n",
       "      <th>ISI</th>\n",
       "      <th>BUI</th>\n",
       "      <th>FWI</th>\n",
       "      <th>Classes</th>\n",
       "    </tr>\n",
       "  </thead>\n",
       "  <tbody>\n",
       "    <tr>\n",
       "      <th>122</th>\n",
       "      <td>NaN</td>\n",
       "      <td>NaN</td>\n",
       "      <td>NaN</td>\n",
       "      <td>NaN</td>\n",
       "      <td>NaN</td>\n",
       "      <td>NaN</td>\n",
       "      <td>NaN</td>\n",
       "      <td>NaN</td>\n",
       "      <td>NaN</td>\n",
       "      <td>NaN</td>\n",
       "      <td>NaN</td>\n",
       "      <td>NaN</td>\n",
       "      <td>NaN</td>\n",
       "      <td>NaN</td>\n",
       "    </tr>\n",
       "    <tr>\n",
       "      <th>123</th>\n",
       "      <td>Sidi-Bel Abbes Region Dataset</td>\n",
       "      <td>NaN</td>\n",
       "      <td>NaN</td>\n",
       "      <td>NaN</td>\n",
       "      <td>NaN</td>\n",
       "      <td>NaN</td>\n",
       "      <td>NaN</td>\n",
       "      <td>NaN</td>\n",
       "      <td>NaN</td>\n",
       "      <td>NaN</td>\n",
       "      <td>NaN</td>\n",
       "      <td>NaN</td>\n",
       "      <td>NaN</td>\n",
       "      <td>NaN</td>\n",
       "    </tr>\n",
       "    <tr>\n",
       "      <th>168</th>\n",
       "      <td>14</td>\n",
       "      <td>7</td>\n",
       "      <td>2012</td>\n",
       "      <td>37</td>\n",
       "      <td>37</td>\n",
       "      <td>18</td>\n",
       "      <td>0.2</td>\n",
       "      <td>88.9</td>\n",
       "      <td>12.9</td>\n",
       "      <td>14.6 9</td>\n",
       "      <td>12.5</td>\n",
       "      <td>10.4</td>\n",
       "      <td>fire</td>\n",
       "      <td>NaN</td>\n",
       "    </tr>\n",
       "  </tbody>\n",
       "</table>\n",
       "</div>"
      ],
      "text/plain": [
       "                               day month  year Temperature   RH   Ws Rain   \\\n",
       "122                            NaN   NaN   NaN         NaN  NaN  NaN   NaN   \n",
       "123  Sidi-Bel Abbes Region Dataset   NaN   NaN         NaN  NaN  NaN   NaN   \n",
       "168                             14     7  2012          37   37   18   0.2   \n",
       "\n",
       "     FFMC   DMC      DC   ISI   BUI      FWI Classes    \n",
       "122   NaN   NaN     NaN   NaN   NaN      NaN       NaN  \n",
       "123   NaN   NaN     NaN   NaN   NaN      NaN       NaN  \n",
       "168  88.9  12.9  14.6 9  12.5  10.4  fire          NaN  "
      ]
     },
     "execution_count": 56,
     "metadata": {},
     "output_type": "execute_result"
    }
   ],
   "source": [
    "data_frame[data_frame.isnull().any(axis=1)] #sadece null degerlerin oldugu row'lar"
   ]
  },
  {
   "cell_type": "markdown",
   "id": "cc20bf5e-7201-4a38-8490-d9a7f1c70ec5",
   "metadata": {},
   "source": [
    "#### datasetin icerigini okursak iki bolge icin bu bilgiler var ve ilk bolgeninkiler 122'ye kadar, diger bolgenin ise 123 den sonrasi. Yani 123 ikinci bolgenin basligi gibi dusunebilin"
   ]
  },
  {
   "cell_type": "markdown",
   "id": "3b2b0279-086b-4324-9f94-7fc14f69e3ce",
   "metadata": {},
   "source": [
    "#### biz bu iki bolgeyi birlestirebiliriz ha ayri ayri bilgisi olsun istiyorsak yeni bir column acariz 122 ye kadar 0, 122 den sonra 1 degerini verip ayirma yapabiliriz"
   ]
  },
  {
   "cell_type": "code",
   "execution_count": 57,
   "id": "c2944547-b074-495b-aab8-b9e89cd0e83f",
   "metadata": {},
   "outputs": [],
   "source": [
    "data_frame.drop(122, inplace=True) #diyerek 122'yi bi silelim cunku full bos"
   ]
  },
  {
   "cell_type": "code",
   "execution_count": 58,
   "id": "1f9a47d3-4e03-47e5-bab1-215ffff95f2b",
   "metadata": {},
   "outputs": [],
   "source": [
    "data_frame.loc[:123, \"Region\"]=0\n",
    "data_frame.loc[123:, \"Region\"]=1"
   ]
  },
  {
   "cell_type": "code",
   "execution_count": 59,
   "id": "a90c92d7-064b-42cc-9995-5474d283436b",
   "metadata": {},
   "outputs": [
    {
     "name": "stdout",
     "output_type": "stream",
     "text": [
      "  day month  year Temperature  RH  Ws Rain   FFMC  DMC    DC  ISI  BUI  FWI  \\\n",
      "0   1     6  2012          29  57  18     0  65.7  3.4   7.6  1.3  3.4  0.5   \n",
      "1   2     6  2012          29  61  13   1.3  64.4  4.1   7.6    1  3.9  0.4   \n",
      "2   3     6  2012          26  82  22  13.1  47.1  2.5   7.1  0.3  2.7  0.1   \n",
      "3   4     6  2012          25  89  13   2.5  28.6  1.3   6.9    0  1.7    0   \n",
      "4   5     6  2012          27  77  16     0  64.8    3  14.2  1.2  3.9  0.5   \n",
      "\n",
      "     Classes    Region  \n",
      "0  not fire        0.0  \n",
      "1  not fire        0.0  \n",
      "2  not fire        0.0  \n",
      "3  not fire        0.0  \n",
      "4  not fire        0.0  \n",
      "\n",
      "     day month  year Temperature  RH  Ws Rain   FFMC  DMC    DC  ISI   BUI  \\\n",
      "242  26     9  2012          30  65  14     0  85.4   16  44.5  4.5  16.9   \n",
      "243  27     9  2012          28  87  15   4.4  41.1  6.5     8  0.1   6.2   \n",
      "244  28     9  2012          27  87  29   0.5  45.9  3.5   7.9  0.4   3.4   \n",
      "245  29     9  2012          24  54  18   0.1  79.7  4.3  15.2  1.7   5.1   \n",
      "246  30     9  2012          24  64  15   0.2  67.3  3.8  16.5  1.2   4.8   \n",
      "\n",
      "     FWI     Classes    Region  \n",
      "242  6.5       fire        1.0  \n",
      "243    0   not fire        1.0  \n",
      "244  0.2   not fire        1.0  \n",
      "245  0.7   not fire        1.0  \n",
      "246  0.5  not fire         1.0  \n"
     ]
    }
   ],
   "source": [
    "print(data_frame.head())\n",
    "print(\"\\n\",data_frame.tail()) #goruldugu gibi ilk 122 -->0, kalani 1"
   ]
  },
  {
   "cell_type": "code",
   "execution_count": 60,
   "id": "8716a25e-6944-41c8-a8c3-c1b09e58364d",
   "metadata": {},
   "outputs": [],
   "source": [
    "data_frame = data_frame.dropna().reset_index(drop=True) #diyerek kalan 2 row'u da silip index'e reset atiyoruz"
   ]
  },
  {
   "cell_type": "code",
   "execution_count": 61,
   "id": "3c23d330-ba89-460d-b371-4ef502cfeb3b",
   "metadata": {},
   "outputs": [
    {
     "name": "stdout",
     "output_type": "stream",
     "text": [
      "day                     30\n",
      "month                    9\n",
      "year                  2012\n",
      "Temperature             25\n",
      " RH                     78\n",
      " Ws                     14\n",
      "Rain                   1.4\n",
      "FFMC                    45\n",
      "DMC                    1.9\n",
      "DC                     7.5\n",
      "ISI                    0.2\n",
      "BUI                    2.4\n",
      "FWI                    0.1\n",
      "Classes        not fire   \n",
      "Region                 0.0\n",
      "Name: 121, dtype: object \n",
      "\n",
      " day                    day\n",
      "month                month\n",
      "year                  year\n",
      "Temperature    Temperature\n",
      " RH                     RH\n",
      " Ws                     Ws\n",
      "Rain                 Rain \n",
      "FFMC                  FFMC\n",
      "DMC                    DMC\n",
      "DC                      DC\n",
      "ISI                    ISI\n",
      "BUI                    BUI\n",
      "FWI                    FWI\n",
      "Classes          Classes  \n",
      "Region                 1.0\n",
      "Name: 122, dtype: object \n",
      "\n",
      " day                      1\n",
      "month                    6\n",
      "year                  2012\n",
      "Temperature             32\n",
      " RH                     71\n",
      " Ws                     12\n",
      "Rain                   0.7\n",
      "FFMC                  57.1\n",
      "DMC                    2.5\n",
      "DC                     8.2\n",
      "ISI                    0.6\n",
      "BUI                    2.8\n",
      "FWI                    0.2\n",
      "Classes        not fire   \n",
      "Region                 1.0\n",
      "Name: 123, dtype: object\n"
     ]
    }
   ],
   "source": [
    "print(data_frame.iloc[121],\"\\n\\n\",data_frame.iloc[122],\"\\n\\n\",data_frame.iloc[123])"
   ]
  },
  {
   "cell_type": "markdown",
   "id": "181176e7-b622-45df-82e9-9278844c1068",
   "metadata": {},
   "source": [
    "### aslinda baktigimizda 122 de day-->day, month-->month gibi rowlar column ismini almis. <br> -bundan once ilk bi column isimlerine bakacak olursa cogunda bir veya iki bosluk koyulmus belki farkedilmiyor ama var"
   ]
  },
  {
   "cell_type": "code",
   "execution_count": 62,
   "id": "0bddd520-caa8-4ec5-b468-33eba1de2a21",
   "metadata": {},
   "outputs": [
    {
     "data": {
      "text/plain": [
       "Index(['day', 'month', 'year', 'Temperature', ' RH', ' Ws', 'Rain ', 'FFMC',\n",
       "       'DMC', 'DC', 'ISI', 'BUI', 'FWI', 'Classes  ', 'Region'],\n",
       "      dtype='object')"
      ]
     },
     "execution_count": 62,
     "metadata": {},
     "output_type": "execute_result"
    }
   ],
   "source": [
    "data_frame.columns #burdan da  gorebiliriz"
   ]
  },
  {
   "cell_type": "code",
   "execution_count": 63,
   "id": "f374838c-5386-4a07-ad9f-001b2d024d54",
   "metadata": {},
   "outputs": [],
   "source": [
    "data_frame.columns=data_frame.columns.str.strip() #bu icerisine aldigi degeri siler. icerisine bisi yazilmazsa bosluklari siler "
   ]
  },
  {
   "cell_type": "code",
   "execution_count": 64,
   "id": "90b2fa49-adaa-4df1-9d3f-cb5226bedc77",
   "metadata": {},
   "outputs": [
    {
     "data": {
      "text/plain": [
       "Index(['day', 'month', 'year', 'Temperature', 'RH', 'Ws', 'Rain', 'FFMC',\n",
       "       'DMC', 'DC', 'ISI', 'BUI', 'FWI', 'Classes', 'Region'],\n",
       "      dtype='object')"
      ]
     },
     "execution_count": 64,
     "metadata": {},
     "output_type": "execute_result"
    }
   ],
   "source": [
    "data_frame.columns #gitmis oldugunu gorecegiz"
   ]
  },
  {
   "cell_type": "markdown",
   "id": "8197a474-f4d6-4a24-a215-c7f276adbb33",
   "metadata": {},
   "source": [
    "### simdi data duzeltmelerine gecelim. bildigimiz uzere class disindaki tum degerler int float tarzinda ama object tipi verilmis. bunlari duzeltelim."
   ]
  },
  {
   "cell_type": "code",
   "execution_count": 65,
   "id": "3ef14443-21ff-4c33-8dd5-7cbfff366055",
   "metadata": {},
   "outputs": [
    {
     "data": {
      "text/plain": [
       "array(['1', '2', '3', '4', '5', '6', '7', '8', '9', '10', '11', '12',\n",
       "       '13', '14', '15', '16', '17', '18', '19', '20', '21', '22', '23',\n",
       "       '24', '25', '26', '27', '28', '29', '30', '31', 'day'],\n",
       "      dtype=object)"
      ]
     },
     "execution_count": 65,
     "metadata": {},
     "output_type": "execute_result"
    }
   ],
   "source": [
    "#ilk olarak gun datasini inceleyelim \n",
    "data_frame[\"day\"].unique()"
   ]
  },
  {
   "cell_type": "markdown",
   "id": "9676050f-df21-451e-b483-3f88e4f4036e",
   "metadata": {},
   "source": [
    "#### goruldugu uzere 'day' degeri de girilmis onu silmemiz gerekiyor."
   ]
  },
  {
   "cell_type": "code",
   "execution_count": 66,
   "id": "ad857b13-fe45-46a7-a784-393c2d1f0f20",
   "metadata": {},
   "outputs": [
    {
     "data": {
      "text/html": [
       "<div>\n",
       "<style scoped>\n",
       "    .dataframe tbody tr th:only-of-type {\n",
       "        vertical-align: middle;\n",
       "    }\n",
       "\n",
       "    .dataframe tbody tr th {\n",
       "        vertical-align: top;\n",
       "    }\n",
       "\n",
       "    .dataframe thead th {\n",
       "        text-align: right;\n",
       "    }\n",
       "</style>\n",
       "<table border=\"1\" class=\"dataframe\">\n",
       "  <thead>\n",
       "    <tr style=\"text-align: right;\">\n",
       "      <th></th>\n",
       "      <th>day</th>\n",
       "      <th>month</th>\n",
       "      <th>year</th>\n",
       "      <th>Temperature</th>\n",
       "      <th>RH</th>\n",
       "      <th>Ws</th>\n",
       "      <th>Rain</th>\n",
       "      <th>FFMC</th>\n",
       "      <th>DMC</th>\n",
       "      <th>DC</th>\n",
       "      <th>ISI</th>\n",
       "      <th>BUI</th>\n",
       "      <th>FWI</th>\n",
       "      <th>Classes</th>\n",
       "      <th>Region</th>\n",
       "    </tr>\n",
       "  </thead>\n",
       "  <tbody>\n",
       "    <tr>\n",
       "      <th>122</th>\n",
       "      <td>day</td>\n",
       "      <td>month</td>\n",
       "      <td>year</td>\n",
       "      <td>Temperature</td>\n",
       "      <td>RH</td>\n",
       "      <td>Ws</td>\n",
       "      <td>Rain</td>\n",
       "      <td>FFMC</td>\n",
       "      <td>DMC</td>\n",
       "      <td>DC</td>\n",
       "      <td>ISI</td>\n",
       "      <td>BUI</td>\n",
       "      <td>FWI</td>\n",
       "      <td>Classes</td>\n",
       "      <td>1.0</td>\n",
       "    </tr>\n",
       "  </tbody>\n",
       "</table>\n",
       "</div>"
      ],
      "text/plain": [
       "     day  month  year  Temperature   RH   Ws   Rain  FFMC  DMC  DC  ISI  BUI  \\\n",
       "122  day  month  year  Temperature   RH   Ws  Rain   FFMC  DMC  DC  ISI  BUI   \n",
       "\n",
       "     FWI    Classes  Region  \n",
       "122  FWI  Classes       1.0  "
      ]
     },
     "execution_count": 66,
     "metadata": {},
     "output_type": "execute_result"
    }
   ],
   "source": [
    "data_frame[data_frame[\"day\"]==\"day\"]"
   ]
  },
  {
   "cell_type": "markdown",
   "id": "48ff8944-6ec2-407d-80ad-44d9526d74d1",
   "metadata": {},
   "source": [
    "### onceden de gormustuk 122. row, column'daki degerlerin ismini almis garip bir sekilde"
   ]
  },
  {
   "cell_type": "code",
   "execution_count": 67,
   "id": "23204733-e4c2-40f4-b2fd-3e52e712ed5f",
   "metadata": {},
   "outputs": [],
   "source": [
    "data_frame.drop(122, inplace=True)"
   ]
  },
  {
   "cell_type": "code",
   "execution_count": 68,
   "id": "f6ce8639-fae9-45a7-8261-92186b96a673",
   "metadata": {},
   "outputs": [
    {
     "data": {
      "text/plain": [
       "day                      1\n",
       "month                    6\n",
       "year                  2012\n",
       "Temperature             32\n",
       "RH                      71\n",
       "Ws                      12\n",
       "Rain                   0.7\n",
       "FFMC                  57.1\n",
       "DMC                    2.5\n",
       "DC                     8.2\n",
       "ISI                    0.6\n",
       "BUI                    2.8\n",
       "FWI                    0.2\n",
       "Classes        not fire   \n",
       "Region                 1.0\n",
       "Name: 123, dtype: object"
      ]
     },
     "execution_count": 68,
     "metadata": {},
     "output_type": "execute_result"
    }
   ],
   "source": [
    " data_frame.iloc[122] #duzelmis"
   ]
  },
  {
   "cell_type": "code",
   "execution_count": 69,
   "id": "9f5072e1-9af9-4ebb-9d66-c84c6bb1506b",
   "metadata": {},
   "outputs": [],
   "source": [
    "data_frame[[\"day\",\"month\", \"year\", \"Temperature\", \"RH\", \"Ws\"]] = data_frame[[\"day\",\"month\", \"year\", \"Temperature\", \"RH\", \"Ws\"]].astype(int)\n",
    "#diyerek int tipine dondurmus olduk"
   ]
  },
  {
   "cell_type": "code",
   "execution_count": 70,
   "id": "a7101aca-2447-4e06-8038-70b117ddf37c",
   "metadata": {},
   "outputs": [],
   "source": [
    "data_frame[[\"Rain\", \"FFMC\", \"DMC\", \"DC\", \"ISI\", \"BUI\", \"FWI\"]] = data_frame[[\"Rain\", \"FFMC\", \"DMC\", \"DC\", \"ISI\", \"BUI\", \"FWI\"]].astype(float)\n",
    "#diyerek ise float tipine dondurmus olduk"
   ]
  },
  {
   "cell_type": "code",
   "execution_count": 71,
   "id": "51612ffa-f981-453e-a21f-111d6421819c",
   "metadata": {},
   "outputs": [
    {
     "data": {
      "text/html": [
       "<div>\n",
       "<style scoped>\n",
       "    .dataframe tbody tr th:only-of-type {\n",
       "        vertical-align: middle;\n",
       "    }\n",
       "\n",
       "    .dataframe tbody tr th {\n",
       "        vertical-align: top;\n",
       "    }\n",
       "\n",
       "    .dataframe thead th {\n",
       "        text-align: right;\n",
       "    }\n",
       "</style>\n",
       "<table border=\"1\" class=\"dataframe\">\n",
       "  <thead>\n",
       "    <tr style=\"text-align: right;\">\n",
       "      <th></th>\n",
       "      <th>day</th>\n",
       "      <th>month</th>\n",
       "      <th>year</th>\n",
       "      <th>Temperature</th>\n",
       "      <th>RH</th>\n",
       "      <th>Ws</th>\n",
       "      <th>Rain</th>\n",
       "      <th>FFMC</th>\n",
       "      <th>DMC</th>\n",
       "      <th>DC</th>\n",
       "      <th>ISI</th>\n",
       "      <th>BUI</th>\n",
       "      <th>FWI</th>\n",
       "      <th>Region</th>\n",
       "    </tr>\n",
       "  </thead>\n",
       "  <tbody>\n",
       "    <tr>\n",
       "      <th>count</th>\n",
       "      <td>243.000000</td>\n",
       "      <td>243.000000</td>\n",
       "      <td>243.0</td>\n",
       "      <td>243.000000</td>\n",
       "      <td>243.000000</td>\n",
       "      <td>243.000000</td>\n",
       "      <td>243.000000</td>\n",
       "      <td>243.000000</td>\n",
       "      <td>243.000000</td>\n",
       "      <td>243.000000</td>\n",
       "      <td>243.000000</td>\n",
       "      <td>243.000000</td>\n",
       "      <td>243.000000</td>\n",
       "      <td>243.000000</td>\n",
       "    </tr>\n",
       "    <tr>\n",
       "      <th>mean</th>\n",
       "      <td>15.761317</td>\n",
       "      <td>7.502058</td>\n",
       "      <td>2012.0</td>\n",
       "      <td>32.152263</td>\n",
       "      <td>62.041152</td>\n",
       "      <td>15.493827</td>\n",
       "      <td>0.762963</td>\n",
       "      <td>77.842387</td>\n",
       "      <td>14.680658</td>\n",
       "      <td>49.430864</td>\n",
       "      <td>4.742387</td>\n",
       "      <td>16.690535</td>\n",
       "      <td>7.035391</td>\n",
       "      <td>0.497942</td>\n",
       "    </tr>\n",
       "    <tr>\n",
       "      <th>std</th>\n",
       "      <td>8.842552</td>\n",
       "      <td>1.114793</td>\n",
       "      <td>0.0</td>\n",
       "      <td>3.628039</td>\n",
       "      <td>14.828160</td>\n",
       "      <td>2.811385</td>\n",
       "      <td>2.003207</td>\n",
       "      <td>14.349641</td>\n",
       "      <td>12.393040</td>\n",
       "      <td>47.665606</td>\n",
       "      <td>4.154234</td>\n",
       "      <td>14.228421</td>\n",
       "      <td>7.440568</td>\n",
       "      <td>0.501028</td>\n",
       "    </tr>\n",
       "    <tr>\n",
       "      <th>min</th>\n",
       "      <td>1.000000</td>\n",
       "      <td>6.000000</td>\n",
       "      <td>2012.0</td>\n",
       "      <td>22.000000</td>\n",
       "      <td>21.000000</td>\n",
       "      <td>6.000000</td>\n",
       "      <td>0.000000</td>\n",
       "      <td>28.600000</td>\n",
       "      <td>0.700000</td>\n",
       "      <td>6.900000</td>\n",
       "      <td>0.000000</td>\n",
       "      <td>1.100000</td>\n",
       "      <td>0.000000</td>\n",
       "      <td>0.000000</td>\n",
       "    </tr>\n",
       "    <tr>\n",
       "      <th>25%</th>\n",
       "      <td>8.000000</td>\n",
       "      <td>7.000000</td>\n",
       "      <td>2012.0</td>\n",
       "      <td>30.000000</td>\n",
       "      <td>52.500000</td>\n",
       "      <td>14.000000</td>\n",
       "      <td>0.000000</td>\n",
       "      <td>71.850000</td>\n",
       "      <td>5.800000</td>\n",
       "      <td>12.350000</td>\n",
       "      <td>1.400000</td>\n",
       "      <td>6.000000</td>\n",
       "      <td>0.700000</td>\n",
       "      <td>0.000000</td>\n",
       "    </tr>\n",
       "    <tr>\n",
       "      <th>50%</th>\n",
       "      <td>16.000000</td>\n",
       "      <td>8.000000</td>\n",
       "      <td>2012.0</td>\n",
       "      <td>32.000000</td>\n",
       "      <td>63.000000</td>\n",
       "      <td>15.000000</td>\n",
       "      <td>0.000000</td>\n",
       "      <td>83.300000</td>\n",
       "      <td>11.300000</td>\n",
       "      <td>33.100000</td>\n",
       "      <td>3.500000</td>\n",
       "      <td>12.400000</td>\n",
       "      <td>4.200000</td>\n",
       "      <td>0.000000</td>\n",
       "    </tr>\n",
       "    <tr>\n",
       "      <th>75%</th>\n",
       "      <td>23.000000</td>\n",
       "      <td>8.000000</td>\n",
       "      <td>2012.0</td>\n",
       "      <td>35.000000</td>\n",
       "      <td>73.500000</td>\n",
       "      <td>17.000000</td>\n",
       "      <td>0.500000</td>\n",
       "      <td>88.300000</td>\n",
       "      <td>20.800000</td>\n",
       "      <td>69.100000</td>\n",
       "      <td>7.250000</td>\n",
       "      <td>22.650000</td>\n",
       "      <td>11.450000</td>\n",
       "      <td>1.000000</td>\n",
       "    </tr>\n",
       "    <tr>\n",
       "      <th>max</th>\n",
       "      <td>31.000000</td>\n",
       "      <td>9.000000</td>\n",
       "      <td>2012.0</td>\n",
       "      <td>42.000000</td>\n",
       "      <td>90.000000</td>\n",
       "      <td>29.000000</td>\n",
       "      <td>16.800000</td>\n",
       "      <td>96.000000</td>\n",
       "      <td>65.900000</td>\n",
       "      <td>220.400000</td>\n",
       "      <td>19.000000</td>\n",
       "      <td>68.000000</td>\n",
       "      <td>31.100000</td>\n",
       "      <td>1.000000</td>\n",
       "    </tr>\n",
       "  </tbody>\n",
       "</table>\n",
       "</div>"
      ],
      "text/plain": [
       "              day       month    year  Temperature          RH          Ws  \\\n",
       "count  243.000000  243.000000   243.0   243.000000  243.000000  243.000000   \n",
       "mean    15.761317    7.502058  2012.0    32.152263   62.041152   15.493827   \n",
       "std      8.842552    1.114793     0.0     3.628039   14.828160    2.811385   \n",
       "min      1.000000    6.000000  2012.0    22.000000   21.000000    6.000000   \n",
       "25%      8.000000    7.000000  2012.0    30.000000   52.500000   14.000000   \n",
       "50%     16.000000    8.000000  2012.0    32.000000   63.000000   15.000000   \n",
       "75%     23.000000    8.000000  2012.0    35.000000   73.500000   17.000000   \n",
       "max     31.000000    9.000000  2012.0    42.000000   90.000000   29.000000   \n",
       "\n",
       "             Rain        FFMC         DMC          DC         ISI         BUI  \\\n",
       "count  243.000000  243.000000  243.000000  243.000000  243.000000  243.000000   \n",
       "mean     0.762963   77.842387   14.680658   49.430864    4.742387   16.690535   \n",
       "std      2.003207   14.349641   12.393040   47.665606    4.154234   14.228421   \n",
       "min      0.000000   28.600000    0.700000    6.900000    0.000000    1.100000   \n",
       "25%      0.000000   71.850000    5.800000   12.350000    1.400000    6.000000   \n",
       "50%      0.000000   83.300000   11.300000   33.100000    3.500000   12.400000   \n",
       "75%      0.500000   88.300000   20.800000   69.100000    7.250000   22.650000   \n",
       "max     16.800000   96.000000   65.900000  220.400000   19.000000   68.000000   \n",
       "\n",
       "              FWI      Region  \n",
       "count  243.000000  243.000000  \n",
       "mean     7.035391    0.497942  \n",
       "std      7.440568    0.501028  \n",
       "min      0.000000    0.000000  \n",
       "25%      0.700000    0.000000  \n",
       "50%      4.200000    0.000000  \n",
       "75%     11.450000    1.000000  \n",
       "max     31.100000    1.000000  "
      ]
     },
     "execution_count": 71,
     "metadata": {},
     "output_type": "execute_result"
    }
   ],
   "source": [
    "data_frame.describe()"
   ]
  },
  {
   "cell_type": "code",
   "execution_count": 72,
   "id": "3b0249c2-82fb-4291-ae1c-cbc169b227d8",
   "metadata": {},
   "outputs": [
    {
     "data": {
      "text/plain": [
       "array(['not fire   ', 'fire   ', 'fire', 'fire ', 'not fire', 'not fire ',\n",
       "       'not fire     ', 'not fire    '], dtype=object)"
      ]
     },
     "execution_count": 72,
     "metadata": {},
     "output_type": "execute_result"
    }
   ],
   "source": [
    "data_frame[\"Classes\"].unique() "
   ]
  },
  {
   "cell_type": "markdown",
   "id": "a240f5ea-d9b1-4038-9ce5-36218d79e6ab",
   "metadata": {},
   "source": [
    "#### goruldugu uzere gene bi tur bosluk hatalarindan dolayi normalde sadece \"fire\" ve \"not fire\" olmasi gerekirken bircok deger olmus. bunu duzeltmemiz gerekiyor"
   ]
  },
  {
   "cell_type": "code",
   "execution_count": 73,
   "id": "97b2ded8-6f88-473e-9171-812fd7bc7035",
   "metadata": {},
   "outputs": [],
   "source": [
    "data_frame[\"Classes\"]=np.where(data_frame[\"Classes\"].str.contains(\"not fire\"),0,1)"
   ]
  },
  {
   "cell_type": "markdown",
   "id": "c379a186-63df-4d50-8381-c65c65a85d4f",
   "metadata": {},
   "source": [
    "### simdii biz burda ne yaptik;<br> -ilk olarak numpy'in \"where\" ozelligini kullandik. Bu icerisine bir conditions aliyor yani kosul belirtebiliyoruz<br>-str.contains(\"not fire\") diyerek ise icinde \"not fire\" gecenler icin koyduk kosula<br> 0,1 -->  kosulu saglayanlara  0 saglamayanlara 1 ver dediiiik"
   ]
  },
  {
   "cell_type": "code",
   "execution_count": 74,
   "id": "7a04f57a-c6e8-4680-8bc7-c2d073269a40",
   "metadata": {},
   "outputs": [
    {
     "name": "stdout",
     "output_type": "stream",
     "text": [
      "Classes\n",
      "1    137\n",
      "0    106\n",
      "Name: count, dtype: int64 \n",
      " [0 1]\n"
     ]
    }
   ],
   "source": [
    "print(data_frame[\"Classes\"].value_counts(), \"\\n\", data_frame[\"Classes\"].unique() )\n"
   ]
  },
  {
   "cell_type": "markdown",
   "id": "ba7fd977-d71d-4eab-9995-2c41fd1eeedb",
   "metadata": {},
   "source": [
    "#### gun, ay, yil gibi verileri datatime formatinda degil de bir sayi, numara olarak gordugu icin silebiliriz"
   ]
  },
  {
   "cell_type": "code",
   "execution_count": 75,
   "id": "2511c2dd-2ce0-4174-973b-0ffd5f9d9397",
   "metadata": {},
   "outputs": [],
   "source": [
    "data_frame.drop([\"day\", \"month\", \"year\"], axis=1, inplace=True)"
   ]
  },
  {
   "cell_type": "code",
   "execution_count": 76,
   "id": "845a48b5-5447-4ea0-bbcc-27b55d849e7c",
   "metadata": {},
   "outputs": [
    {
     "data": {
      "image/png": "[encoded data removed]",
      "text/plain": [
       "<Figure size 1000x700 with 2 Axes>"
      ]
     },
     "metadata": {},
     "output_type": "display_data"
    }
   ],
   "source": [
    "plt.figure(figsize=(10,7))\n",
    "sns.heatmap(data_frame.corr(), annot=True)\n",
    "plt.show()"
   ]
  },
  {
   "cell_type": "markdown",
   "id": "ee27026e-7e34-4e3d-91f5-2e23f9ec478b",
   "metadata": {},
   "source": [
    "## Yuksek Kolerasyonlu Columns'lar"
   ]
  },
  {
   "cell_type": "markdown",
   "id": "7d4790be-c98c-4ab6-b70a-42bd619db295",
   "metadata": {},
   "source": [
    "### Dependent & Independent Features"
   ]
  },
  {
   "cell_type": "code",
   "execution_count": 77,
   "id": "1b1f548f-52af-4055-af84-d51a4d0b8ff3",
   "metadata": {},
   "outputs": [],
   "source": [
    "X = data_frame.drop(\"FWI\", axis=1)\n",
    "y = data_frame[\"FWI\"]"
   ]
  },
  {
   "cell_type": "code",
   "execution_count": 78,
   "id": "5b8f75a6-af97-432a-ad4a-4ee16c7d4237",
   "metadata": {},
   "outputs": [],
   "source": [
    "from sklearn.model_selection import train_test_split"
   ]
  },
  {
   "cell_type": "code",
   "execution_count": 79,
   "id": "aaecb38d-8fe3-4127-b68b-f628308c0a46",
   "metadata": {},
   "outputs": [],
   "source": [
    "X_train, X_test, y_train, y_test = train_test_split(X, y, test_size=0.25, random_state=15)"
   ]
  },
  {
   "cell_type": "code",
   "execution_count": 80,
   "id": "cdb7c28c-b0cf-4eb2-80ad-84f346fc5f1e",
   "metadata": {},
   "outputs": [
    {
     "data": {
      "text/html": [
       "<div>\n",
       "<style scoped>\n",
       "    .dataframe tbody tr th:only-of-type {\n",
       "        vertical-align: middle;\n",
       "    }\n",
       "\n",
       "    .dataframe tbody tr th {\n",
       "        vertical-align: top;\n",
       "    }\n",
       "\n",
       "    .dataframe thead th {\n",
       "        text-align: right;\n",
       "    }\n",
       "</style>\n",
       "<table border=\"1\" class=\"dataframe\">\n",
       "  <thead>\n",
       "    <tr style=\"text-align: right;\">\n",
       "      <th></th>\n",
       "      <th>Temperature</th>\n",
       "      <th>RH</th>\n",
       "      <th>Ws</th>\n",
       "      <th>Rain</th>\n",
       "      <th>FFMC</th>\n",
       "      <th>DMC</th>\n",
       "      <th>DC</th>\n",
       "      <th>ISI</th>\n",
       "      <th>BUI</th>\n",
       "      <th>Classes</th>\n",
       "      <th>Region</th>\n",
       "    </tr>\n",
       "  </thead>\n",
       "  <tbody>\n",
       "    <tr>\n",
       "      <th>Temperature</th>\n",
       "      <td>1.000000</td>\n",
       "      <td>-0.644824</td>\n",
       "      <td>-0.322405</td>\n",
       "      <td>-0.222809</td>\n",
       "      <td>0.600615</td>\n",
       "      <td>0.483815</td>\n",
       "      <td>0.362859</td>\n",
       "      <td>0.579809</td>\n",
       "      <td>0.452819</td>\n",
       "      <td>0.463959</td>\n",
       "      <td>0.229479</td>\n",
       "    </tr>\n",
       "    <tr>\n",
       "      <th>RH</th>\n",
       "      <td>-0.644824</td>\n",
       "      <td>1.000000</td>\n",
       "      <td>0.205669</td>\n",
       "      <td>0.171031</td>\n",
       "      <td>-0.643767</td>\n",
       "      <td>-0.395535</td>\n",
       "      <td>-0.204568</td>\n",
       "      <td>-0.682107</td>\n",
       "      <td>-0.337032</td>\n",
       "      <td>-0.427947</td>\n",
       "      <td>-0.368402</td>\n",
       "    </tr>\n",
       "    <tr>\n",
       "      <th>Ws</th>\n",
       "      <td>-0.322405</td>\n",
       "      <td>0.205669</td>\n",
       "      <td>1.000000</td>\n",
       "      <td>0.152948</td>\n",
       "      <td>-0.135584</td>\n",
       "      <td>0.011874</td>\n",
       "      <td>0.104577</td>\n",
       "      <td>0.021616</td>\n",
       "      <td>0.051452</td>\n",
       "      <td>-0.044791</td>\n",
       "      <td>-0.181246</td>\n",
       "    </tr>\n",
       "    <tr>\n",
       "      <th>Rain</th>\n",
       "      <td>-0.222809</td>\n",
       "      <td>0.171031</td>\n",
       "      <td>0.152948</td>\n",
       "      <td>1.000000</td>\n",
       "      <td>-0.475600</td>\n",
       "      <td>-0.263007</td>\n",
       "      <td>-0.282983</td>\n",
       "      <td>-0.325552</td>\n",
       "      <td>-0.276457</td>\n",
       "      <td>-0.363013</td>\n",
       "      <td>0.049735</td>\n",
       "    </tr>\n",
       "    <tr>\n",
       "      <th>FFMC</th>\n",
       "      <td>0.600615</td>\n",
       "      <td>-0.643767</td>\n",
       "      <td>-0.135584</td>\n",
       "      <td>-0.475600</td>\n",
       "      <td>1.000000</td>\n",
       "      <td>0.592446</td>\n",
       "      <td>0.483610</td>\n",
       "      <td>0.732549</td>\n",
       "      <td>0.577031</td>\n",
       "      <td>0.770641</td>\n",
       "      <td>0.158505</td>\n",
       "    </tr>\n",
       "    <tr>\n",
       "      <th>DMC</th>\n",
       "      <td>0.483815</td>\n",
       "      <td>-0.395535</td>\n",
       "      <td>0.011874</td>\n",
       "      <td>-0.263007</td>\n",
       "      <td>0.592446</td>\n",
       "      <td>1.000000</td>\n",
       "      <td>0.871387</td>\n",
       "      <td>0.658793</td>\n",
       "      <td>0.980646</td>\n",
       "      <td>0.549624</td>\n",
       "      <td>0.153781</td>\n",
       "    </tr>\n",
       "    <tr>\n",
       "      <th>DC</th>\n",
       "      <td>0.362859</td>\n",
       "      <td>-0.204568</td>\n",
       "      <td>0.104577</td>\n",
       "      <td>-0.282983</td>\n",
       "      <td>0.483610</td>\n",
       "      <td>0.871387</td>\n",
       "      <td>1.000000</td>\n",
       "      <td>0.467977</td>\n",
       "      <td>0.939248</td>\n",
       "      <td>0.468011</td>\n",
       "      <td>-0.120874</td>\n",
       "    </tr>\n",
       "    <tr>\n",
       "      <th>ISI</th>\n",
       "      <td>0.579809</td>\n",
       "      <td>-0.682107</td>\n",
       "      <td>0.021616</td>\n",
       "      <td>-0.325552</td>\n",
       "      <td>0.732549</td>\n",
       "      <td>0.658793</td>\n",
       "      <td>0.467977</td>\n",
       "      <td>1.000000</td>\n",
       "      <td>0.617313</td>\n",
       "      <td>0.714801</td>\n",
       "      <td>0.241664</td>\n",
       "    </tr>\n",
       "    <tr>\n",
       "      <th>BUI</th>\n",
       "      <td>0.452819</td>\n",
       "      <td>-0.337032</td>\n",
       "      <td>0.051452</td>\n",
       "      <td>-0.276457</td>\n",
       "      <td>0.577031</td>\n",
       "      <td>0.980646</td>\n",
       "      <td>0.939248</td>\n",
       "      <td>0.617313</td>\n",
       "      <td>1.000000</td>\n",
       "      <td>0.550431</td>\n",
       "      <td>0.044453</td>\n",
       "    </tr>\n",
       "    <tr>\n",
       "      <th>Classes</th>\n",
       "      <td>0.463959</td>\n",
       "      <td>-0.427947</td>\n",
       "      <td>-0.044791</td>\n",
       "      <td>-0.363013</td>\n",
       "      <td>0.770641</td>\n",
       "      <td>0.549624</td>\n",
       "      <td>0.468011</td>\n",
       "      <td>0.714801</td>\n",
       "      <td>0.550431</td>\n",
       "      <td>1.000000</td>\n",
       "      <td>0.136752</td>\n",
       "    </tr>\n",
       "    <tr>\n",
       "      <th>Region</th>\n",
       "      <td>0.229479</td>\n",
       "      <td>-0.368402</td>\n",
       "      <td>-0.181246</td>\n",
       "      <td>0.049735</td>\n",
       "      <td>0.158505</td>\n",
       "      <td>0.153781</td>\n",
       "      <td>-0.120874</td>\n",
       "      <td>0.241664</td>\n",
       "      <td>0.044453</td>\n",
       "      <td>0.136752</td>\n",
       "      <td>1.000000</td>\n",
       "    </tr>\n",
       "  </tbody>\n",
       "</table>\n",
       "</div>"
      ],
      "text/plain": [
       "             Temperature        RH        Ws      Rain      FFMC       DMC  \\\n",
       "Temperature     1.000000 -0.644824 -0.322405 -0.222809  0.600615  0.483815   \n",
       "RH             -0.644824  1.000000  0.205669  0.171031 -0.643767 -0.395535   \n",
       "Ws             -0.322405  0.205669  1.000000  0.152948 -0.135584  0.011874   \n",
       "Rain           -0.222809  0.171031  0.152948  1.000000 -0.475600 -0.263007   \n",
       "FFMC            0.600615 -0.643767 -0.135584 -0.475600  1.000000  0.592446   \n",
       "DMC             0.483815 -0.395535  0.011874 -0.263007  0.592446  1.000000   \n",
       "DC              0.362859 -0.204568  0.104577 -0.282983  0.483610  0.871387   \n",
       "ISI             0.579809 -0.682107  0.021616 -0.325552  0.732549  0.658793   \n",
       "BUI             0.452819 -0.337032  0.051452 -0.276457  0.577031  0.980646   \n",
       "Classes         0.463959 -0.427947 -0.044791 -0.363013  0.770641  0.549624   \n",
       "Region          0.229479 -0.368402 -0.181246  0.049735  0.158505  0.153781   \n",
       "\n",
       "                   DC       ISI       BUI   Classes    Region  \n",
       "Temperature  0.362859  0.579809  0.452819  0.463959  0.229479  \n",
       "RH          -0.204568 -0.682107 -0.337032 -0.427947 -0.368402  \n",
       "Ws           0.104577  0.021616  0.051452 -0.044791 -0.181246  \n",
       "Rain        -0.282983 -0.325552 -0.276457 -0.363013  0.049735  \n",
       "FFMC         0.483610  0.732549  0.577031  0.770641  0.158505  \n",
       "DMC          0.871387  0.658793  0.980646  0.549624  0.153781  \n",
       "DC           1.000000  0.467977  0.939248  0.468011 -0.120874  \n",
       "ISI          0.467977  1.000000  0.617313  0.714801  0.241664  \n",
       "BUI          0.939248  0.617313  1.000000  0.550431  0.044453  \n",
       "Classes      0.468011  0.714801  0.550431  1.000000  0.136752  \n",
       "Region      -0.120874  0.241664  0.044453  0.136752  1.000000  "
      ]
     },
     "execution_count": 80,
     "metadata": {},
     "output_type": "execute_result"
    }
   ],
   "source": [
    "X_train.corr()"
   ]
  },
  {
   "cell_type": "markdown",
   "id": "a3b73891-b07e-4bb7-8253-cd6caaeb4c68",
   "metadata": {},
   "source": [
    "#### iki features'in arasi correlation'u cok yuksekse birini cikarabiliriz. Peki neden? Cunku bilgi tekrari yapiyor demek. __(redundancy)__ .Bu gereksiz bir sekilde modele complexite sagliyor. Modelin anlam surecine katkisi yok. Modele hangisi etki etmis olabilir dersek filan bir soruda kafasi karisabilir. O yuzden bir tanesini filan elemek bizim icin daha mantikli. <br><br> __multicol-linearity__-->çoklu bağlantılılık, çoklu regresyon analizinde karşılaşılan, iki veya daha fazla bağımsız değişkenin birbirleriyle yüksek oranda korelasyon içinde olması durumudur.Yani, bir değişkenin değerini, veri setindeki diğer bir veya birden fazla değişkenin değerinden yüksek bir doğrulukla tahmin edebiliyorsanız, çoklu bağlantılılık sorunu vardır."
   ]
  },
  {
   "cell_type": "markdown",
   "id": "844b9727-f077-40d2-9863-a88c1362df70",
   "metadata": {},
   "source": [
    "#### bu yuksek corr sayisi genelde 0.85 ve ustu olabilir."
   ]
  },
  {
   "cell_type": "code",
   "execution_count": 81,
   "id": "07dbe334-7f3f-4b0f-8822-8a46788d9a49",
   "metadata": {},
   "outputs": [],
   "source": [
    "def correlation_for_dropping(df, threshold):\n",
    "    columns_to_drop=set()\n",
    "    corr=df.corr()\n",
    "    for i in range(len(corr.columns)):\n",
    "        for j in range(i):\n",
    "            if abs(corr.iloc[i, j]) > threshold:\n",
    "                columns_to_drop.add(corr.columns[i])\n",
    "\n",
    "\n",
    "    return columns_to_drop"
   ]
  },
  {
   "cell_type": "markdown",
   "id": "ca693e58-7d12-4045-9899-3313aa8046a5",
   "metadata": {},
   "source": [
    "### su fonksiyonu bi ele alalim;<br>1-->Bu iki döngünün amacı, korelasyon matrisinin sadece alt üçgenini (veya üst üçgenini) kontrol etmektir.Bu matriste, A-B korelasyonu (corr[A,B]), B-A korelasyonu (corr[B,A]) ile aynıdır. i ve j döngüleri, bu çiftlerin sadece birini kontrol etmemizi sağlar.\n"
   ]
  },
  {
   "cell_type": "code",
   "execution_count": 82,
   "id": "3a1103bc-6a46-44d1-be09-2028bc6a554d",
   "metadata": {},
   "outputs": [
    {
     "name": "stdout",
     "output_type": "stream",
     "text": [
      "  Unnamed: 0     A (j=0)     B (j=1)     C (j=2)\n",
      "0    A (i=0)         Boş         Boş         Boş\n",
      "1    B (i=1)  (i=1, j=0)         Boş         Boş\n",
      "2    C (i=2)  (i=2, j=0)  (i=2, j=1)         Boş\n",
      "3    D (i=3)  (i=3, j=0)  (i=3, j=1)  (i=3, j=2)\n"
     ]
    }
   ],
   "source": [
    "forEX = pd.read_csv(\"forEx .csv\")\n",
    "print(forEX)"
   ]
  },
  {
   "cell_type": "markdown",
   "id": "1138a4cc-c1df-41dd-a7d8-04dc09f97c17",
   "metadata": {},
   "source": [
    "### calisma mantigi bu sekilde."
   ]
  },
  {
   "cell_type": "markdown",
   "id": "6ab2bf78-1d86-4b00-a2e6-88e7bda06115",
   "metadata": {},
   "source": [
    "### 2-->Bu, fonksiyonun karar mekanizmasıdır. İki sütun arasındaki korelasyon katsayısının (corr.iloc[i, j]) mutlak değeri (abs()) belirlenen threshold (örneğin 0.8) değerinden büyükse, koşul True olur ve işlem devam eder. corr.iloc[i, j]: Matristeki i. satır ve j. sütun arasındaki korelasyon değerini alır.\n",
    "\n"
   ]
  },
  {
   "cell_type": "code",
   "execution_count": 83,
   "id": "d04c73c1-8628-417b-be38-25a1ecf03ff3",
   "metadata": {},
   "outputs": [],
   "source": [
    "silinecek_columns=correlation_for_dropping(X_train, 0.85)"
   ]
  },
  {
   "cell_type": "code",
   "execution_count": 84,
   "id": "dae38cf9-63a0-489c-ac2a-cd675a1b9d94",
   "metadata": {},
   "outputs": [
    {
     "name": "stdout",
     "output_type": "stream",
     "text": [
      "{'DC', 'BUI'}\n"
     ]
    }
   ],
   "source": [
    "print(silinecek_columns)"
   ]
  },
  {
   "cell_type": "markdown",
   "id": "5f0c3858-cbaf-4ca4-97ba-753b439cd461",
   "metadata": {},
   "source": [
    "### bu cikti ne der-->__BUI ve DC__: BUI ve DC sütunlarının kesiştiği hücreye baktığında, korelasyon değerinin 0.939248 olduğunu görürsün. Bu değer, 0.85 eşiğinden çok daha büyüktür.  \"FWI\" neden geldi anlamadim"
   ]
  },
  {
   "cell_type": "markdown",
   "id": "62e4bb29-0b03-433d-baff-4ad0029834ec",
   "metadata": {},
   "source": [
    "### Simdi bu column'lari kaldirabiliriz"
   ]
  },
  {
   "cell_type": "code",
   "execution_count": 85,
   "id": "1a4fa93b-7dba-4fa0-a420-96902fdf5fe9",
   "metadata": {},
   "outputs": [],
   "source": [
    "X_train.drop(silinecek_columns, axis=1, inplace=True)\n",
    "X_test.drop(silinecek_columns, axis=1, inplace=True)"
   ]
  },
  {
   "cell_type": "code",
   "execution_count": 86,
   "id": "c780873c-df5f-48da-9053-cbca8429ac7f",
   "metadata": {},
   "outputs": [
    {
     "data": {
      "text/html": [
       "<div>\n",
       "<style scoped>\n",
       "    .dataframe tbody tr th:only-of-type {\n",
       "        vertical-align: middle;\n",
       "    }\n",
       "\n",
       "    .dataframe tbody tr th {\n",
       "        vertical-align: top;\n",
       "    }\n",
       "\n",
       "    .dataframe thead th {\n",
       "        text-align: right;\n",
       "    }\n",
       "</style>\n",
       "<table border=\"1\" class=\"dataframe\">\n",
       "  <thead>\n",
       "    <tr style=\"text-align: right;\">\n",
       "      <th></th>\n",
       "      <th>Temperature</th>\n",
       "      <th>RH</th>\n",
       "      <th>Ws</th>\n",
       "      <th>Rain</th>\n",
       "      <th>FFMC</th>\n",
       "      <th>DMC</th>\n",
       "      <th>ISI</th>\n",
       "      <th>Classes</th>\n",
       "      <th>Region</th>\n",
       "    </tr>\n",
       "  </thead>\n",
       "  <tbody>\n",
       "    <tr>\n",
       "      <th>128</th>\n",
       "      <td>35</td>\n",
       "      <td>54</td>\n",
       "      <td>11</td>\n",
       "      <td>0.1</td>\n",
       "      <td>83.7</td>\n",
       "      <td>8.4</td>\n",
       "      <td>3.1</td>\n",
       "      <td>1</td>\n",
       "      <td>1.0</td>\n",
       "    </tr>\n",
       "    <tr>\n",
       "      <th>231</th>\n",
       "      <td>36</td>\n",
       "      <td>33</td>\n",
       "      <td>13</td>\n",
       "      <td>0.1</td>\n",
       "      <td>90.6</td>\n",
       "      <td>25.8</td>\n",
       "      <td>9.0</td>\n",
       "      <td>1</td>\n",
       "      <td>1.0</td>\n",
       "    </tr>\n",
       "    <tr>\n",
       "      <th>164</th>\n",
       "      <td>36</td>\n",
       "      <td>44</td>\n",
       "      <td>13</td>\n",
       "      <td>0.0</td>\n",
       "      <td>90.1</td>\n",
       "      <td>12.6</td>\n",
       "      <td>8.3</td>\n",
       "      <td>1</td>\n",
       "      <td>1.0</td>\n",
       "    </tr>\n",
       "    <tr>\n",
       "      <th>93</th>\n",
       "      <td>22</td>\n",
       "      <td>86</td>\n",
       "      <td>15</td>\n",
       "      <td>10.1</td>\n",
       "      <td>30.5</td>\n",
       "      <td>0.7</td>\n",
       "      <td>0.0</td>\n",
       "      <td>0</td>\n",
       "      <td>0.0</td>\n",
       "    </tr>\n",
       "    <tr>\n",
       "      <th>184</th>\n",
       "      <td>40</td>\n",
       "      <td>34</td>\n",
       "      <td>14</td>\n",
       "      <td>0.0</td>\n",
       "      <td>93.3</td>\n",
       "      <td>10.8</td>\n",
       "      <td>13.8</td>\n",
       "      <td>1</td>\n",
       "      <td>1.0</td>\n",
       "    </tr>\n",
       "    <tr>\n",
       "      <th>...</th>\n",
       "      <td>...</td>\n",
       "      <td>...</td>\n",
       "      <td>...</td>\n",
       "      <td>...</td>\n",
       "      <td>...</td>\n",
       "      <td>...</td>\n",
       "      <td>...</td>\n",
       "      <td>...</td>\n",
       "      <td>...</td>\n",
       "    </tr>\n",
       "    <tr>\n",
       "      <th>237</th>\n",
       "      <td>26</td>\n",
       "      <td>49</td>\n",
       "      <td>6</td>\n",
       "      <td>2.0</td>\n",
       "      <td>61.3</td>\n",
       "      <td>11.9</td>\n",
       "      <td>0.6</td>\n",
       "      <td>0</td>\n",
       "      <td>1.0</td>\n",
       "    </tr>\n",
       "    <tr>\n",
       "      <th>78</th>\n",
       "      <td>36</td>\n",
       "      <td>54</td>\n",
       "      <td>18</td>\n",
       "      <td>0.0</td>\n",
       "      <td>89.4</td>\n",
       "      <td>20.0</td>\n",
       "      <td>9.7</td>\n",
       "      <td>1</td>\n",
       "      <td>0.0</td>\n",
       "    </tr>\n",
       "    <tr>\n",
       "      <th>121</th>\n",
       "      <td>25</td>\n",
       "      <td>78</td>\n",
       "      <td>14</td>\n",
       "      <td>1.4</td>\n",
       "      <td>45.0</td>\n",
       "      <td>1.9</td>\n",
       "      <td>0.2</td>\n",
       "      <td>0</td>\n",
       "      <td>0.0</td>\n",
       "    </tr>\n",
       "    <tr>\n",
       "      <th>182</th>\n",
       "      <td>37</td>\n",
       "      <td>55</td>\n",
       "      <td>15</td>\n",
       "      <td>0.0</td>\n",
       "      <td>89.3</td>\n",
       "      <td>28.3</td>\n",
       "      <td>8.3</td>\n",
       "      <td>1</td>\n",
       "      <td>1.0</td>\n",
       "    </tr>\n",
       "    <tr>\n",
       "      <th>183</th>\n",
       "      <td>38</td>\n",
       "      <td>52</td>\n",
       "      <td>14</td>\n",
       "      <td>0.0</td>\n",
       "      <td>78.3</td>\n",
       "      <td>4.4</td>\n",
       "      <td>2.0</td>\n",
       "      <td>0</td>\n",
       "      <td>1.0</td>\n",
       "    </tr>\n",
       "  </tbody>\n",
       "</table>\n",
       "<p>61 rows × 9 columns</p>\n",
       "</div>"
      ],
      "text/plain": [
       "     Temperature  RH  Ws  Rain  FFMC   DMC   ISI  Classes  Region\n",
       "128           35  54  11   0.1  83.7   8.4   3.1        1     1.0\n",
       "231           36  33  13   0.1  90.6  25.8   9.0        1     1.0\n",
       "164           36  44  13   0.0  90.1  12.6   8.3        1     1.0\n",
       "93            22  86  15  10.1  30.5   0.7   0.0        0     0.0\n",
       "184           40  34  14   0.0  93.3  10.8  13.8        1     1.0\n",
       "..           ...  ..  ..   ...   ...   ...   ...      ...     ...\n",
       "237           26  49   6   2.0  61.3  11.9   0.6        0     1.0\n",
       "78            36  54  18   0.0  89.4  20.0   9.7        1     0.0\n",
       "121           25  78  14   1.4  45.0   1.9   0.2        0     0.0\n",
       "182           37  55  15   0.0  89.3  28.3   8.3        1     1.0\n",
       "183           38  52  14   0.0  78.3   4.4   2.0        0     1.0\n",
       "\n",
       "[61 rows x 9 columns]"
      ]
     },
     "execution_count": 86,
     "metadata": {},
     "output_type": "execute_result"
    }
   ],
   "source": [
    "X_test #yaparsak silindigini gorecegiz"
   ]
  },
  {
   "cell_type": "markdown",
   "id": "6e4aeb83-fcb5-4d6d-899a-05dd7cd546d3",
   "metadata": {},
   "source": [
    "## Farkli Regresyonlari Kiyaslamak"
   ]
  },
  {
   "cell_type": "code",
   "execution_count": 87,
   "id": "f37b0abf-5feb-4336-bfee-93dd2c50f2b3",
   "metadata": {},
   "outputs": [],
   "source": [
    "from sklearn.preprocessing import StandardScaler\n",
    "scaler=StandardScaler()"
   ]
  },
  {
   "cell_type": "code",
   "execution_count": 88,
   "id": "f1680a8a-e73d-46a1-92ed-e2ad6b58ecea",
   "metadata": {},
   "outputs": [],
   "source": [
    "X_train_scaled = scaler.fit_transform(X_train)\n",
    "X_test_scaled = scaler.transform(X_test)"
   ]
  },
  {
   "cell_type": "code",
   "execution_count": 89,
   "id": "26f8ac09-0ed7-46e0-9868-7b993413244b",
   "metadata": {},
   "outputs": [
    {
     "data": {
      "image/png": "[encoded data removed]",
      "text/plain": [
       "<Figure size 1500x800 with 3 Axes>"
      ]
     },
     "metadata": {},
     "output_type": "display_data"
    }
   ],
   "source": [
    "plt.subplots(figsize=(15,8))\n",
    "plt.subplot(1,2,1)\n",
    "sns.boxplot(X_train)\n",
    "plt.title(\"x_train\")\n",
    "plt.subplot(1,2,2)\n",
    "sns.boxplot(X_train_scaled)\n",
    "plt.title(\"x_train scaled\")\n",
    "plt.show()"
   ]
  },
  {
   "cell_type": "markdown",
   "id": "63aca5db-9281-43b1-8ef9-b8ca4bace57f",
   "metadata": {},
   "source": [
    "### goruldugu gibi scale edilmis hali ile edilmemis hali arasindaki farka bakkk"
   ]
  },
  {
   "cell_type": "code",
   "execution_count": 90,
   "id": "57b85996-e912-4ce8-bab6-8aca5f823129",
   "metadata": {},
   "outputs": [],
   "source": [
    "from sklearn.linear_model import LinearRegression\n",
    "from sklearn.metrics import mean_absolute_error, mean_squared_error, r2_score"
   ]
  },
  {
   "cell_type": "code",
   "execution_count": 94,
   "id": "b22b264f-6eee-4d7d-a4dc-24edaaad1681",
   "metadata": {},
   "outputs": [
    {
     "name": "stdout",
     "output_type": "stream",
     "text": [
      "mean abs error:  0.703601172957592\n",
      "mean sqr error:  0.876416369860599\n",
      "r2score : 0.9838729275348057\n"
     ]
    },
    {
     "data": {
      "image/png": "[encoded data removed]",
      "text/plain": [
       "<Figure size 640x480 with 1 Axes>"
      ]
     },
     "metadata": {},
     "output_type": "display_data"
    }
   ],
   "source": [
    "linear = LinearRegression()\n",
    "linear.fit(X_train_scaled, y_train)\n",
    "y_tahmin = linear.predict(X_test_scaled)\n",
    "mae = mean_absolute_error(y_test, y_tahmin)\n",
    "mse = mean_squared_error(y_test, y_tahmin)\n",
    "r2score = r2_score(y_test, y_tahmin)\n",
    "\n",
    "print(\"mean abs error: \", mae)\n",
    "print(\"mean sqr error: \", mse)\n",
    "print(\"r2score :\", r2score)\n",
    "\n",
    "plt.scatter(y_tahmin, y_test)\n",
    "plt.show()"
   ]
  },
  {
   "cell_type": "markdown",
   "id": "16cf7871-24c5-4e3a-88ea-6f7f94e1d911",
   "metadata": {},
   "source": [
    "## lasso"
   ]
  },
  {
   "cell_type": "code",
   "execution_count": 95,
   "id": "6280b025-182d-4951-97a9-92fb275e273e",
   "metadata": {},
   "outputs": [
    {
     "name": "stdout",
     "output_type": "stream",
     "text": [
      "mean abs error:  1.216272633800629\n",
      "mean sqr error:  2.6029377368132187\n",
      "r2score : 0.9521029422229386\n"
     ]
    }
   ],
   "source": [
    "from sklearn.linear_model import Lasso\n",
    "lasso = Lasso()\n",
    "lasso.fit(X_train_scaled, y_train)\n",
    "y_tahmin = lasso.predict(X_test_scaled)\n",
    "mae = mean_absolute_error(y_test, y_tahmin)\n",
    "mse = mean_squared_error(y_test, y_tahmin)\n",
    "r2score = r2_score(y_test, y_tahmin)\n",
    "\n",
    "print(\"mean abs error: \", mae)\n",
    "print(\"mean sqr error: \", mse)\n",
    "print(\"r2score :\", r2score)"
   ]
  },
  {
   "cell_type": "markdown",
   "id": "495c762d-25c1-49fc-962a-7290c617ab5b",
   "metadata": {},
   "source": [
    "## Ridge"
   ]
  },
  {
   "cell_type": "code",
   "execution_count": 96,
   "id": "5ed03b3f-b073-45fd-8f88-c0896581d7ef",
   "metadata": {},
   "outputs": [
    {
     "name": "stdout",
     "output_type": "stream",
     "text": [
      "mean abs error:  0.7093542448703323\n",
      "mean sqr error:  0.8868348464263084\n",
      "r2score : 0.9836812155445575\n"
     ]
    }
   ],
   "source": [
    "from sklearn.linear_model import Ridge\n",
    "ridge = Ridge()\n",
    "ridge.fit(X_train_scaled, y_train)\n",
    "y_tahmin = ridge.predict(X_test_scaled)\n",
    "mae = mean_absolute_error(y_test, y_tahmin)\n",
    "mse = mean_squared_error(y_test, y_tahmin)\n",
    "r2score = r2_score(y_test, y_tahmin)\n",
    "\n",
    "print(\"mean abs error: \", mae)\n",
    "print(\"mean sqr error: \", mse)\n",
    "print(\"r2score :\", r2score)"
   ]
  },
  {
   "cell_type": "code",
   "execution_count": 97,
   "id": "0d96a45d-0cdc-476d-a576-73d88a6b55c5",
   "metadata": {},
   "outputs": [
    {
     "name": "stdout",
     "output_type": "stream",
     "text": [
      "mean abs error:  1.7493286471090155\n",
      "mean sqr error:  5.569160502382823\n",
      "r2score : 0.8975210207375393\n"
     ]
    }
   ],
   "source": [
    "from sklearn.linear_model import ElasticNet\n",
    "elastic = ElasticNet()\n",
    "elastic.fit(X_train_scaled, y_train)\n",
    "y_tahmin = elastic.predict(X_test_scaled)\n",
    "mae = mean_absolute_error(y_test, y_tahmin)\n",
    "mse = mean_squared_error(y_test, y_tahmin)\n",
    "r2score = r2_score(y_test, y_tahmin)\n",
    "\n",
    "print(\"mean abs error: \", mae)\n",
    "print(\"mean sqr error: \", mse)\n",
    "print(\"r2score :\", r2score)"
   ]
  },
  {
   "cell_type": "markdown",
   "id": "a9ca815b-bda8-4729-a77c-1223c7f2b6de",
   "metadata": {},
   "source": [
    "### __Yüksek R2 Skoru (Eğitim Verisinde)__: Eğer modelinizin eğitim verisindeki R2 skoru 0.99 gibi çok yüksek bir değere sahipken, test verisindeki R2 skoru 0.70 gibi belirgin şekilde düşükse, bu kesinlikle overfitting'in bir işaretidir. Modeliniz, eğitim verisini ezberlemiş ancak yeni verilere genelleme yapamıyor demektir."
   ]
  },
  {
   "cell_type": "markdown",
   "id": "d9a29442-9b73-4397-9bb5-ec94ec9e72b0",
   "metadata": {},
   "source": [
    "# Cross Validation and alpha Values"
   ]
  },
  {
   "cell_type": "markdown",
   "id": "73f30b49-dd4a-4bc0-acc5-e6aad5ea9c6d",
   "metadata": {},
   "source": [
    "#### Simdi hatirlarsak ridge, lasso da filan ceza parametresi (lambda) vardi degil mi. Biz suana kadar yazidgimiz kodlarda bunla hic ilgilenmedik. Arka planda yapiliyordu hersey. Buna mudahil olmayi bilmemiz gerekiyor. "
   ]
  },
  {
   "cell_type": "markdown",
   "id": "57191f15-4669-4b65-b7e7-ad3b386b6d65",
   "metadata": {},
   "source": [
    "## Lasso Cross Validation'dan basliyalim"
   ]
  },
  {
   "cell_type": "code",
   "execution_count": 98,
   "id": "d8137634-7ae6-4631-8bc6-f410571f5dda",
   "metadata": {},
   "outputs": [],
   "source": [
    "from sklearn.linear_model import LassoCV #sonuna 'CV' ekleniyor. ayni sekilde RidgeCV, ElasticNetCV de vardir"
   ]
  },
  {
   "cell_type": "code",
   "execution_count": 100,
   "id": "9d26ef2b-874b-40d1-b9a4-e9be278f162e",
   "metadata": {},
   "outputs": [
    {
     "name": "stdout",
     "output_type": "stream",
     "text": [
      "mean abs error:  0.722230815630542\n",
      "mean sqr error:  0.8972011670293635\n",
      "r2score : 0.9834904632842026\n"
     ]
    }
   ],
   "source": [
    "lassoCV = LassoCV(cv=5)\n",
    "lassoCV.fit(X_train_scaled, y_train)\n",
    "y_tahmin = lassoCV.predict(X_test_scaled)\n",
    "mae = mean_absolute_error(y_test, y_tahmin)\n",
    "mse = mean_squared_error(y_test, y_tahmin)\n",
    "r2score = r2_score(y_test, y_tahmin)\n",
    "\n",
    "print(\"mean abs error: \", mae)\n",
    "print(\"mean sqr error: \", mse)\n",
    "print(\"r2score :\", r2score)"
   ]
  },
  {
   "cell_type": "markdown",
   "id": "bc249936-a2ea-4507-aa04-753b519191c5",
   "metadata": {},
   "source": [
    "###  __lassoCV = LassoCV()__ icin \"sift + tab\" yaptigimizda bir suru parametreler cikiyor. Aslinda normalde Lasso'da da vardi.<br>Normalde cagirdigimizda alpha (lambda) degeri default olarak 1.0 verilir. CV'dekine baktigimizda __n_alphas-->number of alphas__ vardir. 100'dur degeri. Bu su demek--> alpha(lambda) icin 100 tane deger var, bunu deneyecek en iyi sonuc vereni uygulicak. <br>-- cv degeri de var. default __none__'dir. biz buna iste 4, 5 gibi K-Fold'da uygulanan 5' bol iste her bir bolunme icin uygula ve egitimi 5 defa yap gibisinden."
   ]
  },
  {
   "cell_type": "markdown",
   "id": "676c0ae4-4fce-4ad8-b83e-ed3cdb6f72a0",
   "metadata": {},
   "source": [
    "### bu islemden sonra alpha ve denedigi alpha degerlerini gorebiliriz"
   ]
  },
  {
   "cell_type": "code",
   "execution_count": 102,
   "id": "74c23e25-0c70-490e-9d6a-405755b4f12b",
   "metadata": {},
   "outputs": [
    {
     "name": "stdout",
     "output_type": "stream",
     "text": [
      "0.031548475118595085 \n",
      "\n",
      " [6.79691292 6.33882374 5.91160823 5.51318562 5.14161537 4.7950877\n",
      " 4.47191484 4.17052274 3.88944347 3.627308   3.38283958 3.15484751\n",
      " 2.94222135 2.74392548 2.55899408 2.38652645 2.22568255 2.075679\n",
      " 1.93578518 1.80531974 1.68364723 1.57017504 1.4643505  1.36565818\n",
      " 1.27361739 1.18777984 1.10772745 1.03307033 0.96344485 0.89851189\n",
      " 0.83795519 0.78147982 0.72881069 0.67969129 0.63388237 0.59116082\n",
      " 0.55131856 0.51416154 0.47950877 0.44719148 0.41705227 0.38894435\n",
      " 0.3627308  0.33828396 0.31548475 0.29422213 0.27439255 0.25589941\n",
      " 0.23865264 0.22256826 0.2075679  0.19357852 0.18053197 0.16836472\n",
      " 0.1570175  0.14643505 0.13656582 0.12736174 0.11877798 0.11077275\n",
      " 0.10330703 0.09634448 0.08985119 0.08379552 0.07814798 0.07288107\n",
      " 0.06796913 0.06338824 0.05911608 0.05513186 0.05141615 0.04795088\n",
      " 0.04471915 0.04170523 0.03889443 0.03627308 0.0338284  0.03154848\n",
      " 0.02942221 0.02743925 0.02558994 0.02386526 0.02225683 0.02075679\n",
      " 0.01935785 0.0180532  0.01683647 0.01570175 0.0146435  0.01365658\n",
      " 0.01273617 0.0118778  0.01107727 0.0103307  0.00963445 0.00898512\n",
      " 0.00837955 0.0078148  0.00728811 0.00679691]\n"
     ]
    }
   ],
   "source": [
    "print(lassoCV.alpha_, \"\\n\\n\", lassoCV.alphas_)"
   ]
  },
  {
   "cell_type": "markdown",
   "id": "07f08134-a8e1-4f5a-be68-f87f00d1455c",
   "metadata": {},
   "source": [
    "## Ridge Cross Validation"
   ]
  },
  {
   "cell_type": "code",
   "execution_count": 106,
   "id": "2b2c8b39-a542-478d-b0c1-572e743d403c",
   "metadata": {},
   "outputs": [
    {
     "name": "stdout",
     "output_type": "stream",
     "text": [
      "mean abs error:  0.7093542448703323\n",
      "mean sqr error:  0.8868348464263084\n",
      "r2score : 0.9836812155445575\n",
      "alpha:  1.0 \n",
      "\n",
      " alpha values:  (0.1, 1.0, 10.0)\n"
     ]
    }
   ],
   "source": [
    "from sklearn.linear_model import RidgeCV\n",
    "ridgeCV =RidgeCV(cv=5)\n",
    "ridgeCV.fit(X_train_scaled, y_train)\n",
    "y_tahmin = ridgeCV.predict(X_test_scaled)\n",
    "mae = mean_absolute_error(y_test, y_tahmin)\n",
    "mse = mean_squared_error(y_test, y_tahmin)\n",
    "r2score = r2_score(y_test, y_tahmin)\n",
    "\n",
    "print(\"mean abs error: \", mae)\n",
    "print(\"mean sqr error: \", mse)\n",
    "print(\"r2score :\", r2score)\n",
    "print(\"alpha: \",ridgeCV.alpha_, \"\\n\\n\", \"alpha values: \",ridgeCV.alphas)"
   ]
  },
  {
   "cell_type": "markdown",
   "id": "fe115e6b-1c0f-419b-a0d0-420f7dca9ae4",
   "metadata": {},
   "source": [
    "## ElasticNet Cross Validation"
   ]
  },
  {
   "cell_type": "code",
   "execution_count": 109,
   "id": "94b4425b-74f3-442f-95f0-144e39bba509",
   "metadata": {},
   "outputs": [
    {
     "name": "stdout",
     "output_type": "stream",
     "text": [
      "mean abs error:  0.7354284604918179\n",
      "mean sqr error:  0.9249125778630383\n",
      "r2score : 0.9829805413498388\n",
      "alpha:  0.025472347707234465 \n",
      "\n",
      " [13.59382584 12.67764748 11.82321647 11.02637125 10.28323073  9.5901754\n",
      "  8.94382967  8.34104549  7.77888694  7.25461599  6.76567915  6.30969502\n",
      "  5.8844427   5.48785095  5.11798817  4.77305289  4.4513651   4.15135799\n",
      "  3.87157036  3.61063947  3.36729446  3.14035008  2.928701    2.73131635\n",
      "  2.54723477  2.37555967  2.2154549   2.06614066  1.92688969  1.79702377\n",
      "  1.67591039  1.56295964  1.45762139  1.35938258  1.26776475  1.18232165\n",
      "  1.10263712  1.02832307  0.95901754  0.89438297  0.83410455  0.77788869\n",
      "  0.7254616   0.67656792  0.6309695   0.58844427  0.5487851   0.51179882\n",
      "  0.47730529  0.44513651  0.4151358   0.38715704  0.36106395  0.33672945\n",
      "  0.31403501  0.2928701   0.27313164  0.25472348  0.23755597  0.22154549\n",
      "  0.20661407  0.19268897  0.17970238  0.16759104  0.15629596  0.14576214\n",
      "  0.13593826  0.12677647  0.11823216  0.11026371  0.10283231  0.09590175\n",
      "  0.0894383   0.08341045  0.07778887  0.07254616  0.06765679  0.06309695\n",
      "  0.05884443  0.05487851  0.05117988  0.04773053  0.04451365  0.04151358\n",
      "  0.0387157   0.03610639  0.03367294  0.0314035   0.02928701  0.02731316\n",
      "  0.02547235  0.0237556   0.02215455  0.02066141  0.0192689   0.01797024\n",
      "  0.0167591   0.0156296   0.01457621  0.01359383]\n"
     ]
    }
   ],
   "source": [
    "from sklearn.linear_model import ElasticNetCV\n",
    "elasticnetCV =ElasticNetCV(cv=5)\n",
    "elasticnetCV.fit(X_train_scaled, y_train)\n",
    "y_tahmin = elasticnetCV.predict(X_test_scaled)\n",
    "mae = mean_absolute_error(y_test, y_tahmin)\n",
    "mse = mean_squared_error(y_test, y_tahmin)\n",
    "r2score = r2_score(y_test, y_tahmin)\n",
    "\n",
    "print(\"mean abs error: \", mae)\n",
    "print(\"mean sqr error: \", mse)\n",
    "print(\"r2score :\", r2score)\n",
    "print(\"alpha: \",elasticnetCV.alpha_, \"\\n\\n\", elasticnetCV.alphas_)"
   ]
  },
  {
   "cell_type": "code",
   "execution_count": null,
   "id": "d63f5de5-177f-4209-9518-eb8304648578",
   "metadata": {},
   "outputs": [],
   "source": []
  }
 ],
 "metadata": {
  "kernelspec": {
   "display_name": "Python [conda env:base] *",
   "language": "python",
   "name": "conda-base-py"
  },
  "language_info": {
   "codemirror_mode": {
    "name": "ipython",
    "version": 3
   },
   "file_extension": ".py",
   "mimetype": "text/x-python",
   "name": "python",
   "nbconvert_exporter": "python",
   "pygments_lexer": "ipython3",
   "version": "3.13.5"
  }
 },
 "nbformat": 4,
 "nbformat_minor": 5
}
