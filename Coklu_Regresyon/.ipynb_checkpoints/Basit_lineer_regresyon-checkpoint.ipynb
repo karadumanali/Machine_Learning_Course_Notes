{
 "cells": [
  {
   "cell_type": "code",
   "execution_count": 1,
   "id": "ea448964-418b-4154-9791-29d1ac7500cf",
   "metadata": {},
   "outputs": [],
   "source": [
    "import pandas as pd\n",
    "import numpy as np\n",
    "import seaborn as sns\n",
    "import matplotlib.pyplot as plt\n",
    "%matplotlib inline"
   ]
  },
  {
   "cell_type": "code",
   "execution_count": 2,
   "id": "5fa2dc65-4a20-4f1d-8087-ad4a6fb02058",
   "metadata": {},
   "outputs": [],
   "source": [
    "data_frame=pd.read_csv(\"studyhours.csv\")"
   ]
  },
  {
   "cell_type": "code",
   "execution_count": 3,
   "id": "a6ee7a6d-4c1f-4a53-a05b-44f68d8d9b88",
   "metadata": {},
   "outputs": [
    {
     "data": {
      "text/html": [
       "<div>\n",
       "<style scoped>\n",
       "    .dataframe tbody tr th:only-of-type {\n",
       "        vertical-align: middle;\n",
       "    }\n",
       "\n",
       "    .dataframe tbody tr th {\n",
       "        vertical-align: top;\n",
       "    }\n",
       "\n",
       "    .dataframe thead th {\n",
       "        text-align: right;\n",
       "    }\n",
       "</style>\n",
       "<table border=\"1\" class=\"dataframe\">\n",
       "  <thead>\n",
       "    <tr style=\"text-align: right;\">\n",
       "      <th></th>\n",
       "      <th>Study Hours</th>\n",
       "      <th>Exam Score</th>\n",
       "    </tr>\n",
       "  </thead>\n",
       "  <tbody>\n",
       "    <tr>\n",
       "      <th>0</th>\n",
       "      <td>3.9</td>\n",
       "      <td>40.0</td>\n",
       "    </tr>\n",
       "    <tr>\n",
       "      <th>1</th>\n",
       "      <td>9.6</td>\n",
       "      <td>57.1</td>\n",
       "    </tr>\n",
       "    <tr>\n",
       "      <th>2</th>\n",
       "      <td>4.5</td>\n",
       "      <td>42.7</td>\n",
       "    </tr>\n",
       "    <tr>\n",
       "      <th>3</th>\n",
       "      <td>11.4</td>\n",
       "      <td>65.1</td>\n",
       "    </tr>\n",
       "    <tr>\n",
       "      <th>4</th>\n",
       "      <td>14.4</td>\n",
       "      <td>78.7</td>\n",
       "    </tr>\n",
       "  </tbody>\n",
       "</table>\n",
       "</div>"
      ],
      "text/plain": [
       "   Study Hours  Exam Score\n",
       "0          3.9        40.0\n",
       "1          9.6        57.1\n",
       "2          4.5        42.7\n",
       "3         11.4        65.1\n",
       "4         14.4        78.7"
      ]
     },
     "execution_count": 3,
     "metadata": {},
     "output_type": "execute_result"
    }
   ],
   "source": [
    "data_frame.head()"
   ]
  },
  {
   "cell_type": "code",
   "execution_count": 4,
   "id": "06e76a75-3326-48d7-bfc0-b4b7a838272a",
   "metadata": {},
   "outputs": [
    {
     "data": {
      "image/png": "[encoded data removed]",
      "text/plain": [
       "<Figure size 640x480 with 1 Axes>"
      ]
     },
     "metadata": {},
     "output_type": "display_data"
    }
   ],
   "source": [
    "plt.scatter(x=\"Study Hours\", y=\"Exam Score\", data=data_frame, color=\"black\")\n",
    "plt.xlabel(\"study h\")\n",
    "plt.ylabel(\"exam sc\")\n",
    "plt.show()"
   ]
  },
  {
   "cell_type": "markdown",
   "id": "c5222e3e-b8ec-41a6-993c-d063f65066e7",
   "metadata": {},
   "source": [
    " ### Independent and dependent <br> X--> independent, y--> dependent. Racona gore X(buyuk x) ve y(kuçuk y) seklinde olacak.\n",
    " "
   ]
  },
  {
   "cell_type": "markdown",
   "id": "63dd0130-472b-4c88-8549-c486c8d85b70",
   "metadata": {},
   "source": [
    "### normalde X=data_frame[\"Study Hours\"] <br> y=data_frame[\"Exam Score\"]    seklinde olmali degil mi<br><br> y icin dogru fakat X icin degil. Cunku boyle yapilirsa __X ve y'yi 'Series'__ olarak alacak. __y icin herhangi bir problem yok__ ama X icin var. Cunku independent degiskenler 1'den fazla olabiliyor bilindigi uzere. bu yuzden __X data frame__ tipinde olmali"
   ]
  },
  {
   "cell_type": "code",
   "execution_count": 5,
   "id": "f023a029-36eb-447f-a150-615f913d02ef",
   "metadata": {},
   "outputs": [],
   "source": [
    "X = data_frame[[\"Study Hours\"]] #seklinde iki tane [ ] olmali yani list icinde list gibi bu sayede data frame olyor\n",
    "y=data_frame[\"Exam Score\"]"
   ]
  },
  {
   "cell_type": "code",
   "execution_count": 6,
   "id": "92e22cde-2e24-44e1-b40f-8dc27f021902",
   "metadata": {},
   "outputs": [
    {
     "name": "stdout",
     "output_type": "stream",
     "text": [
      "<class 'pandas.core.frame.DataFrame'> \n",
      " <class 'pandas.core.series.Series'>\n"
     ]
    }
   ],
   "source": [
    "print(type(X),\"\\n\",type(y)) #goruldugu gibi X-->data frame, y-->series"
   ]
  },
  {
   "cell_type": "markdown",
   "id": "0209145d-99f3-4d67-9fa0-cd0eb9fb1692",
   "metadata": {},
   "source": [
    "## test-train split"
   ]
  },
  {
   "cell_type": "markdown",
   "id": "60848dc1-7aed-49fc-a97c-b7b32a0dfdd4",
   "metadata": {},
   "source": [
    "#### Genel olarak bir makine ogrenimi algortimasini kullanip bir model olustururken data setimizi 2'ye bolmeye calisiriz<br> Bir kismini train (egitim) icin kullaniriz, diger kismini test icin kullaniriz."
   ]
  },
  {
   "cell_type": "markdown",
   "id": "ee5c0be0-64d4-4555-9f7a-aa5444869c96",
   "metadata": {},
   "source": [
    "#### -Biz napiyoduk bir en iyi uyum cizgisi cizmeye calisiyorduk. Bu cizgiyi cizerken data setindeki verinin %20 sini gostermicez %80'e gore cizecegiz.<br> -Sonra kalan %20 yi cizgiye koyup test edecegiz. Tabi gercek degeri bilip bunu da test edince sonuclari karsilastirabildigi bir yontem haline getiriyoruz.<br>-Train egitmek icin test ise test etmek icin modeli"
   ]
  },
  {
   "cell_type": "markdown",
   "id": "0aa2581c-39dd-42dc-8cb9-32c6c7a70440",
   "metadata": {},
   "source": [
    "### Bu islem icin scikit-learn kullanacagiz"
   ]
  },
  {
   "cell_type": "code",
   "execution_count": 7,
   "id": "d0771ea4-9244-437f-8fb3-a80265722f36",
   "metadata": {},
   "outputs": [],
   "source": [
    "from sklearn.model_selection import train_test_split #bunu bolmek icin kullaniyoruz"
   ]
  },
  {
   "cell_type": "code",
   "execution_count": 8,
   "id": "db78824d-4ecd-469b-beb6-91f1d9f27878",
   "metadata": {},
   "outputs": [],
   "source": [
    "X_train, X_test, y_train, y_test = train_test_split(X, y, test_size=0.20, random_state=42) #bunu ezbere bilmemiz gerekiyor.\n",
    "#0.8 i verinin X_train'e kalanini X_test'e. ayni mantik y icin de gecerli"
   ]
  },
  {
   "cell_type": "markdown",
   "id": "9ab1c2cc-5614-48c7-9921-3ebc3710b822",
   "metadata": {},
   "source": [
    "# Standardization"
   ]
  },
  {
   "cell_type": "code",
   "execution_count": 9,
   "id": "57eeee5e-4002-4a8d-a287-84591864e4b5",
   "metadata": {},
   "outputs": [],
   "source": [
    "from sklearn.preprocessing import StandardScaler #modulunu kutuphanesini kullanacagiz"
   ]
  },
  {
   "cell_type": "markdown",
   "id": "2af7e1ff-f951-43ff-a3b8-0dafd622ca54",
   "metadata": {},
   "source": [
    "### Simdi soyle dusunelim; elimizdeki dataset'de bircok column olabilirdi ve column'lardaki degerler diger column'lardaki degerlerle cok alakasiz olabilirdi<br><br>Mesela column'un birinde 1, 2, 3 gibi degerler birinde 100, 200, 300 birinde 1000, 2000 birinde 1000000, 2000000, birinde 33232423423, 32423423423 gibi bakinca columnun biri cok yuksek biri cok dusuk hani boyle degerler olabiliyor. <br><br> biz teta(01) gibi degeri hesaplarken absurt rakam gelebilir ona degil mi. Yani elma ile armutu kiyaslamak gibi dusunebiliriz."
   ]
  },
  {
   "cell_type": "markdown",
   "id": "f4542f5a-381a-4e5a-928d-222725456932",
   "metadata": {},
   "source": [
    "### column'larin kendi aralarinda iste 0.1, 0.2 gibi degerlere dusurup kendi aralarındaki kiyaslamayi kolaylastriacak sekilde indirgemek cok mantikli bir harekettir"
   ]
  },
  {
   "cell_type": "markdown",
   "id": "0840ebe8-d7c9-4e7e-a6bc-f374043f4181",
   "metadata": {},
   "source": [
    "### bu standartScaler olayini X icin yapicaz. y sonuc zaten o yuzden ona ellemeye gerek yok"
   ]
  },
  {
   "cell_type": "markdown",
   "id": "380508e2-8c38-489a-b705-42899e8ba213",
   "metadata": {},
   "source": [
    "### yani kisacasi amac column'lar arasi rakli seviyeleri dengelemeye esitlemeye calismak, 2. si ise Gradient Descent yani cok buyuk sicramalar yapmamak icin"
   ]
  },
  {
   "cell_type": "code",
   "execution_count": 10,
   "id": "e68e5757-b07b-4476-8d3e-c212ce0fb7ed",
   "metadata": {},
   "outputs": [],
   "source": [
    "scaler=StandardScaler() #diyerek o sinifa ait bir obje olusturuyoruz"
   ]
  },
  {
   "cell_type": "markdown",
   "id": "b649c0a5-3ac8-48c9-a11c-4e7a56160469",
   "metadata": {},
   "source": [
    "### simdi burda onemli olan 3 fonksiyon var:<br>__fit_transform, transform, fit__"
   ]
  },
  {
   "cell_type": "markdown",
   "id": "55c1003b-3d2f-453b-bacb-97c700df21a4",
   "metadata": {},
   "source": [
    "### --__fit__:verilerinizden gerekli istatistiksel bilgileri öğrenir. Bu bilgiler, verinin ortalaması (μ) ve standart sapmasıdır (σ)bir şey dönmez, sadece modelin hafızasında bilgiyi tutar..<br>--__transform__:öğrenilen ortalama ve standart sapma değerlerini kullanarak verileri dönüştürür yani z scorunu hesaplar<br>--__fit_transform__: ikisini de uygula demek"
   ]
  },
  {
   "cell_type": "code",
   "execution_count": 11,
   "id": "7995d6c5-e416-421e-84ea-a96466cef9ac",
   "metadata": {},
   "outputs": [],
   "source": [
    "X_train = scaler.fit_transform(X_train)\n",
    "X_test = scaler.transform(X_test)\n",
    "\n",
    "#burda test kismina fit uygulamamizin sebebi kucuk veriler oldugu icin X_tarin'deki verinin ortalaması (μ) ve standart sapması(σ) ni kullansin diye.\n",
    "#Kendi verisininkini hesaplayip uygulamasin diye"
   ]
  },
  {
   "cell_type": "markdown",
   "id": "f84e0d12-7c7f-47d4-81d8-a5131da65e49",
   "metadata": {},
   "source": [
    "### Eger yukarda X_test'e fit calistirsaydik, olusturdugumuz model X_test ile ilgili bilgi ogrenmis olcakti ama biz bunu istemiyoruz<br> Sadece train kismini bilsin istiyoruz"
   ]
  },
  {
   "cell_type": "markdown",
   "id": "e7982150-42a5-48e7-86b9-02ec2f7f5357",
   "metadata": {},
   "source": [
    "## Regresyon modelini egitmek"
   ]
  },
  {
   "cell_type": "code",
   "execution_count": 12,
   "id": "e5d0320d-6512-420b-8d32-b694fc6fa243",
   "metadata": {},
   "outputs": [],
   "source": [
    "from sklearn.linear_model import LinearRegression"
   ]
  },
  {
   "cell_type": "code",
   "execution_count": 13,
   "id": "e326420f-554f-4e90-afd3-1ee563f1a5c7",
   "metadata": {},
   "outputs": [],
   "source": [
    "regresyon = LinearRegression()"
   ]
  },
  {
   "cell_type": "markdown",
   "id": "8e128877-803c-4e11-a835-d308b3c7f24b",
   "metadata": {},
   "source": [
    "#### burda kullanilcak iki olay vardir.<br> __fit fonksiyonu__, bir lineer regresyon modelinin ogrenme asamasini temsil eder. Bu asamada, model egitim verilerinizdeki bagimsiz ve bagimli degiskenler arasindaki iliskiyi bulur.Basitçe, elinizdeki veri noktalarına en iyi şekilde uyan o meşhur doğruyu (çizgiyi) çizer.  <br>__predict__ fonksiyonu, modelin ögrendigi bilgileri kullanarak yeni tahminler yapmasini saglar"
   ]
  },
  {
   "cell_type": "code",
   "execution_count": 15,
   "id": "d9a1f397-1d0e-4426-b617-e372e9944108",
   "metadata": {},
   "outputs": [
    {
     "data": {
      "text/html": [
       "<style>#sk-container-id-1 {\n",
       "  /* Definition of color scheme common for light and dark mode */\n",
       "  --sklearn-color-text: #000;\n",
       "  --sklearn-color-text-muted: #666;\n",
       "  --sklearn-color-line: gray;\n",
       "  /* Definition of color scheme for unfitted estimators */\n",
       "  --sklearn-color-unfitted-level-0: #fff5e6;\n",
       "  --sklearn-color-unfitted-level-1: #f6e4d2;\n",
       "  --sklearn-color-unfitted-level-2: #ffe0b3;\n",
       "  --sklearn-color-unfitted-level-3: chocolate;\n",
       "  /* Definition of color scheme for fitted estimators */\n",
       "  --sklearn-color-fitted-level-0: #f0f8ff;\n",
       "  --sklearn-color-fitted-level-1: #d4ebff;\n",
       "  --sklearn-color-fitted-level-2: #b3dbfd;\n",
       "  --sklearn-color-fitted-level-3: cornflowerblue;\n",
       "\n",
       "  /* Specific color for light theme */\n",
       "  --sklearn-color-text-on-default-background: var(--sg-text-color, var(--theme-code-foreground, var(--jp-content-font-color1, black)));\n",
       "  --sklearn-color-background: var(--sg-background-color, var(--theme-background, var(--jp-layout-color0, white)));\n",
       "  --sklearn-color-border-box: var(--sg-text-color, var(--theme-code-foreground, var(--jp-content-font-color1, black)));\n",
       "  --sklearn-color-icon: #696969;\n",
       "\n",
       "  @media (prefers-color-scheme: dark) {\n",
       "    /* Redefinition of color scheme for dark theme */\n",
       "    --sklearn-color-text-on-default-background: var(--sg-text-color, var(--theme-code-foreground, var(--jp-content-font-color1, white)));\n",
       "    --sklearn-color-background: var(--sg-background-color, var(--theme-background, var(--jp-layout-color0, #111)));\n",
       "    --sklearn-color-border-box: var(--sg-text-color, var(--theme-code-foreground, var(--jp-content-font-color1, white)));\n",
       "    --sklearn-color-icon: #878787;\n",
       "  }\n",
       "}\n",
       "\n",
       "#sk-container-id-1 {\n",
       "  color: var(--sklearn-color-text);\n",
       "}\n",
       "\n",
       "#sk-container-id-1 pre {\n",
       "  padding: 0;\n",
       "}\n",
       "\n",
       "#sk-container-id-1 input.sk-hidden--visually {\n",
       "  border: 0;\n",
       "  clip: rect(1px 1px 1px 1px);\n",
       "  clip: rect(1px, 1px, 1px, 1px);\n",
       "  height: 1px;\n",
       "  margin: -1px;\n",
       "  overflow: hidden;\n",
       "  padding: 0;\n",
       "  position: absolute;\n",
       "  width: 1px;\n",
       "}\n",
       "\n",
       "#sk-container-id-1 div.sk-dashed-wrapped {\n",
       "  border: 1px dashed var(--sklearn-color-line);\n",
       "  margin: 0 0.4em 0.5em 0.4em;\n",
       "  box-sizing: border-box;\n",
       "  padding-bottom: 0.4em;\n",
       "  background-color: var(--sklearn-color-background);\n",
       "}\n",
       "\n",
       "#sk-container-id-1 div.sk-container {\n",
       "  /* jupyter's `normalize.less` sets `[hidden] { display: none; }`\n",
       "     but bootstrap.min.css set `[hidden] { display: none !important; }`\n",
       "     so we also need the `!important` here to be able to override the\n",
       "     default hidden behavior on the sphinx rendered scikit-learn.org.\n",
       "     See: https://github.com/scikit-learn/scikit-learn/issues/21755 */\n",
       "  display: inline-block !important;\n",
       "  position: relative;\n",
       "}\n",
       "\n",
       "#sk-container-id-1 div.sk-text-repr-fallback {\n",
       "  display: none;\n",
       "}\n",
       "\n",
       "div.sk-parallel-item,\n",
       "div.sk-serial,\n",
       "div.sk-item {\n",
       "  /* draw centered vertical line to link estimators */\n",
       "  background-image: linear-gradient(var(--sklearn-color-text-on-default-background), var(--sklearn-color-text-on-default-background));\n",
       "  background-size: 2px 100%;\n",
       "  background-repeat: no-repeat;\n",
       "  background-position: center center;\n",
       "}\n",
       "\n",
       "/* Parallel-specific style estimator block */\n",
       "\n",
       "#sk-container-id-1 div.sk-parallel-item::after {\n",
       "  content: \"\";\n",
       "  width: 100%;\n",
       "  border-bottom: 2px solid var(--sklearn-color-text-on-default-background);\n",
       "  flex-grow: 1;\n",
       "}\n",
       "\n",
       "#sk-container-id-1 div.sk-parallel {\n",
       "  display: flex;\n",
       "  align-items: stretch;\n",
       "  justify-content: center;\n",
       "  background-color: var(--sklearn-color-background);\n",
       "  position: relative;\n",
       "}\n",
       "\n",
       "#sk-container-id-1 div.sk-parallel-item {\n",
       "  display: flex;\n",
       "  flex-direction: column;\n",
       "}\n",
       "\n",
       "#sk-container-id-1 div.sk-parallel-item:first-child::after {\n",
       "  align-self: flex-end;\n",
       "  width: 50%;\n",
       "}\n",
       "\n",
       "#sk-container-id-1 div.sk-parallel-item:last-child::after {\n",
       "  align-self: flex-start;\n",
       "  width: 50%;\n",
       "}\n",
       "\n",
       "#sk-container-id-1 div.sk-parallel-item:only-child::after {\n",
       "  width: 0;\n",
       "}\n",
       "\n",
       "/* Serial-specific style estimator block */\n",
       "\n",
       "#sk-container-id-1 div.sk-serial {\n",
       "  display: flex;\n",
       "  flex-direction: column;\n",
       "  align-items: center;\n",
       "  background-color: var(--sklearn-color-background);\n",
       "  padding-right: 1em;\n",
       "  padding-left: 1em;\n",
       "}\n",
       "\n",
       "\n",
       "/* Toggleable style: style used for estimator/Pipeline/ColumnTransformer box that is\n",
       "clickable and can be expanded/collapsed.\n",
       "- Pipeline and ColumnTransformer use this feature and define the default style\n",
       "- Estimators will overwrite some part of the style using the `sk-estimator` class\n",
       "*/\n",
       "\n",
       "/* Pipeline and ColumnTransformer style (default) */\n",
       "\n",
       "#sk-container-id-1 div.sk-toggleable {\n",
       "  /* Default theme specific background. It is overwritten whether we have a\n",
       "  specific estimator or a Pipeline/ColumnTransformer */\n",
       "  background-color: var(--sklearn-color-background);\n",
       "}\n",
       "\n",
       "/* Toggleable label */\n",
       "#sk-container-id-1 label.sk-toggleable__label {\n",
       "  cursor: pointer;\n",
       "  display: flex;\n",
       "  width: 100%;\n",
       "  margin-bottom: 0;\n",
       "  padding: 0.5em;\n",
       "  box-sizing: border-box;\n",
       "  text-align: center;\n",
       "  align-items: start;\n",
       "  justify-content: space-between;\n",
       "  gap: 0.5em;\n",
       "}\n",
       "\n",
       "#sk-container-id-1 label.sk-toggleable__label .caption {\n",
       "  font-size: 0.6rem;\n",
       "  font-weight: lighter;\n",
       "  color: var(--sklearn-color-text-muted);\n",
       "}\n",
       "\n",
       "#sk-container-id-1 label.sk-toggleable__label-arrow:before {\n",
       "  /* Arrow on the left of the label */\n",
       "  content: \"▸\";\n",
       "  float: left;\n",
       "  margin-right: 0.25em;\n",
       "  color: var(--sklearn-color-icon);\n",
       "}\n",
       "\n",
       "#sk-container-id-1 label.sk-toggleable__label-arrow:hover:before {\n",
       "  color: var(--sklearn-color-text);\n",
       "}\n",
       "\n",
       "/* Toggleable content - dropdown */\n",
       "\n",
       "#sk-container-id-1 div.sk-toggleable__content {\n",
       "  max-height: 0;\n",
       "  max-width: 0;\n",
       "  overflow: hidden;\n",
       "  text-align: left;\n",
       "  /* unfitted */\n",
       "  background-color: var(--sklearn-color-unfitted-level-0);\n",
       "}\n",
       "\n",
       "#sk-container-id-1 div.sk-toggleable__content.fitted {\n",
       "  /* fitted */\n",
       "  background-color: var(--sklearn-color-fitted-level-0);\n",
       "}\n",
       "\n",
       "#sk-container-id-1 div.sk-toggleable__content pre {\n",
       "  margin: 0.2em;\n",
       "  border-radius: 0.25em;\n",
       "  color: var(--sklearn-color-text);\n",
       "  /* unfitted */\n",
       "  background-color: var(--sklearn-color-unfitted-level-0);\n",
       "}\n",
       "\n",
       "#sk-container-id-1 div.sk-toggleable__content.fitted pre {\n",
       "  /* unfitted */\n",
       "  background-color: var(--sklearn-color-fitted-level-0);\n",
       "}\n",
       "\n",
       "#sk-container-id-1 input.sk-toggleable__control:checked~div.sk-toggleable__content {\n",
       "  /* Expand drop-down */\n",
       "  max-height: 200px;\n",
       "  max-width: 100%;\n",
       "  overflow: auto;\n",
       "}\n",
       "\n",
       "#sk-container-id-1 input.sk-toggleable__control:checked~label.sk-toggleable__label-arrow:before {\n",
       "  content: \"▾\";\n",
       "}\n",
       "\n",
       "/* Pipeline/ColumnTransformer-specific style */\n",
       "\n",
       "#sk-container-id-1 div.sk-label input.sk-toggleable__control:checked~label.sk-toggleable__label {\n",
       "  color: var(--sklearn-color-text);\n",
       "  background-color: var(--sklearn-color-unfitted-level-2);\n",
       "}\n",
       "\n",
       "#sk-container-id-1 div.sk-label.fitted input.sk-toggleable__control:checked~label.sk-toggleable__label {\n",
       "  background-color: var(--sklearn-color-fitted-level-2);\n",
       "}\n",
       "\n",
       "/* Estimator-specific style */\n",
       "\n",
       "/* Colorize estimator box */\n",
       "#sk-container-id-1 div.sk-estimator input.sk-toggleable__control:checked~label.sk-toggleable__label {\n",
       "  /* unfitted */\n",
       "  background-color: var(--sklearn-color-unfitted-level-2);\n",
       "}\n",
       "\n",
       "#sk-container-id-1 div.sk-estimator.fitted input.sk-toggleable__control:checked~label.sk-toggleable__label {\n",
       "  /* fitted */\n",
       "  background-color: var(--sklearn-color-fitted-level-2);\n",
       "}\n",
       "\n",
       "#sk-container-id-1 div.sk-label label.sk-toggleable__label,\n",
       "#sk-container-id-1 div.sk-label label {\n",
       "  /* The background is the default theme color */\n",
       "  color: var(--sklearn-color-text-on-default-background);\n",
       "}\n",
       "\n",
       "/* On hover, darken the color of the background */\n",
       "#sk-container-id-1 div.sk-label:hover label.sk-toggleable__label {\n",
       "  color: var(--sklearn-color-text);\n",
       "  background-color: var(--sklearn-color-unfitted-level-2);\n",
       "}\n",
       "\n",
       "/* Label box, darken color on hover, fitted */\n",
       "#sk-container-id-1 div.sk-label.fitted:hover label.sk-toggleable__label.fitted {\n",
       "  color: var(--sklearn-color-text);\n",
       "  background-color: var(--sklearn-color-fitted-level-2);\n",
       "}\n",
       "\n",
       "/* Estimator label */\n",
       "\n",
       "#sk-container-id-1 div.sk-label label {\n",
       "  font-family: monospace;\n",
       "  font-weight: bold;\n",
       "  display: inline-block;\n",
       "  line-height: 1.2em;\n",
       "}\n",
       "\n",
       "#sk-container-id-1 div.sk-label-container {\n",
       "  text-align: center;\n",
       "}\n",
       "\n",
       "/* Estimator-specific */\n",
       "#sk-container-id-1 div.sk-estimator {\n",
       "  font-family: monospace;\n",
       "  border: 1px dotted var(--sklearn-color-border-box);\n",
       "  border-radius: 0.25em;\n",
       "  box-sizing: border-box;\n",
       "  margin-bottom: 0.5em;\n",
       "  /* unfitted */\n",
       "  background-color: var(--sklearn-color-unfitted-level-0);\n",
       "}\n",
       "\n",
       "#sk-container-id-1 div.sk-estimator.fitted {\n",
       "  /* fitted */\n",
       "  background-color: var(--sklearn-color-fitted-level-0);\n",
       "}\n",
       "\n",
       "/* on hover */\n",
       "#sk-container-id-1 div.sk-estimator:hover {\n",
       "  /* unfitted */\n",
       "  background-color: var(--sklearn-color-unfitted-level-2);\n",
       "}\n",
       "\n",
       "#sk-container-id-1 div.sk-estimator.fitted:hover {\n",
       "  /* fitted */\n",
       "  background-color: var(--sklearn-color-fitted-level-2);\n",
       "}\n",
       "\n",
       "/* Specification for estimator info (e.g. \"i\" and \"?\") */\n",
       "\n",
       "/* Common style for \"i\" and \"?\" */\n",
       "\n",
       ".sk-estimator-doc-link,\n",
       "a:link.sk-estimator-doc-link,\n",
       "a:visited.sk-estimator-doc-link {\n",
       "  float: right;\n",
       "  font-size: smaller;\n",
       "  line-height: 1em;\n",
       "  font-family: monospace;\n",
       "  background-color: var(--sklearn-color-background);\n",
       "  border-radius: 1em;\n",
       "  height: 1em;\n",
       "  width: 1em;\n",
       "  text-decoration: none !important;\n",
       "  margin-left: 0.5em;\n",
       "  text-align: center;\n",
       "  /* unfitted */\n",
       "  border: var(--sklearn-color-unfitted-level-1) 1pt solid;\n",
       "  color: var(--sklearn-color-unfitted-level-1);\n",
       "}\n",
       "\n",
       ".sk-estimator-doc-link.fitted,\n",
       "a:link.sk-estimator-doc-link.fitted,\n",
       "a:visited.sk-estimator-doc-link.fitted {\n",
       "  /* fitted */\n",
       "  border: var(--sklearn-color-fitted-level-1) 1pt solid;\n",
       "  color: var(--sklearn-color-fitted-level-1);\n",
       "}\n",
       "\n",
       "/* On hover */\n",
       "div.sk-estimator:hover .sk-estimator-doc-link:hover,\n",
       ".sk-estimator-doc-link:hover,\n",
       "div.sk-label-container:hover .sk-estimator-doc-link:hover,\n",
       ".sk-estimator-doc-link:hover {\n",
       "  /* unfitted */\n",
       "  background-color: var(--sklearn-color-unfitted-level-3);\n",
       "  color: var(--sklearn-color-background);\n",
       "  text-decoration: none;\n",
       "}\n",
       "\n",
       "div.sk-estimator.fitted:hover .sk-estimator-doc-link.fitted:hover,\n",
       ".sk-estimator-doc-link.fitted:hover,\n",
       "div.sk-label-container:hover .sk-estimator-doc-link.fitted:hover,\n",
       ".sk-estimator-doc-link.fitted:hover {\n",
       "  /* fitted */\n",
       "  background-color: var(--sklearn-color-fitted-level-3);\n",
       "  color: var(--sklearn-color-background);\n",
       "  text-decoration: none;\n",
       "}\n",
       "\n",
       "/* Span, style for the box shown on hovering the info icon */\n",
       ".sk-estimator-doc-link span {\n",
       "  display: none;\n",
       "  z-index: 9999;\n",
       "  position: relative;\n",
       "  font-weight: normal;\n",
       "  right: .2ex;\n",
       "  padding: .5ex;\n",
       "  margin: .5ex;\n",
       "  width: min-content;\n",
       "  min-width: 20ex;\n",
       "  max-width: 50ex;\n",
       "  color: var(--sklearn-color-text);\n",
       "  box-shadow: 2pt 2pt 4pt #999;\n",
       "  /* unfitted */\n",
       "  background: var(--sklearn-color-unfitted-level-0);\n",
       "  border: .5pt solid var(--sklearn-color-unfitted-level-3);\n",
       "}\n",
       "\n",
       ".sk-estimator-doc-link.fitted span {\n",
       "  /* fitted */\n",
       "  background: var(--sklearn-color-fitted-level-0);\n",
       "  border: var(--sklearn-color-fitted-level-3);\n",
       "}\n",
       "\n",
       ".sk-estimator-doc-link:hover span {\n",
       "  display: block;\n",
       "}\n",
       "\n",
       "/* \"?\"-specific style due to the `<a>` HTML tag */\n",
       "\n",
       "#sk-container-id-1 a.estimator_doc_link {\n",
       "  float: right;\n",
       "  font-size: 1rem;\n",
       "  line-height: 1em;\n",
       "  font-family: monospace;\n",
       "  background-color: var(--sklearn-color-background);\n",
       "  border-radius: 1rem;\n",
       "  height: 1rem;\n",
       "  width: 1rem;\n",
       "  text-decoration: none;\n",
       "  /* unfitted */\n",
       "  color: var(--sklearn-color-unfitted-level-1);\n",
       "  border: var(--sklearn-color-unfitted-level-1) 1pt solid;\n",
       "}\n",
       "\n",
       "#sk-container-id-1 a.estimator_doc_link.fitted {\n",
       "  /* fitted */\n",
       "  border: var(--sklearn-color-fitted-level-1) 1pt solid;\n",
       "  color: var(--sklearn-color-fitted-level-1);\n",
       "}\n",
       "\n",
       "/* On hover */\n",
       "#sk-container-id-1 a.estimator_doc_link:hover {\n",
       "  /* unfitted */\n",
       "  background-color: var(--sklearn-color-unfitted-level-3);\n",
       "  color: var(--sklearn-color-background);\n",
       "  text-decoration: none;\n",
       "}\n",
       "\n",
       "#sk-container-id-1 a.estimator_doc_link.fitted:hover {\n",
       "  /* fitted */\n",
       "  background-color: var(--sklearn-color-fitted-level-3);\n",
       "}\n",
       "</style><div id=\"sk-container-id-1\" class=\"sk-top-container\"><div class=\"sk-text-repr-fallback\"><pre>LinearRegression()</pre><b>In a Jupyter environment, please rerun this cell to show the HTML representation or trust the notebook. <br />On GitHub, the HTML representation is unable to render, please try loading this page with nbviewer.org.</b></div><div class=\"sk-container\" hidden><div class=\"sk-item\"><div class=\"sk-estimator fitted sk-toggleable\"><input class=\"sk-toggleable__control sk-hidden--visually\" id=\"sk-estimator-id-1\" type=\"checkbox\" checked><label for=\"sk-estimator-id-1\" class=\"sk-toggleable__label fitted sk-toggleable__label-arrow\"><div><div>LinearRegression</div></div><div><a class=\"sk-estimator-doc-link fitted\" rel=\"noreferrer\" target=\"_blank\" href=\"https://scikit-learn.org/1.6/modules/generated/sklearn.linear_model.LinearRegression.html\">?<span>Documentation for LinearRegression</span></a><span class=\"sk-estimator-doc-link fitted\">i<span>Fitted</span></span></div></label><div class=\"sk-toggleable__content fitted\"><pre>LinearRegression()</pre></div> </div></div></div></div>"
      ],
      "text/plain": [
       "LinearRegression()"
      ]
     },
     "execution_count": 15,
     "metadata": {},
     "output_type": "execute_result"
    }
   ],
   "source": [
    "regresyon.fit(X_train, y_train)"
   ]
  },
  {
   "cell_type": "code",
   "execution_count": 17,
   "id": "2ba09ce6-dce6-423f-af66-b156f9f1bd6d",
   "metadata": {},
   "outputs": [
    {
     "name": "stdout",
     "output_type": "stream",
     "text": [
      "Coeficcient:  [17.77325513]\n",
      "Intercept:  71.58461538461538\n"
     ]
    }
   ],
   "source": [
    "print(\"Coeficcient: \",regresyon.coef_) #bu bizeregresyon dogrusunun egimini verir\n",
    "print(\"Intercept: \", regresyon.intercept_) #regresyon dogrusunun y eksenini kestigi noktadır"
   ]
  },
  {
   "cell_type": "markdown",
   "id": "f2143c06-a05a-4c26-be1c-182b7305fe25",
   "metadata": {},
   "source": [
    "#### denklemimiz y=17.77x + 71.58 . Ama burda söyle bisi var 0 verince 71 ama iste direk 0 saat calisan su kadar alir diyemeyiz cunku m-bu standart scale edilmis halidir . 0'a denk gelen sayiyi bulup koycaz"
   ]
  },
  {
   "cell_type": "code",
   "execution_count": 19,
   "id": "41472399-379c-47b4-8b6d-33dd10d89f9b",
   "metadata": {},
   "outputs": [
    {
     "data": {
      "image/png": "[encoded data removed]",
      "text/plain": [
       "<Figure size 640x480 with 1 Axes>"
      ]
     },
     "metadata": {},
     "output_type": "display_data"
    }
   ],
   "source": [
    "plt.scatter(X_train, y_train)\n",
    "plt.plot(X_train, regresyon.predict(X_train), \"blue\")\n",
    "plt.show()"
   ]
  },
  {
   "cell_type": "markdown",
   "id": "4c8b1474-b8de-48ba-ae9a-a307c6939eb4",
   "metadata": {},
   "source": [
    "#### iste bu sekilde de best fit line egrisini cizeriz"
   ]
  },
  {
   "cell_type": "code",
   "execution_count": 21,
   "id": "a023376c-e7f2-490c-a4a9-35a51e96dac1",
   "metadata": {},
   "outputs": [
    {
     "data": {
      "text/plain": [
       "array([427.04971807])"
      ]
     },
     "execution_count": 21,
     "metadata": {},
     "output_type": "execute_result"
    }
   ],
   "source": [
    "regresyon.predict([[20]]) #sinav skoru boyle tahmin etmeye caliscaz ama iste grafik std scaler edildigi icin 20 yerine scale edilmis halini vercez"
   ]
  },
  {
   "cell_type": "code",
   "execution_count": 23,
   "id": "149e4405-11a2-4baf-a21b-c36825d493fe",
   "metadata": {},
   "outputs": [
    {
     "name": "stderr",
     "output_type": "stream",
     "text": [
      "C:\\for code\\anaconda3\\Lib\\site-packages\\sklearn\\utils\\validation.py:2739: UserWarning: X does not have valid feature names, but StandardScaler was fitted with feature names\n",
      "  warnings.warn(\n"
     ]
    },
    {
     "data": {
      "text/plain": [
       "array([[0.63591611]])"
      ]
     },
     "execution_count": 23,
     "metadata": {},
     "output_type": "execute_result"
    }
   ],
   "source": [
    "scaler.transform([[20]]) #iste scaler edilmis hali 20'nin-->0.6356565 gibi bisi "
   ]
  },
  {
   "cell_type": "code",
   "execution_count": 27,
   "id": "62ea3ef6-c794-41cf-ba1b-081d08803b7f",
   "metadata": {},
   "outputs": [
    {
     "name": "stderr",
     "output_type": "stream",
     "text": [
      "C:\\for code\\anaconda3\\Lib\\site-packages\\sklearn\\utils\\validation.py:2739: UserWarning: X does not have valid feature names, but StandardScaler was fitted with feature names\n",
      "  warnings.warn(\n"
     ]
    },
    {
     "data": {
      "text/plain": [
       "array([82.8869146])"
      ]
     },
     "execution_count": 27,
     "metadata": {},
     "output_type": "execute_result"
    }
   ],
   "source": [
    "regresyon.predict(scaler.transform([[20]]))"
   ]
  },
  {
   "cell_type": "markdown",
   "id": "167f171c-6a0f-41c7-a459-3526da5a4db7",
   "metadata": {},
   "source": [
    " #### goruldugu uzere bu sekilde 20 saat calisan kisinin 82.88 gibi deger alicagi tahmin ediliyor"
   ]
  },
  {
   "cell_type": "markdown",
   "id": "baafa910-3160-4e9f-b1e2-2cc86148bff8",
   "metadata": {},
   "source": [
    "## Modeli Test Etmek"
   ]
  },
  {
   "cell_type": "markdown",
   "id": "e20027af-abbb-4939-8ba6-7cc95b15abf4",
   "metadata": {},
   "source": [
    "### Test datasi ile tahmin etmek"
   ]
  },
  {
   "cell_type": "code",
   "execution_count": 35,
   "id": "e46ef41f-3d57-473d-81be-fcc027e5ce15",
   "metadata": {},
   "outputs": [
    {
     "name": "stdout",
     "output_type": "stream",
     "text": [
      "[[ 1.30343053]\n",
      " [ 0.34066934]\n",
      " [-0.69911274]\n",
      " [-0.27549782]\n",
      " [ 1.30343053]\n",
      " [ 0.3021589 ]\n",
      " [ 0.80279471]] \n",
      "\n",
      " [94.75081875 77.63941854 59.15910631 66.6881224  94.75081875 76.95496253\n",
      " 85.85289064]\n",
      "\n",
      "\n",
      " 31    96.2\n",
      "15    97.0\n",
      "26    64.8\n",
      "17    74.7\n",
      "8     99.0\n",
      "9     84.6\n",
      "19    84.7\n",
      "Name: Exam Score, dtype: float64\n"
     ]
    }
   ],
   "source": [
    "print(X_test,\"\\n\\n\", regresyon.predict(X_test))\n",
    "print(\"\\n\\n\",y_test) "
   ]
  },
  {
   "cell_type": "markdown",
   "id": "fe27698f-fd30-4f21-bcf1-148619d7cfce",
   "metadata": {},
   "source": [
    "#### bu elimizdeki X_test datalarini kullanarak bize bir sonuc tahmini yapacak. Biz bunu elimizdeki __y_test__ ile karsilastirma yapmak icin bir degere esitleyelim."
   ]
  },
  {
   "cell_type": "code",
   "execution_count": 36,
   "id": "01bff540-6eb5-428c-ac3a-eab42b3edda6",
   "metadata": {},
   "outputs": [],
   "source": [
    "y_tahmin_testi=regresyon.predict(X_test)"
   ]
  },
  {
   "cell_type": "markdown",
   "id": "5d497f28-585c-4479-95e3-8beaa7482ef7",
   "metadata": {},
   "source": [
    "### biz mse, mae, r2score, rmse degerlerini olcecegiz.(hatirlayamazsan ozete bak)"
   ]
  },
  {
   "cell_type": "code",
   "execution_count": 37,
   "id": "4f471486-ff15-41a7-a96a-2ef21ecfa0f5",
   "metadata": {},
   "outputs": [],
   "source": [
    "from sklearn.metrics import mean_absolute_error, mean_squared_error, r2_score #burda maalesef adjusted r2score yok"
   ]
  },
  {
   "cell_type": "code",
   "execution_count": 38,
   "id": "e6b2f28c-6071-4cb8-bf97-035b2f2b2256",
   "metadata": {},
   "outputs": [
    {
     "name": "stdout",
     "output_type": "stream",
     "text": [
      "mse:  78.68191446465701\n",
      "mae:  6.787091909266651\n",
      "rmse:  8.870282659794839\n"
     ]
    }
   ],
   "source": [
    "mse = mean_squared_error(y_test, y_tahmin_testi)\n",
    "mae= mean_absolute_error(y_test, y_tahmin_testi)\n",
    "rmse = np.sqrt(mse)\n",
    "\n",
    "print(\"mse: \", mse)\n",
    "print(\"mae: \", mae)\n",
    "print(\"rmse: \", rmse)"
   ]
  },
  {
   "cell_type": "markdown",
   "id": "749a27c4-bc7c-49b4-9a99-3236acd74096",
   "metadata": {},
   "source": [
    "### cok fazla cikti ama bilemiyorum. mae puan sapmalari hakkinda az bucuk bilgi verebilir. <br> tabi bu degerler kendi basina pek bisi vermez. baska modeller ile kiyaslamak icin kullanilabilir"
   ]
  },
  {
   "cell_type": "code",
   "execution_count": 40,
   "id": "0c311cb4-fab9-46f0-96ca-f8a4ecd4c6bf",
   "metadata": {},
   "outputs": [
    {
     "name": "stdout",
     "output_type": "stream",
     "text": [
      "0.4349170848122318\n"
     ]
    }
   ],
   "source": [
    "r2score=r2_score(y_test, y_tahmin_testi)\n",
    "print(r2score)"
   ]
  },
  {
   "cell_type": "markdown",
   "id": "7c3119a2-f1ca-4814-a4a3-55f42f61a36e",
   "metadata": {},
   "source": [
    "#### %44 filan :) hic iyi degil aslinda model baya baya hata yapabilir.<br> adjusted r2 icin ise google den bak hesaplanmasina sonra hesapla"
   ]
  },
  {
   "cell_type": "code",
   "execution_count": 41,
   "id": "7f20d69a-9c08-4f7f-9334-821712f218af",
   "metadata": {},
   "outputs": [
    {
     "data": {
      "text/plain": [
       "0.3219005017746781"
      ]
     },
     "execution_count": 41,
     "metadata": {},
     "output_type": "execute_result"
    }
   ],
   "source": [
    "1-(1-r2score)*(len(y_test)-1)/(len(y_test) - X_test.shape[1]-1)"
   ]
  },
  {
   "cell_type": "code",
   "execution_count": null,
   "id": "b2650974-fc0d-461f-8488-d9d20b96f4da",
   "metadata": {},
   "outputs": [],
   "source": []
  }
 ],
 "metadata": {
  "kernelspec": {
   "display_name": "Python [conda env:base] *",
   "language": "python",
   "name": "conda-base-py"
  },
  "language_info": {
   "codemirror_mode": {
    "name": "ipython",
    "version": 3
   },
   "file_extension": ".py",
   "mimetype": "text/x-python",
   "name": "python",
   "nbconvert_exporter": "python",
   "pygments_lexer": "ipython3",
   "version": "3.13.5"
  }
 },
 "nbformat": 4,
 "nbformat_minor": 5
}
